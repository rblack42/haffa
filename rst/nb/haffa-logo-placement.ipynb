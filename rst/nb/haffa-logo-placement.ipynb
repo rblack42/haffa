{
 "cells": [
  {
   "cell_type": "code",
   "execution_count": 8,
   "metadata": {},
   "outputs": [],
   "source": [
    "canvas_box = [[0,912],[1075,5]]\n",
    "letterH_box = [[0,911],[205,703]]\n",
    "letterA1_box = [[205,911],[431,703]]\n",
    "letterF1_box = [[474,911],[651,703]]\n",
    "letterF2_box = [[686,911],[865,703]]\n",
    "letterA2_box = [[851,911],[1075,703]]\n",
    "pilot_box = [[582,833],[760,572]]\n",
    "airplane_box = [[709,594],[991,377]]\n",
    "heart_box = [[185,674],[820,5]]\n",
    "\n",
    "shapes = [letterH_box,\n",
    "          letterA1_box,\n",
    "          letterF1_box,\n",
    "          letterF2_box,\n",
    "          letterA2_box,\n",
    "          pilot_box,\n",
    "          airplane_box,\n",
    "          heart_box]"
   ]
  },
  {
   "cell_type": "code",
   "execution_count": 13,
   "metadata": {},
   "outputs": [
    {
     "data": {
      "image/svg+xml": [
       "<svg height=\"932\" width=\"1095\" xmlns=\"http://www.w3.org/2000/svg\">\n",
       "  <rect fill=\"none\" height=\"208\" stroke=\"black\" stroke-width=\"2\" width=\"205\" x=\"0\" y=\"703\"/>\n",
       "  <rect fill=\"none\" height=\"208\" stroke=\"black\" stroke-width=\"2\" width=\"226\" x=\"205\" y=\"703\"/>\n",
       "  <rect fill=\"none\" height=\"208\" stroke=\"black\" stroke-width=\"2\" width=\"177\" x=\"474\" y=\"703\"/>\n",
       "  <rect fill=\"none\" height=\"208\" stroke=\"black\" stroke-width=\"2\" width=\"179\" x=\"686\" y=\"703\"/>\n",
       "  <rect fill=\"none\" height=\"208\" stroke=\"black\" stroke-width=\"2\" width=\"224\" x=\"851\" y=\"703\"/>\n",
       "  <rect fill=\"none\" height=\"261\" stroke=\"black\" stroke-width=\"2\" width=\"178\" x=\"582\" y=\"572\"/>\n",
       "  <rect fill=\"none\" height=\"217\" stroke=\"black\" stroke-width=\"2\" width=\"282\" x=\"709\" y=\"377\"/>\n",
       "  <rect fill=\"none\" height=\"669\" stroke=\"black\" stroke-width=\"2\" width=\"635\" x=\"185\" y=\"5\"/></svg>"
      ],
      "text/plain": [
       "<IPython.core.display.SVG object>"
      ]
     },
     "execution_count": 13,
     "metadata": {},
     "output_type": "execute_result"
    }
   ],
   "source": [
    "w = canvas_box[1][0] + 20\n",
    "h = canvas_box[0][1] + 20\n",
    "svg = \"\"\"<svg width=\"%d\" height=\"%d\" \n",
    "    xmlns=\"http://www.w3.org/2000/svg\"\n",
    ">\"\"\" % (w,h)\n",
    "for s in shapes:\n",
    "    x1 = s[0][0]\n",
    "    y1 = s[1][1]\n",
    "    x2 = s[1][0]\n",
    "    y2 = s[0][1]\n",
    "    svg += \"\"\"\n",
    "  <rect x=\"%d\" y=\"%d\" width=\"%d\" height=\"%d\" stroke=\"black\" stroke-width=\"2\" fill=\"none\" />\"\"\" % (x1, y1, x2-x1, y2 - y1)\n",
    "svg += \"</svg>\"\n",
    "with open(\"_images/layout.svg\",\"w\") as fout:\n",
    "    fout.write(svg)\n",
    "    \n",
    "from IPython.core.display import SVG\n",
    "SVG(filename=\"_images/layout.svg\")\n"
   ]
  },
  {
   "cell_type": "code",
   "execution_count": 15,
   "metadata": {},
   "outputs": [
    {
     "ename": "TypeError",
     "evalue": "'int' object is not subscriptable",
     "output_type": "error",
     "traceback": [
      "\u001b[0;31m---------------------------------------------------------------------------\u001b[0m",
      "\u001b[0;31mTypeError\u001b[0m                                 Traceback (most recent call last)",
      "\u001b[0;32m<ipython-input-15-cddc5394444a>\u001b[0m in \u001b[0;36m<module>\u001b[0;34m\u001b[0m\n\u001b[1;32m     28\u001b[0m         \u001b[0mfout\u001b[0m\u001b[0;34m.\u001b[0m\u001b[0mwrite\u001b[0m\u001b[0;34m(\u001b[0m\u001b[0msvg\u001b[0m\u001b[0;34m)\u001b[0m\u001b[0;34m\u001b[0m\u001b[0;34m\u001b[0m\u001b[0m\n\u001b[1;32m     29\u001b[0m \u001b[0;34m\u001b[0m\u001b[0m\n\u001b[0;32m---> 30\u001b[0;31m \u001b[0mbuild_logo\u001b[0m\u001b[0;34m(\u001b[0m\u001b[0mshapes\u001b[0m\u001b[0;34m)\u001b[0m\u001b[0;34m\u001b[0m\u001b[0;34m\u001b[0m\u001b[0m\n\u001b[0m",
      "\u001b[0;32m<ipython-input-15-cddc5394444a>\u001b[0m in \u001b[0;36mbuild_logo\u001b[0;34m(data)\u001b[0m\n\u001b[1;32m     20\u001b[0m >\"\"\"\n\u001b[1;32m     21\u001b[0m     \u001b[0;32mfor\u001b[0m \u001b[0mpart\u001b[0m \u001b[0;32min\u001b[0m \u001b[0mdata\u001b[0m\u001b[0;34m:\u001b[0m\u001b[0;34m\u001b[0m\u001b[0;34m\u001b[0m\u001b[0m\n\u001b[0;32m---> 22\u001b[0;31m         \u001b[0msp\u001b[0m \u001b[0;34m=\u001b[0m \u001b[0mplace\u001b[0m\u001b[0;34m(\u001b[0m\u001b[0mpart\u001b[0m\u001b[0;34m)\u001b[0m\u001b[0;34m\u001b[0m\u001b[0;34m\u001b[0m\u001b[0m\n\u001b[0m\u001b[1;32m     23\u001b[0m         svg += \"\"\"\n\u001b[1;32m     24\u001b[0m \u001b[0;34m<\u001b[0m\u001b[0mpath\u001b[0m \u001b[0md\u001b[0m\u001b[0;34m=\u001b[0m\u001b[0;34m\"%s\"\u001b[0m \u001b[0;34m/\u001b[0m\u001b[0;34m>\u001b[0m\u001b[0;34m\u001b[0m\u001b[0;34m\u001b[0m\u001b[0m\n",
      "\u001b[0;32m<ipython-input-15-cddc5394444a>\u001b[0m in \u001b[0;36mplace\u001b[0;34m(part)\u001b[0m\n\u001b[1;32m      2\u001b[0m     \u001b[0mcomp\u001b[0m \u001b[0;34m=\u001b[0m \u001b[0mpart\u001b[0m\u001b[0;34m[\u001b[0m\u001b[0;36m0\u001b[0m\u001b[0;34m]\u001b[0m\u001b[0;34m\u001b[0m\u001b[0;34m\u001b[0m\u001b[0m\n\u001b[1;32m      3\u001b[0m     \u001b[0mbox\u001b[0m \u001b[0;34m=\u001b[0m \u001b[0mpart\u001b[0m\u001b[0;34m[\u001b[0m\u001b[0;36m1\u001b[0m\u001b[0;34m]\u001b[0m\u001b[0;34m\u001b[0m\u001b[0;34m\u001b[0m\u001b[0m\n\u001b[0;32m----> 4\u001b[0;31m     \u001b[0mx1\u001b[0m \u001b[0;34m=\u001b[0m \u001b[0mbox\u001b[0m\u001b[0;34m[\u001b[0m\u001b[0;36m0\u001b[0m\u001b[0;34m]\u001b[0m\u001b[0;34m[\u001b[0m\u001b[0;36m0\u001b[0m\u001b[0;34m]\u001b[0m\u001b[0;34m\u001b[0m\u001b[0;34m\u001b[0m\u001b[0m\n\u001b[0m\u001b[1;32m      5\u001b[0m     \u001b[0my1\u001b[0m \u001b[0;34m=\u001b[0m \u001b[0mbox\u001b[0m\u001b[0;34m[\u001b[0m\u001b[0;36m0\u001b[0m\u001b[0;34m]\u001b[0m\u001b[0;34m[\u001b[0m\u001b[0;36m1\u001b[0m\u001b[0;34m]\u001b[0m\u001b[0;34m\u001b[0m\u001b[0;34m\u001b[0m\u001b[0m\n\u001b[1;32m      6\u001b[0m     \u001b[0mx2\u001b[0m \u001b[0;34m=\u001b[0m \u001b[0mbox\u001b[0m\u001b[0;34m[\u001b[0m\u001b[0;36m1\u001b[0m\u001b[0;34m]\u001b[0m\u001b[0;34m[\u001b[0m\u001b[0;36m0\u001b[0m\u001b[0;34m]\u001b[0m\u001b[0;34m\u001b[0m\u001b[0;34m\u001b[0m\u001b[0m\n",
      "\u001b[0;31mTypeError\u001b[0m: 'int' object is not subscriptable"
     ]
    }
   ],
   "source": [
    "def place(part):\n",
    "    comp = part[0]\n",
    "    box = part[1]\n",
    "    x1 = box[0][0]\n",
    "    y1 = box[0][1]\n",
    "    x2 = box[1][0]\n",
    "    y2 = box[1][1]\n",
    "    dy = y1 - y2\n",
    "    dx = x2 - x1\n",
    "    s = 'scale(%s, %s)' % (dy/1000, dx/1000)\n",
    "    t = 'translate(%s,%s)' % (x1,y2)\n",
    "    sc = comp * s\n",
    "    tc = sc * t\n",
    "    return tc\n",
    "\n",
    "def build_logo(data):\n",
    "    svg = \"\"\"<svg\n",
    " xmlns=\"http://www.w3.org/2000/svg\"\n",
    " width=\"1076\" height=\"909\"\n",
    ">\"\"\"\n",
    "    for part in data:\n",
    "        sp = place(part)\n",
    "        svg += \"\"\"\n",
    "<path d=\"%s\" />\n",
    "\"\"\" % sp.d()\n",
    "    svg += \"</svg>\"\n",
    "    with open(\"_images/test_logo2.svg\",\"w\") as fout:\n",
    "        fout.write(svg)\n",
    "    \n",
    "build_logo(shapes)\n"
   ]
  },
  {
   "cell_type": "code",
   "execution_count": null,
   "metadata": {},
   "outputs": [],
   "source": []
  },
  {
   "cell_type": "code",
   "execution_count": null,
   "metadata": {},
   "outputs": [],
   "source": []
  }
 ],
 "metadata": {
  "kernelspec": {
   "display_name": "Python 3",
   "language": "python",
   "name": "python3"
  },
  "language_info": {
   "codemirror_mode": {
    "name": "ipython",
    "version": 3
   },
   "file_extension": ".py",
   "mimetype": "text/x-python",
   "name": "python",
   "nbconvert_exporter": "python",
   "pygments_lexer": "ipython3",
   "version": "3.7.5"
  }
 },
 "nbformat": 4,
 "nbformat_minor": 4
}
