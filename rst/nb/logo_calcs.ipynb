{
 "cells": [
  {
   "cell_type": "code",
   "execution_count": 1,
   "metadata": {},
   "outputs": [],
   "source": [
    "from sympy import *\n",
    "init_printing()"
   ]
  },
  {
   "cell_type": "code",
   "execution_count": 3,
   "metadata": {},
   "outputs": [],
   "source": [
    "r,alpha,w,h = symbols('r alpha w h')"
   ]
  },
  {
   "cell_type": "code",
   "execution_count": 34,
   "metadata": {},
   "outputs": [],
   "source": [
    "eq1 = Eq(h-2*r*sin(alpha),0)\n",
    "eq2 = Eq(w-2*r*cos(alpha),0)\n",
    "eq3 = Eq(r-500,0)\n",
    "eq4 = Eq(h - w / 1.18,0)"
   ]
  },
  {
   "cell_type": "code",
   "execution_count": 36,
   "metadata": {},
   "outputs": [
    {
     "data": {
      "image/png": "[encoded data removed]",
      "text/latex": [
       "$\\displaystyle \\left[ \\left( \\pi - \\operatorname{asin}{\\left(\\frac{h}{1000} \\right)}, \\  500\\right), \\  \\left( \\operatorname{asin}{\\left(\\frac{h}{1000} \\right)}, \\  500\\right)\\right]$"
      ],
      "text/plain": [
       "⎡⎛        ⎛ h  ⎞     ⎞  ⎛    ⎛ h  ⎞     ⎞⎤\n",
       "⎢⎜π - asin⎜────⎟, 500⎟, ⎜asin⎜────⎟, 500⎟⎥\n",
       "⎣⎝        ⎝1000⎠     ⎠  ⎝    ⎝1000⎠     ⎠⎦"
      ]
     },
     "execution_count": 36,
     "metadata": {},
     "output_type": "execute_result"
    }
   ],
   "source": [
    "solve((eq1,eq2,eq3,eq4),(alpha,r))"
   ]
  },
  {
   "cell_type": "code",
   "execution_count": 7,
   "metadata": {},
   "outputs": [
    {
     "data": {
      "image/png": "[encoded data removed]",
      "text/latex": [
       "$\\displaystyle \\left\\{ x : 2, \\  y : 3\\right\\}$"
      ],
      "text/plain": [
       "{x: 2, y: 3}"
      ]
     },
     "execution_count": 7,
     "metadata": {},
     "output_type": "execute_result"
    }
   ],
   "source": [
    "eq1 = Eq(2*x - y - 1,0)\n",
    "eq2 = Eq(x + y - 5,0)\n",
    "sol = solve((eq1, eq2),(x, y))\n",
    "sol"
   ]
  },
  {
   "cell_type": "code",
   "execution_count": 18,
   "metadata": {},
   "outputs": [],
   "source": [
    "alpha,h,w = symbols('alpha h w')"
   ]
  },
  {
   "cell_type": "code",
   "execution_count": 39,
   "metadata": {},
   "outputs": [],
   "source": [
    "e1 = Eq(h - 2 * r * sin(alpha),0)"
   ]
  },
  {
   "cell_type": "code",
   "execution_count": 40,
   "metadata": {},
   "outputs": [],
   "source": [
    "e2 = Eq(w - 2 * r * cos(alpha),0)\n",
    "e3 = Eq(a - w / h,0)"
   ]
  },
  {
   "cell_type": "code",
   "execution_count": 41,
   "metadata": {},
   "outputs": [
    {
     "data": {
      "image/png": "[encoded data removed]",
      "text/latex": [
       "$\\displaystyle \\left[ \\left( \\pi - \\operatorname{asin}{\\left(\\sqrt{\\frac{1}{a^{2} + 1}} \\right)}, \\  2 r \\sqrt{\\frac{1}{a^{2} + 1}}, \\  2 a r \\sqrt{\\frac{1}{a^{2} + 1}}\\right), \\  \\left( \\operatorname{asin}{\\left(\\sqrt{\\frac{1}{a^{2} + 1}} \\right)} + \\pi, \\  - 2 r \\sqrt{\\frac{1}{a^{2} + 1}}, \\  - 2 a r \\sqrt{\\frac{1}{a^{2} + 1}}\\right), \\  \\left( - \\operatorname{asin}{\\left(\\sqrt{\\frac{1}{a^{2} + 1}} \\right)}, \\  - 2 r \\sqrt{\\frac{1}{a^{2} + 1}}, \\  - 2 a r \\sqrt{\\frac{1}{a^{2} + 1}}\\right), \\  \\left( \\operatorname{asin}{\\left(\\sqrt{\\frac{1}{a^{2} + 1}} \\right)}, \\  2 r \\sqrt{\\frac{1}{a^{2} + 1}}, \\  2 a r \\sqrt{\\frac{1}{a^{2} + 1}}\\right)\\right]$"
      ],
      "text/plain": [
       "⎡⎛        ⎛     ________⎞           ________             ________⎞  ⎛    ⎛    \n",
       "⎢⎜        ⎜    ╱   1    ⎟          ╱   1                ╱   1    ⎟  ⎜    ⎜    \n",
       "⎢⎜π - asin⎜   ╱  ────── ⎟, 2⋅r⋅   ╱  ────── , 2⋅a⋅r⋅   ╱  ────── ⎟, ⎜asin⎜   ╱\n",
       "⎢⎜        ⎜  ╱    2     ⎟        ╱    2               ╱    2     ⎟  ⎜    ⎜  ╱ \n",
       "⎣⎝        ⎝╲╱    a  + 1 ⎠      ╲╱    a  + 1         ╲╱    a  + 1 ⎠  ⎝    ⎝╲╱  \n",
       "\n",
       " ________⎞                ________              ________⎞  ⎛     ⎛     _______\n",
       "╱   1    ⎟               ╱   1                 ╱   1    ⎟  ⎜     ⎜    ╱   1   \n",
       "  ────── ⎟ + π, -2⋅r⋅   ╱  ────── , -2⋅a⋅r⋅   ╱  ────── ⎟, ⎜-asin⎜   ╱  ──────\n",
       "   2     ⎟             ╱    2                ╱    2     ⎟  ⎜     ⎜  ╱    2    \n",
       "  a  + 1 ⎠           ╲╱    a  + 1          ╲╱    a  + 1 ⎠  ⎝     ⎝╲╱    a  + 1\n",
       "\n",
       "_⎞            ________              ________⎞  ⎛    ⎛     ________⎞           \n",
       " ⎟           ╱   1                 ╱   1    ⎟  ⎜    ⎜    ╱   1    ⎟          ╱\n",
       " ⎟, -2⋅r⋅   ╱  ────── , -2⋅a⋅r⋅   ╱  ────── ⎟, ⎜asin⎜   ╱  ────── ⎟, 2⋅r⋅   ╱ \n",
       " ⎟         ╱    2                ╱    2     ⎟  ⎜    ⎜  ╱    2     ⎟        ╱  \n",
       " ⎠       ╲╱    a  + 1          ╲╱    a  + 1 ⎠  ⎝    ⎝╲╱    a  + 1 ⎠      ╲╱   \n",
       "\n",
       "________             ________⎞⎤\n",
       "   1                ╱   1    ⎟⎥\n",
       " ────── , 2⋅a⋅r⋅   ╱  ────── ⎟⎥\n",
       "  2               ╱    2     ⎟⎥\n",
       " a  + 1         ╲╱    a  + 1 ⎠⎦"
      ]
     },
     "execution_count": 41,
     "metadata": {},
     "output_type": "execute_result"
    }
   ],
   "source": [
    "sol = solve((e1,e2,e3),(alpha,h,w))\n",
    "sol"
   ]
  },
  {
   "cell_type": "code",
   "execution_count": 42,
   "metadata": {},
   "outputs": [
    {
     "name": "stdout",
     "output_type": "stream",
     "text": [
      "(pi - asin(sqrt(1/(a**2 + 1))), 2*r*sqrt(1/(a**2 + 1)), 2*a*r*sqrt(1/(a**2 + 1)))\n"
     ]
    }
   ],
   "source": [
    "sol1 = sol[0]\n",
    "print(sol1)"
   ]
  },
  {
   "cell_type": "code",
   "execution_count": 47,
   "metadata": {},
   "outputs": [
    {
     "name": "stdout",
     "output_type": "stream",
     "text": [
      "-0.703007056389149 + pi\n",
      "1.29302938945307*r\n",
      "1.52580306658842*r\n"
     ]
    }
   ],
   "source": [
    "la = 1075 / 911\n",
    "lalpha = sol1[0].subs(a,la)\n",
    "print(lalpha)\n",
    "lh = sol1[1].subs(a,la)\n",
    "print(lh)\n",
    "lw = sol1[2].subs(a,la)\n",
    "print(lw)"
   ]
  },
  {
   "cell_type": "code",
   "execution_count": 52,
   "metadata": {},
   "outputs": [
    {
     "name": "stdout",
     "output_type": "stream",
     "text": [
      "1525.80306658842 1293.02938945307 1.18002195389682\n"
     ]
    }
   ],
   "source": [
    "hw = lw.subs(r,1000)\n",
    "hh = lh.subs(r,1000)\n",
    "print(hw,hh,hw/hh)"
   ]
  },
  {
   "cell_type": "code",
   "execution_count": 55,
   "metadata": {},
   "outputs": [
    {
     "name": "stdout",
     "output_type": "stream",
     "text": [
      "[1.41935168984969, 1.41935168984969]\n"
     ]
    }
   ],
   "source": [
    "scale = [hw/1075, hh/911]\n",
    "print(scale)"
   ]
  },
  {
   "cell_type": "code",
   "execution_count": 56,
   "metadata": {},
   "outputs": [
    {
     "name": "stdout",
     "output_type": "stream",
     "text": [
      "704.547017593574\n"
     ]
    }
   ],
   "source": [
    "print(1000/scale[0])"
   ]
  },
  {
   "cell_type": "code",
   "execution_count": null,
   "metadata": {},
   "outputs": [],
   "source": []
  }
 ],
 "metadata": {
  "kernelspec": {
   "display_name": "Python 3",
   "language": "python",
   "name": "python3"
  },
  "language_info": {
   "codemirror_mode": {
    "name": "ipython",
    "version": 3
   },
   "file_extension": ".py",
   "mimetype": "text/x-python",
   "name": "python",
   "nbconvert_exporter": "python",
   "pygments_lexer": "ipython3",
   "version": "3.7.5"
  }
 },
 "nbformat": 4,
 "nbformat_minor": 4
}
