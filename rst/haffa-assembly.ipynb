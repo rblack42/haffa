{
 "cells": [
  {
   "cell_type": "markdown",
   "metadata": {},
   "source": [
    "# Assembling the HAFFA Logo\n",
    "\n",
    "We have all the code needed to put together the basic logo. All we need to do is scale the parts and place them properly.\n",
    "\n",
    "Doing this requires some close adjustments to properly position things. This is not easy to do with code, so I used Inkscape figure out where all of the components were located on the original image. Here are the results of those measurements:"
   ]
  },
  {
   "cell_type": "code",
   "execution_count": 1,
   "metadata": {},
   "outputs": [],
   "source": [
    "canvas = [[0,909],[1076,0]]\n",
    "letterH = [[0,909],[204,697]]\n",
    "letterA1 = [[206,914],[430,697]]\n",
    "letterF1 = [[470,909],[650,701]]\n",
    "letterF2 = [[685,909],[863,698]]\n",
    "letterA2 = [[850,909],[1073,698]]\n",
    "pilot = [[580,833],[759,557]]\n",
    "airplane = [[708,592],[998,365]]\n",
    "heart = [[183,664],[817,14]]"
   ]
  },
  {
   "cell_type": "markdown",
   "metadata": {},
   "source": [
    "These may need tweaking when we assemble the final file.\n",
    "\n",
    "Next, let's list the sizes of our component files:"
   ]
  },
  {
   "cell_type": "code",
   "execution_count": 2,
   "metadata": {},
   "outputs": [],
   "source": [
    "svgH = [233,200]\n",
    "svgA = [225,200]\n",
    "svgF = [180,200]\n",
    "svgPilot = [300,300]\n",
    "svgAirplane = [290,240]"
   ]
  },
  {
   "cell_type": "markdown",
   "metadata": {},
   "source": [
    "The image sizes in the SVG files are not tightly against the images. Lets see how far off we are:"
   ]
  },
  {
   "cell_type": "code",
   "execution_count": 3,
   "metadata": {},
   "outputs": [
    {
     "name": "stdout",
     "output_type": "stream",
     "text": [
      "1076 909\n",
      "204 212\n",
      "224 217\n",
      "223 211\n",
      "180 208\n",
      "178 211\n",
      "634 650\n",
      "179 276\n",
      "290 227\n"
     ]
    }
   ],
   "source": [
    "def box(c):\n",
    "    x1 = c[0][0]\n",
    "    y1 = c[0][1]\n",
    "    x2 = c[1][0]\n",
    "    y2 = c[1][1]\n",
    "    dx = x2 - x1\n",
    "    dy = y1 - y2\n",
    "    print(dx, dy)\n",
    "    \n",
    "box(canvas)\n",
    "box(letterH)\n",
    "box(letterA1)\n",
    "box(letterA2)\n",
    "box(letterF1)\n",
    "box(letterF2)\n",
    "box(heart)\n",
    "box(pilot)\n",
    "box(airplane)"
   ]
  },
  {
   "cell_type": "markdown",
   "metadata": {},
   "source": [
    "While SVG supports merging multipls files into a single image, using the resulting set of files is a bit of a problem. It would be better is we assembled a single SVG file with all of the elements properly scaled and positioned. With the data above, we have the information needed to build a single file. Python tools will help.\n",
    "\n",
    "The **svgpathtools** library will parse our component files and extract the path data for each shape we need to process. It will also perfoem transformations on the data found allowing us ot build a final file. We need to do a bit of experimenting with this library to see how things work.\n",
    "\n",
    "Here is a simple test using our pilot file:"
   ]
  },
  {
   "cell_type": "code",
   "execution_count": 18,
   "metadata": {},
   "outputs": [],
   "source": [
    "from svgpathtools import svg2paths, wsvg\n",
    "paths, attributes = svg2paths('_images/clean-haffa-pilot.svg')"
   ]
  },
  {
   "cell_type": "code",
   "execution_count": 19,
   "metadata": {},
   "outputs": [
    {
     "name": "stdout",
     "output_type": "stream",
     "text": [
      "[Path(Line(start=(61.08+246.98j), end=(62.19+217.26999999999998j)),\n",
      "     CubicBezier(start=(62.19+217.26999999999998j), control1=(48.48+223.57j), control2=(41.16+228.11999999999998j), end=(42.86+239.32999999999998j)),\n",
      "     CubicBezier(start=(42.86+239.32999999999998j), control1=(43.67+248.08999999999997j), control2=(35.86+247.02999999999997j), end=(34.54+239.79999999999998j)),\n",
      "     CubicBezier(start=(34.54+239.79999999999998j), control1=(28.849999999999998+231.01j), control2=(26.84+224.45999999999998j), end=(38.29+221.64j)),\n",
      "     CubicBezier(start=(38.29+221.64j), control1=(47.989999999999995+216.77999999999997j), control2=(56.480000000000004+210.25j), end=(64.99+203.61999999999998j)),\n",
      "     CubicBezier(start=(64.99+203.61999999999998j), control1=(71.36+198.30999999999997j), control2=(76.97999999999999+193.14999999999998j), end=(80.82+184.22999999999996j)),\n",
      "     CubicBezier(start=(80.82+184.22999999999996j), control1=(83.91+167.82999999999996j), control2=(85.3+151.11999999999995j), end=(83.69+134.48999999999995j)),\n",
      "     Line(start=(83.69+134.48999999999995j), end=(81.53+116.03999999999995j)),\n",
      "     CubicBezier(start=(81.53+116.03999999999995j), control1=(78.9+107.48999999999995j), control2=(62.92+111.41999999999994j), end=(53.1+110.97999999999995j)),\n",
      "     CubicBezier(start=(53.1+110.97999999999995j), control1=(43.46+112.68999999999994j), control2=(33.8+114.69999999999995j), end=(24.64+118.26999999999995j)),\n",
      "     CubicBezier(start=(24.64+118.26999999999995j), control1=(16.3+114.87999999999995j), control2=(2.620000000000001+133.41999999999996j), end=(2.1000000000000014+117.61999999999995j)),\n",
      "     CubicBezier(start=(2.1000000000000014+117.61999999999995j), control1=(4.030000000000001+109.83999999999995j), control2=(15.950000000000001+112.03999999999995j), end=(22.470000000000002+109.69999999999995j)),\n",
      "     CubicBezier(start=(22.470000000000002+109.69999999999995j), control1=(29.650000000000002+108.82999999999994j), control2=(36.56+106.63999999999994j), end=(43.47+104.91999999999994j)),\n",
      "     CubicBezier(start=(43.47+104.91999999999994j), control1=(52.86+103.66999999999994j), control2=(62.18+101.83999999999995j), end=(71.61+101.08999999999995j)),\n",
      "     CubicBezier(start=(71.61+101.08999999999995j), control1=(78.13+99.33999999999995j), control2=(78.53+89.37999999999994j), end=(78.35+82.12999999999994j)),\n",
      "     CubicBezier(start=(78.35+82.12999999999994j), control1=(77.57+77.22j), control2=(78.05+71.88j), end=(74.15+68.1j)),\n",
      "     CubicBezier(start=(74.15+68.1j), control1=(67.13+64.95j), control2=(57.85+52.82j), end=(66.61+45.95j)),\n",
      "     CubicBezier(start=(66.61+45.95j), control1=(74.42+40.82j), control2=(79.59+43.92j), end=(87.41+47.080000000000005j)),\n",
      "     CubicBezier(start=(87.41+47.080000000000005j), control1=(81.38+59.480000000000004j), control2=(97.31+73.19j), end=(107.11+61.32000000000001j)),\n",
      "     CubicBezier(start=(107.11+61.32000000000001j), control1=(112.43+51.940000000000005j), control2=(116.13+41.730000000000004j), end=(121.77+32.510000000000005j)),\n",
      "     CubicBezier(start=(121.77+32.510000000000005j), control1=(126.21+25.190000000000005j), control2=(132.67+14.050000000000004j), end=(141.13+12.730000000000004j)),\n",
      "     CubicBezier(start=(141.13+12.730000000000004j), control1=(145.43+25.150000000000006j), control2=(127.35+29.080000000000005j), end=(126.11+40.71000000000001j)),\n",
      "     CubicBezier(start=(126.11+40.71000000000001j), control1=(121.61+52.17000000000001j), control2=(117.32+63.71000000000001j), end=(109.99+73.77000000000001j)),\n",
      "     CubicBezier(start=(109.99+73.77000000000001j), control1=(105.08+83.92000000000002j), control2=(107.97+95.69000000000001j), end=(106.44999999999999+106.74000000000001j)),\n",
      "     CubicBezier(start=(106.44999999999999+106.74000000000001j), control1=(106.27999999999999+127.65j), control2=(107.69999999999999+149.35000000000002j), end=(105.02999999999999+170.10000000000002j)),\n",
      "     CubicBezier(start=(105.02999999999999+170.10000000000002j), control1=(102.38999999999999+182.47000000000003j), control2=(94.97999999999999+193.23000000000002j), end=(85.1+200.98000000000002j)),\n",
      "     CubicBezier(start=(85.1+200.98000000000002j), control1=(74.69999999999999+208.77j), control2=(71.69+217.63000000000002j), end=(71.28999999999999+232.26000000000002j)),\n",
      "     CubicBezier(start=(71.28999999999999+232.26000000000002j), control1=(71.82+242.64000000000001j), control2=(69.66999999999999+252.57000000000002j), end=(70.78999999999999+263.20000000000005j)),\n",
      "     CubicBezier(start=(70.78999999999999+263.20000000000005j), control1=(70.3+271.02000000000004j), control2=(82.35999999999999+267.1j), end=(82.41999999999999+272.59000000000003j)),\n",
      "     CubicBezier(start=(82.41999999999999+272.59000000000003j), control1=(84.53999999999999+278.59000000000003j), control2=(68.96999999999998+278.42j), end=(59.97999999999999+275.02000000000004j)),\n",
      "     Line(start=(59.97999999999999+275.02000000000004j), end=(61.08+246.98j)),\n",
      "     CubicBezier(start=(1.13+1.37j), control1=(1.64-2.67j), control2=(3.94+5.29j), end=(1.13+1.37j)))]\n"
     ]
    }
   ],
   "source": [
    "print(paths)"
   ]
  },
  {
   "cell_type": "code",
   "execution_count": 16,
   "metadata": {},
   "outputs": [
    {
     "name": "stdout",
     "output_type": "stream",
     "text": [
      "[]\n"
     ]
    }
   ],
   "source": [
    "print(tree)"
   ]
  },
  {
   "cell_type": "code",
   "execution_count": null,
   "metadata": {},
   "outputs": [],
   "source": []
  }
 ],
 "metadata": {
  "kernelspec": {
   "display_name": "Python 3",
   "language": "python",
   "name": "python3"
  },
  "language_info": {
   "codemirror_mode": {
    "name": "ipython",
    "version": 3
   },
   "file_extension": ".py",
   "mimetype": "text/x-python",
   "name": "python",
   "nbconvert_exporter": "python",
   "pygments_lexer": "ipython3",
   "version": "3.7.5"
  }
 },
 "nbformat": 4,
 "nbformat_minor": 4
}
