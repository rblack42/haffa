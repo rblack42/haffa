{
 "cells": [
  {
   "cell_type": "markdown",
   "metadata": {},
   "source": [
    "# Assembling the HAFFA Logo\n",
    "\n",
    "We have all the code needed to put together the basic logo. All we need to do is scale the parts and place them properly.\n",
    "\n",
    "Doing this requires some close adjustments to properly position things. This is not easy to do with code, so I used Inkscape figure out where all of the components were located on the original image. Here are the results of those measurements:"
   ]
  },
  {
   "cell_type": "code",
   "execution_count": 146,
   "metadata": {},
   "outputs": [],
   "source": [
    "canvas_box = [[0,909],[1076,0]]\n",
    "letterH_box = [[0,909],[204,697]]\n",
    "letterA1_box = [[206,914],[430,697]]\n",
    "letterF1_box = [[470,909],[650,701]]\n",
    "letterF2_box = [[685,909],[863,698]]\n",
    "letterA2_box = [[850,909],[1073,698]]\n",
    "pilot_box = [[580,833],[759,557]]\n",
    "airplane_box = [[708,592],[998,365]]\n",
    "heart_box = [[183,664],[817,14]]"
   ]
  },
  {
   "cell_type": "markdown",
   "metadata": {},
   "source": [
    "These may need tweaking when we assemble the final file.\n",
    "\n",
    "Next, let's list the sizes of our component files:"
   ]
  },
  {
   "cell_type": "code",
   "execution_count": 147,
   "metadata": {},
   "outputs": [],
   "source": [
    "svgH = [233,200]\n",
    "svgA = [225,200]\n",
    "svgF = [180,200]\n",
    "svgPilot = [300,300]\n",
    "svgAirplane = [290,240]\n",
    "svgHeart = [638,663]"
   ]
  },
  {
   "cell_type": "markdown",
   "metadata": {},
   "source": [
    "The image sizes in the SVG files are not tightly against the images. Lets see how far off we are:"
   ]
  },
  {
   "cell_type": "code",
   "execution_count": 148,
   "metadata": {},
   "outputs": [
    {
     "name": "stdout",
     "output_type": "stream",
     "text": [
      "canvas\n",
      "1076 909\n",
      "H\n",
      "204 212\n",
      "A1\n",
      "224 217\n",
      "A2\n",
      "223 211\n",
      "F1\n",
      "180 208\n",
      "F2\n",
      "178 211\n",
      "Heart\n",
      "634 650\n",
      "Pilot\n",
      "179 276\n",
      "Airplane\n",
      "290 227\n"
     ]
    }
   ],
   "source": [
    "def box(c):\n",
    "    x1 = c[0][0]\n",
    "    y1 = c[0][1]\n",
    "    x2 = c[1][0]\n",
    "    y2 = c[1][1]\n",
    "    dx = x2 - x1\n",
    "    dy = y1 - y2\n",
    "    print(dx, dy)\n",
    "    \n",
    "print(\"canvas\")\n",
    "box(canvas_box)\n",
    "print(\"H\")\n",
    "box(letterH_box)\n",
    "print(\"A1\")\n",
    "box(letterA1_box)\n",
    "print(\"A2\")\n",
    "box(letterA2_box)\n",
    "print(\"F1\")\n",
    "box(letterF1_box)\n",
    "print(\"F2\")\n",
    "box(letterF2_box)\n",
    "print(\"Heart\")\n",
    "box(heart_box)\n",
    "print(\"Pilot\")\n",
    "box(pilot_box)\n",
    "print(\"Airplane\")\n",
    "box(airplane_box)"
   ]
  },
  {
   "cell_type": "markdown",
   "metadata": {},
   "source": [
    "While SVG does support merging multiple files into a single image, managing all those files would be a bit of a problem for users of the logo. It would be better is we assembled a single SVG file with all of the elements properly scaled and positioned. With the data above, we have the information needed to build a single file. Python tools will help.\n",
    "\n",
    "First, here are the path definitions we have come up with so far:"
   ]
  },
  {
   "cell_type": "code",
   "execution_count": 253,
   "metadata": {},
   "outputs": [],
   "source": [
    "letter_a = \"m 12.00,200.00 c 15.22,-1.96 18.85,-24.62 31.04,-33.24 17.72,-19.03 25.81,-35.79 41.73,-29.03 23.99,2.39 63.47,-2.64 87.53,0.18 17.48,0.35 15.27,-2.50 18.67,12.18 4.55,14.76 3.37,41.15 14.46,49.91 27.69,6.11 19.32,-18.74 10.62,-32.97 -12.19,-15.46 -7.82,-34.35 -17.79,-52.58 -6.65,-21.99 -13.07,-41.65 -17.81,-63.26 -3.26,-13.89 -4.24,-33.35 -11.89,-50.24 -20.09,5.07 -21.86,21.14 -35.01,32.89 -11.16,20.22 -31.38,41.06 -44.95,60.05 -10.53,20.95 -31.00,35.76 -44.60,55.25 -12.72,18.27 -28.51,33.50 -44.47,49.15 -1.45,3.48 9.48,1.09 12.47,1.71 z m 84.61,-73.38 c -24.45,5.77 -14.89,-10.96 -3.91,-21.01 13.22,-19.74 35.95,-47.59 51.08,-66.31 10.57,-18.41 17.03,-10.93 18.16,8.02 9.38,17.91 13.75,39.66 18.17,63.62 11.16,21.48 -19.04,13.43 -34.84,15.17 -16.10,2.76 -32.39,-0.04 -48.66,0.50 z\"\n",
    "letter_f = \"m 28.90,195.37 c 5.21,-21.15 12.29,-64.35 17.86,-84.24 4.75,-19.30 7.99,-44.63 12.30,-54.30 27.38,2.06 43.84,-1.11 58.21,3.00 14.10,1.20 17.81,0.39 29.81,0.53 8.10,-5.36 5.11,-9.17 9.90,-13.80 -14.68,1.26 -4.89,0.54 -18.24,0.30 -41.10,-0.09 -63.76,-3.24 -78.08,-4.19 0.27,-8.92 1.94,-14.35 6.73,-27.81 18.01,-2.48 78.17,3.29 101.18,1.82 6.84,-8.81 2.86,-5.46 11.13,-14.83 -30.98,-0.20 -46.34,3.93 -70.55,2.18 C 98.00,5.17 69.74,-1.12 50.18,0.65 52.03,14.53 44.82,42.66 39.98,58.56 39.07,79.75 23.80,141.32 18.18,164.72 9.12,183.55 8.88,192.63 0.19,199.26 18.31,198.07 17.34,196.48 28.90,195.37 Z\"\n",
    "letter_h = \"m -135.01,132.70 c 10.55,3.28 21.07,-3.95 24.21,-14.06 4.83,-12.32 4.18,-25.83 7.88,-38.45 4.57,-21.17 9.17,-42.34 14.71,-63.28 19.24,-5.95 39.28,2.22 58.89,0.25 18.34,0.45 36.97,-1.65 55.09,2.27 0.79,20.08 -5.02,39.72 -8.91,59.26 -2.76,11.18 -4.78,22.67 -8.14,33.63 -2.33,8.00 -9.35,14.56 -12.78,20.60 9.50,3.41 20.14,1.19 29.96,-0.01 4.27,-10.41 2.24,-25.11 4.40,-37.10 0.33,-13.55 7.01,-25.69 8.52,-38.90 1.49,-15.29 4.24,-30.44 8.01,-45.29 1.08,-13.96 4.10,-27.68 6.00,-41.51 2.50,-10.59 7.27,-20.62 14.02,-29.15 0.01,-11.15 -18.52,-1.56 -23.46,3.33 -7.88,7.84 -3.36,8.80 -7.32,22.43 C 33.54,-24.62 33.69,-0.80 25.56,2.37 6.58,1.88 -12.39,0.02 -31.36,0.52 c -17.99,-1.97 -36.15,-1.24 -54.14,-3.26 0.52,-14.86 5.41,-29.15 5.77,-44.03 1.92,-4.34 13.25,-18.48 4.15,-18.40 -6.78,6.10 -18.69,7.82 -23.16,15.11 4.56,9.96 0.02,20.72 -0.29,31.06 -3.72,28.61 -7.59,57.54 -17.15,84.86 -5.24,21.78 -5.42,45.98 -19.90,64.30 -0.48,1.37 -1.96,3.63 1.08,2.55 z\"\n",
    "pilot = \"m 61.08,246.98 1.11,-29.71 c -13.71,6.30 -21.03,10.85 -19.33,22.06 0.81,8.76 -7.00,7.70 -8.32,0.47 -5.69,-8.79 -7.70,-15.34 3.75,-18.16 9.70,-4.86 18.19,-11.39 26.70,-18.02 6.37,-5.31 11.99,-10.47 15.83,-19.39 3.09,-16.40 4.48,-33.11 2.87,-49.74 l -2.16,-18.45 c -2.63,-8.55 -18.61,-4.62 -28.43,-5.06 -9.64,1.71 -19.30,3.72 -28.46,7.29 -8.34,-3.39 -22.02,15.15 -22.54,-0.65 1.93,-7.78 13.85,-5.58 20.37,-7.92 7.18,-0.87 14.09,-3.06 21.00,-4.78 9.39,-1.25 18.71,-3.08 28.14,-3.83 6.52,-1.75 6.92,-11.71 6.74,-18.96 C 77.57,77.22 78.05,71.88 74.15,68.10 67.13,64.95 57.85,52.82 66.61,45.95 c 7.81,-5.13 12.98,-2.03 20.80,1.13 -6.03,12.40 9.90,26.11 19.70,14.24 5.32,-9.38 9.02,-19.59 14.66,-28.81 4.44,-7.32 10.90,-18.46 19.36,-19.78 4.30,12.42 -13.78,16.35 -15.02,27.98 -4.50,11.46 -8.79,23.00 -16.12,33.06 -4.91,10.15 -2.02,21.92 -3.54,32.97 -0.17,20.91 1.25,42.61 -1.42,63.36 -2.64,12.37 -10.05,23.13 -19.93,30.88 -10.40,7.79 -13.41,16.65 -13.81,31.28 0.53,10.38 -1.62,20.31 -0.50,30.94 -0.49,7.82 11.57,3.90 11.63,9.39 2.12,6.00 -13.45,5.83 -22.44,2.43 z\" \n",
    "airplane = \"m 85.00,230.00 c 1.82,-8.07 2.75,-11.10 4.28,-19.56 -13.24,-7.46 -49.14,-20.20 -43.66,-36.42 16.08,6.16 28.74,16.42 46.66,21.22 10.34,-35.97 28.84,-90.14 37.53,-121.74 -38.91,-16.40 -68.46,-26.26 -100.44,-40.17 -12.57,-8.46 -30.39,-19.93 -26.60,-29.01 11.12,4.34 21.52,9.25 32.72,17.12 35.38,8.33 68.27,25.07 100.42,33.37 3.97,-4.53 14.96,-26.74 14.26,-11.48 l -0.89,15.62 c 30.33,11.66 67.12,30.40 94.23,39.59 13.15,0.50 26.31,0.66 39.49,0.60 5.38,16.45 -32.26,11.59 -42.21,13.04 -38.22,-14.03 -62.04,-22.94 -98.74,-34.25 -16.97,41.21 -28.76,83.06 -41.96,119.97 14.03,6.28 25.58,12.29 40.91,17.81 1.81,13.47 -34.91,-1.27 -46.63,-4.30 -1.93,5.11 -4.53,11.30 -5.84,18.47 -2.37,0.61 -3.52,0.12 -3.52,0.12 z\"\n",
    "heart = \"M 260,510 L 10,260 A 176,176 0 0,1 260,10 176,176 0 0,1 510,260 Z\""
   ]
  },
  {
   "cell_type": "markdown",
   "metadata": {},
   "source": [
    "There are namy Python tools that can manipulate SVG data. Although it is not the best around, I chose the **svgelements** library to perform some basic path manipulations. \n",
    "\n",
    "The first task I want to set up is to generate a simple normalzed display of each of the above component paths. I chose a height os 1000 as the standard size for each component. We will scale the objects as we work out the final placement.\n",
    "\n",
    "calculate the bounding box data for each of these paths."
   ]
  },
  {
   "cell_type": "code",
   "execution_count": 254,
   "metadata": {},
   "outputs": [
    {
     "name": "stdout",
     "output_type": "stream",
     "text": [
      "M 260,510 L 10,260 A 176.777,176.777 0 0,1 260,10 A 176.777,176.777 0 0,1 510,260 Z\n"
     ]
    }
   ],
   "source": [
    "from svgelements import Path, Matrix\n",
    "\n",
    "path_a = Path(letter_a)\n",
    "path_f = Path(letter_f)\n",
    "path_h = Path(letter_h)\n",
    "path_pilot = Path(pilot)\n",
    "path_airplane = Path(airplane)\n",
    "path_heart = Path(heart)\n",
    "\n",
    "print(path_heart.d())"
   ]
  },
  {
   "cell_type": "markdown",
   "metadata": {},
   "source": [
    "We can now generate a normalized version of each pat, and display it for inspection.\n",
    "\n",
    "use these numbers to translate and scale each component so it is based at coordinate 0,0 and has a height of 1000. This will make final placement calculations a bit easier.\n",
    "\n",
    "First, we will build a function that scales and translates each of these paths to our standard height.\n",
    "\n",
    "There is a simple routine in **svgelements** package that will calculate the bounding box for a given path. From that data, we can scale and translate the path into a more workable form. \n",
    "\n",
    "Here is our normailzing function:"
   ]
  },
  {
   "cell_type": "code",
   "execution_count": 255,
   "metadata": {},
   "outputs": [],
   "source": [
    "def Normalize(path):\n",
    "    box = path.bbox()\n",
    "    x1,y1,x2,y2 = box\n",
    "    print(x1,y1,\" -\",x2,y2)\n",
    "    dx = x2 - x1\n",
    "    dy = y2 - y1\n",
    "    print(dx,dy)\n",
    "    scale = 1000 / dy\n",
    "    t = \"translate(%s,%s)\" % (-x1,-y1)\n",
    "    s = \"scale(%s)\" % scale\n",
    "    tp = path * t\n",
    "    sp = tp * s\n",
    "    print(sp.d())\n",
    "    print(sp.bbox())\n",
    "    return sp"
   ]
  },
  {
   "cell_type": "markdown",
   "metadata": {},
   "source": [
    "Now, let's normailze the parts:"
   ]
  },
  {
   "cell_type": "code",
   "execution_count": 256,
   "metadata": {},
   "outputs": [
    {
     "name": "stdout",
     "output_type": "stream",
     "text": [
      "-41.77669334351185 -41.77669334351185  - 561.7766933435119 510.0\n",
      "603.5533866870237 551.7766933435119\n",
      "M 546.918159074,1000 L 93.8363181485,546.918159074 A 320.377,320.377 0 0,1 546.918159074,93.8363181485 A 320.377,320.377 0 0,1 1000,546.918159074 Z\n",
      "(0.0, 0.0, 1093.836318148505, 1000.0)\n"
     ]
    }
   ],
   "source": [
    "na = Normalize(path_heart)"
   ]
  },
  {
   "cell_type": "code",
   "execution_count": 257,
   "metadata": {},
   "outputs": [],
   "source": [
    "def gen_svg(path):\n",
    "    box = path.bbox()\n",
    "    print(box)\n",
    "    x1,y1,x2,y2 = box\n",
    "    dx = x2 - x1 + 20\n",
    "    dy = y2 - y1 + 20\n",
    "    svg = \"\"\"<svg\n",
    " xmlns=\"http://www.w3.org/2000/svg\"\n",
    " width=\"%d\" height=\"%d\"\n",
    ">\"\"\" %(dx,dy)\n",
    "    p = path * \"translate(10,10)\"\n",
    "    svg += \"\"\"\n",
    "    <path d=\"M 10,10 h %d v 1000 h -%d v -1000 Z\" style=\"fill:none;stroke:black;stroke-width=3\" />\n",
    "    <path d=\"%s\" />\n",
    "</svg>\n",
    "    \"\"\" % (dx-20,dx-20,p.d())\n",
    "    print(svg)"
   ]
  },
  {
   "cell_type": "code",
   "execution_count": 258,
   "metadata": {},
   "outputs": [
    {
     "name": "stdout",
     "output_type": "stream",
     "text": [
      "(0.0, 0.0, 1093.836318148505, 1000.0)\n",
      "<svg\n",
      " xmlns=\"http://www.w3.org/2000/svg\"\n",
      " width=\"1113\" height=\"1020\"\n",
      ">\n",
      "    <path d=\"M 10,10 h 1093 v 1000 h -1093 v -1000 Z\" style=\"fill:none;stroke:black;stroke-width=3\" />\n",
      "    <path d=\"M 556.918159074,1010 L 103.836318149,556.918159074 A 320.377,320.377 0 0,1 556.918159074,103.836318149 A 320.377,320.377 0 0,1 1010,556.918159074 Z\" />\n",
      "</svg>\n",
      "    \n"
     ]
    }
   ],
   "source": [
    "gen_svg(na)"
   ]
  },
  {
   "cell_type": "code",
   "execution_count": 259,
   "metadata": {},
   "outputs": [
    {
     "name": "stdout",
     "output_type": "stream",
     "text": [
      "-0.6017799785059147 0.9500000000000028  - 224.3994273646377 200.94890804649575\n",
      "225.0012073431436 199.99890804649573\n",
      "M 63.0092439084,995.255433863 C 139.109659399,985.455380357 157.259758494,872.154761762 218.210091269,829.054526445 C 306.810575007,733.904006945 347.260795856,650.103549414 426.861230456,683.903733955 C 546.811885358,695.8537992 744.212963122,670.703661886 864.513619936,684.803738869 C 951.914097122,686.553748424 940.864036791,672.303670622 957.864129608,745.704071371 C 980.614253818,819.504474304 974.714221606,951.455194724 1030.16452435,995.255433863 C 1168.61528026,1025.80560066 1126.76505177,901.55492228 1083.26481427,830.404533816 C 1022.31448149,753.104111773 1044.16460079,658.653596096 994.314328618,567.503098435 C 961.064147079,457.55249813 928.96397182,359.251961432 905.263842423,251.201371501 C 888.963753428,181.750992318 884.063726675,84.4504610799 845.813517838,0 C 745.362969401,25.3501384059 736.512921082,105.700577101 670.7625621,164.450897864 C 614.962257443,265.551449849 513.861705458,369.75201876 446.011335011,464.702537168 C 393.361047552,569.453109082 291.010488742,643.50351338 223.010117476,740.954045437 C 159.409770233,832.304544189 80.4593391818,908.454959953 0.65890348999,986.705387182 C -6.59113609354,1004.10548218 48.0591622844,992.155416938 63.0092439084,995.255433863 Z M 486.061553676,628.353430664 C 363.810886215,657.203588179 411.611147194,573.553131467 466.511446937,523.302857112 C 532.611807829,424.60231823 646.262428335,285.351557953 721.912841369,191.751046916 C 774.763129919,99.7005443418 807.063306271,137.100748538 812.713337118,231.851265854 C 859.613593183,321.401754779 881.463712479,430.152348532 903.563833141,549.953002616 C 959.364137798,657.353588998 808.363313368,617.103369241 729.362882044,625.803416741 C 648.862442531,639.603492086 567.41199783,625.603415649 486.061553676,628.303430391 Z\n",
      "(0.0, 0.0, 1125.012179020674, 1000.0)\n",
      "0.19 0.33380751454900914  - 179.70000000000002 199.26\n",
      "179.51000000000002 198.92619248545097\n",
      "M 144.324885734,980.445008516 C 170.515504149,874.124167928 206.106594047,656.958195663 234.106928897,556.9713626 C 257.985131866,459.950453695 274.272579786,332.616794494 295.938907112,284.00580024 C 433.577896014,294.361399843 516.322153039,278.42584123 588.560000758,299.086770536 C 659.44056115,305.119158654 678.090694416,301.047296674 738.414575601,301.751075288 C 779.1331954,274.806408359 764.102495005,255.653576083 788.181777578,232.378611926 C 714.385562929,238.71261945 763.599795995,235.093186579 696.489478177,233.886708955 C 489.88018512,233.434279847 375.968589483,217.599261036 303.982091269,212.823620442 C 305.339378596,167.982868761 313.734452061,140.686312525 337.813734634,73.0230257964 C 428.349826312,60.5560903516 730.773550651,89.5618232212 846.444592822,82.1721477761 C 880.829205097,37.8843650064 860.821784504,54.7247818371 902.394992621,7.62188461211 C 746.658839363,6.61648659237 669.444271446,27.3779557001 547.740841156,18.5807230273 C 491.689901556,24.3114917399 349.627161366,-7.30827598108 251.299235035,1.58949649365 C 260.599166718,71.3641190639 224.354568106,212.773350541 200.023936028,292.70249311 C 195.449375038,399.224413302 118.687236231,708.73619368 90.4355518759,826.36776199 C 44.8910215816,921.025985549 43.6845439579,966.671055646 0,1000 C 91.0890605888,994.017881783 86.212880193,986.024967526 144.324885734,980.445008516 Z\n",
      "(0.0, 0.0, 902.3949926208384, 1000.0)\n",
      "-136.86414257388967 -65.17033808928802  - 66.85000404593788 134.73542642321732\n",
      "203.71414661982755 199.90576451250536\n",
      "M 9.27508307933,989.818070388 C 62.0499494056,1006.22580134 114.674745022,970.058760247 130.382145995,919.484931 C 154.543530294,857.855892788 151.291998245,790.274049748 169.800719137,727.144304436 C 192.661490617,621.244406794 215.672332807,515.344509152 243.385390574,410.595153619 C 339.630739211,380.831129482 439.877973446,421.700386154 537.974194172,411.845742868 C 629.71742151,414.096803517 722.911332379,403.591853822 813.554041178,423.201093253 C 817.505903206,523.648421768 788.442209049,621.894713204 768.983040328,719.64076894 C 755.176535014,775.567120175 745.071773879,833.044202079 728.263854366,887.870034774 C 716.608362561,927.888890756 681.491816437,960.704352661 664.333731935,990.918588928 C 711.856123414,1007.97662629 765.08120187,996.871393755 814.204347588,990.868565358 C 835.564411968,938.794029011 825.409627262,865.259381144 836.214718378,805.281120741 C 837.865496187,737.499183422 871.281240932,676.770569469 878.834799998,610.689433529 C 886.288311925,534.203395033 900.044793669,458.417686517 918.90367955,384.132685101 C 924.306225108,314.299781412 939.413343241,245.667443403 948.917821537,176.484846124 C 961.423714031,123.509885518 985.284956911,73.3362448304 1019.05086665,30.6661396395 C 1019.10089022,-25.1101408854 926.407215047,22.862462723 901.695571478,47.323988442 C 862.276998336,86.5424673044 884.887651966,91.3447300223 865.078318255,159.526855902 C 852.42235505,202.847267502 853.1727086,322.003411189 812.503546208,337.860882871 C 717.558810391,335.409727943 622.664098144,326.105343927 527.769385896,328.606522426 C 437.776983507,318.75187914 346.934180428,322.403599748 256.941778038,312.298838613 C 259.543003677,237.963813626 284.004529396,166.480132128 285.805377915,92.0450600019 C 295.409903351,70.3348306317 352.086608135,-0.398497316504 306.565159456,0.00169124331575 C 272.649179011,30.5160689296 213.071107168,39.1201229657 190.710571388,75.5873054793 C 213.521319298,125.410781177 190.810618528,179.236142473 189.259887858,230.96051383 C 170.651119827,374.077947535 151.291998245,518.79613548 103.469465347,655.460528659 C 77.2571146788,764.41186407 76.3566904192,885.468903415 3.92256109173,977.112083614 C 1.52142973281,983.965312701 -5.88205862386,995.270639516 9.3251066493,989.868093958 Z\n",
      "(0.0, 0.0, 1019.0508868846748, 999.9999999999999)\n",
      "2.1000000000000014 12.730000000000004  - 141.7897272283778 277.38159729433863\n",
      "139.68972722837782 264.6515972943386\n",
      "M 222.859036571,885.125963323 L 227.053230037,772.865163449 C 175.249272909,796.67004528 147.590267353,813.862459936 154.013806894,856.220035385 C 157.074434558,889.320156788 127.563938193,885.314890956 122.576248667,857.99595514 C 101.076283965,824.782477157 93.4813930954,800.032957158 136.745821185,789.377438624 C 173.3977821,771.01367264 205.477694282,746.339723695 237.633177517,721.287919482 C 261.702558035,701.223804796 282.938024049,681.72647301 297.447666308,648.02178318 C 309.123394064,586.053519365 314.375582277,522.913904223 308.292112476,460.076573294 L 300.130438705,390.362276503 C 290.192845179,358.055651161 229.811573487,372.90536316 192.706186252,371.242799985 C 156.280938497,377.704125053 119.78011969,385.299015923 85.1685772179,398.788448961 C 53.6554479367,385.979155404 1.96484738923,456.033521936 0,396.332389724 C 7.29260665619,366.935249939 52.3329545017,375.248065817 76.9691179205,366.406252565 C 104.099126103,363.118911741 130.208925063,354.84388139 156.318724024,348.344770795 C 191.79933361,343.621579955 227.01544451,336.706828566 262.647196203,333.872914063 C 287.283359622,327.260446887 288.79478069,289.626062278 288.11464121,262.231555409 C 285.167370126,243.678861792 286.981075408,223.501390525 272.244719989,209.218461427 C 245.719280234,197.316020511 210.654311442,151.482176604 243.754432845,125.523519751 C 273.26492921,106.139544545 292.800046522,117.853057827 322.348328414,129.793284269 C 299.563655805,176.647337397 359.755999863,228.451294525 396.785816045,183.599874313 C 416.887716258,148.157050253 430.868361143,109.578027476 452.17939821,74.7397718443 C 468.956172072,47.0807662881 493.365622331,4.98768952651 525.332177933,0 C 541.579954421,46.9296241813 473.263722118,61.7793361807 468.578316805,105.723903751 C 451.574829783,149.026117368 435.364838822,192.630615198 407.668047739,230.642855075 C 389.115354121,268.995164691 400.035371342,313.468729636 394.291971282,355.221736657 C 393.649617327,434.23127302 399.015162121,516.225865994 388.926426488,594.63083393 C 378.951047435,641.371530478 350.951972138,682.028757224 313.619871743,711.312540429 C 274.322923958,740.747465741 262.949480417,774.225442411 261.438059348,829.505667997 C 263.440692264,868.727044728 255.31680402,906.248072757 259.548783012,946.414087656 C 257.697292203,975.962369548 303.266637423,961.150443075 303.493350583,981.894697242 C 311.503882247,1004.56601327 252.67181715,1003.92365932 218.702628632,991.076580234 Z\n",
      "(0.0, 0.0, 527.8249920140045, 1000.0)\n",
      "2.251699321744244 4.3199999999999825  - 283.5233852001789 230.18614611763772\n",
      "281.27168587843465 225.86614611763773\n",
      "M 366.359908736,999.175856494 C 374.417778547,963.446730466 378.535261472,950.031705452 385.309184994,912.575893036 C 326.690395823,879.547481616 167.746700112,823.142392943 192.008857563,751.329948808 C 263.201465559,778.602738936 319.252362152,824.027873142 398.591387978,845.279397916 C 444.370714264,686.025784135 526.277632666,446.19347225 564.751747311,306.287600816 C 392.481574605,233.678224503 261.651875211,190.024050694 120.063591399,128.438902857 C 64.4111608947,90.983090442 -14.4851248316,40.2008010323 2.29472493849,0 C 51.527424,19.2149203172 97.5723943454,40.9534592014 147.159285486,75.79710503 C 303.80073268,112.677355316 449.417951398,186.792047968 591.758893379,223.539476225 C 609.335675328,203.483349718 657.99281226,105.150773625 654.893631564,172.712912805 L 650.953244678,241.868916343 C 785.236316849,293.492411942 948.120399445,376.461906583 1068.14724041,417.149721725 C 1126.36756349,419.363422222 1184.63216058,420.071806381 1242.9853057,419.806162322 C 1266.80472305,492.636908685 1100.1573496,471.119739851 1056.10470971,477.539471293 C 886.889443688,415.423035337 781.428751993,375.974892474 618.943135486,325.900987223 C 543.810140606,508.354182216 491.611082877,693.640913846 433.169389747,857.056284562 C 495.285825703,884.860362809 546.422307192,911.469042788 614.294364442,935.908296279 C 622.307960242,995.545387678 459.733795715,930.285497015 407.844656057,916.870472001 C 399.299772137,939.494491084 387.788529551,966.900103242 381.988634248,998.644568374 C 371.49569389,1001.34528298 366.404182746,999.175856494 366.404182746,999.175856494 Z\n",
      "(0.0, 0.0, 1245.302541851226, 1000.0)\n",
      "-41.77669334351185 -41.77669334351185  - 561.7766933435119 510.0\n",
      "603.5533866870237 551.7766933435119\n",
      "M 546.918159074,1000 L 93.8363181485,546.918159074 A 320.377,320.377 0 0,1 546.918159074,93.8363181485 A 320.377,320.377 0 0,1 1000,546.918159074 Z\n",
      "(0.0, 0.0, 1093.836318148505, 1000.0)\n",
      "(0.0, 0.0, 1093.836318148505, 1000.0)\n"
     ]
    }
   ],
   "source": [
    "normalized_a = Normalize(path_a)\n",
    "normalized_f = Normalize(path_f)\n",
    "normalized_h = Normalize(path_h)\n",
    "normalized_pilot = Normalize(path_pilot)\n",
    "normailzed_airplane = Normalize(path_airplane)\n",
    "normalized_heart = Normalize(path_heart)\n",
    "\n",
    "print(normalized_heart.bbox())"
   ]
  },
  {
   "cell_type": "markdown",
   "metadata": {},
   "source": [
    "With all of these calculations completed, we can now try to assemble the logo. For this first attempt, we will use the coordinates of the bounding boxes shown above for this experiment."
   ]
  },
  {
   "cell_type": "code",
   "execution_count": 260,
   "metadata": {},
   "outputs": [],
   "source": [
    "data = [\n",
    "    [normalized_a, letterA1_box],\n",
    "    [normalized_f, letterF1_box],\n",
    "    [normalized_a, letterA2_box],\n",
    "    [normalized_f, letterF2_box],\n",
    "    [normalized_h, letterH_box],\n",
    "    [normalized_pilot, pilot_box],\n",
    "    [normailzed_airplane, airplane_box],\n",
    "    [normalized_heart, heart_box]]"
   ]
  },
  {
   "cell_type": "code",
   "execution_count": 262,
   "metadata": {
    "scrolled": false
   },
   "outputs": [
    {
     "name": "stdout",
     "output_type": "stream",
     "text": [
      "[[Path(Move(end=Point(12,200)), CubicBezier(start=Point(12,200), control1=Point(27.22,198.04), control2=Point(30.85,175.38), end=Point(43.04,166.76)), CubicBezier(start=Point(43.04,166.76), control1=Point(60.76,147.73), control2=Point(68.85,130.97), end=Point(84.77,137.73)), CubicBezier(start=Point(84.77,137.73), control1=Point(108.76,140.12), control2=Point(148.24,135.09), end=Point(172.3,137.91)), CubicBezier(start=Point(172.3,137.91), control1=Point(189.78,138.26), control2=Point(187.57,135.41), end=Point(190.97,150.09)), CubicBezier(start=Point(190.97,150.09), control1=Point(195.52,164.85), control2=Point(194.34,191.24), end=Point(205.43,200)), CubicBezier(start=Point(205.43,200), control1=Point(233.12,206.11), control2=Point(224.75,181.26), end=Point(216.05,167.03)), CubicBezier(start=Point(216.05,167.03), control1=Point(203.86,151.57), control2=Point(208.23,132.68), end=Point(198.26,114.45)), CubicBezier(start=Point(198.26,114.45), control1=Point(191.61,92.46), control2=Point(185.19,72.8), end=Point(180.45,51.19)), CubicBezier(start=Point(180.45,51.19), control1=Point(177.19,37.3), control2=Point(176.21,17.84), end=Point(168.56,0.95)), CubicBezier(start=Point(168.56,0.95), control1=Point(148.47,6.02), control2=Point(146.7,22.09), end=Point(133.55,33.84)), CubicBezier(start=Point(133.55,33.84), control1=Point(122.39,54.06), control2=Point(102.17,74.9), end=Point(88.6,93.89)), CubicBezier(start=Point(88.6,93.89), control1=Point(78.07,114.84), control2=Point(57.6,129.65), end=Point(44,149.14)), CubicBezier(start=Point(44,149.14), control1=Point(31.28,167.41), control2=Point(15.49,182.64), end=Point(-0.47,198.29)), CubicBezier(start=Point(-0.47,198.29), control1=Point(-1.92,201.77), control2=Point(9.01,199.38), end=Point(12,200)), Close(start=Point(12,200), end=Point(12,200)), Move(start=Point(12,200), end=Point(96.61,126.62)), CubicBezier(start=Point(96.61,126.62), control1=Point(72.16,132.39), control2=Point(81.72,115.66), end=Point(92.7,105.61)), CubicBezier(start=Point(92.7,105.61), control1=Point(105.92,85.87), control2=Point(128.65,58.02), end=Point(143.78,39.3)), CubicBezier(start=Point(143.78,39.3), control1=Point(154.35,20.89), control2=Point(160.81,28.37), end=Point(161.94,47.32)), CubicBezier(start=Point(161.94,47.32), control1=Point(171.32,65.23), control2=Point(175.69,86.98), end=Point(180.11,110.94)), CubicBezier(start=Point(180.11,110.94), control1=Point(191.27,132.42), control2=Point(161.07,124.37), end=Point(145.27,126.11)), CubicBezier(start=Point(145.27,126.11), control1=Point(129.17,128.87), control2=Point(112.88,126.07), end=Point(96.61,126.61)), Close(start=Point(96.61,126.61), end=Point(96.61,126.62)), transform=Matrix(5.000027298987, 0, 0, 5.000027298987, 3.008916320513, -4.750025934037)), [[206, 914], [430, 697]]], [Path(Move(end=Point(28.9,195.37)), CubicBezier(start=Point(28.9,195.37), control1=Point(34.11,174.22), control2=Point(41.19,131.02), end=Point(46.76,111.13)), CubicBezier(start=Point(46.76,111.13), control1=Point(51.51,91.83), control2=Point(54.75,66.5), end=Point(59.06,56.83)), CubicBezier(start=Point(59.06,56.83), control1=Point(86.44,58.89), control2=Point(102.9,55.72), end=Point(117.27,59.83)), CubicBezier(start=Point(117.27,59.83), control1=Point(131.37,61.03), control2=Point(135.08,60.22), end=Point(147.08,60.36)), CubicBezier(start=Point(147.08,60.36), control1=Point(155.18,55), control2=Point(152.19,51.19), end=Point(156.98,46.56)), CubicBezier(start=Point(156.98,46.56), control1=Point(142.3,47.82), control2=Point(152.09,47.1), end=Point(138.74,46.86)), CubicBezier(start=Point(138.74,46.86), control1=Point(97.64,46.77), control2=Point(74.98,43.62), end=Point(60.66,42.67)), CubicBezier(start=Point(60.66,42.67), control1=Point(60.93,33.75), control2=Point(62.6,28.32), end=Point(67.39,14.86)), CubicBezier(start=Point(67.39,14.86), control1=Point(85.4,12.38), control2=Point(145.56,18.15), end=Point(168.57,16.68)), CubicBezier(start=Point(168.57,16.68), control1=Point(175.41,7.87), control2=Point(171.43,11.22), end=Point(179.7,1.85)), CubicBezier(start=Point(179.7,1.85), control1=Point(148.72,1.65), control2=Point(133.36,5.78), end=Point(109.15,4.03)), CubicBezier(start=Point(109.15,4.03), control1=Point(98,5.17), control2=Point(69.74,-1.12), end=Point(50.18,0.65)), CubicBezier(start=Point(50.18,0.65), control1=Point(52.03,14.53), control2=Point(44.82,42.66), end=Point(39.98,58.56)), CubicBezier(start=Point(39.98,58.56), control1=Point(39.07,79.75), control2=Point(23.8,141.32), end=Point(18.18,164.72)), CubicBezier(start=Point(18.18,164.72), control1=Point(9.12,183.55), control2=Point(8.88,192.63), end=Point(0.19,199.26)), CubicBezier(start=Point(0.19,199.26), control1=Point(18.31,198.07), control2=Point(17.34,196.48), end=Point(28.9,195.37)), Close(start=Point(28.9,195.37), end=Point(28.9,195.37)), transform=Matrix(5.026990098718, 0, 0, 5.026990098718, -0.955128118756, -1.678047070515)), [[470, 909], [650, 701]]], [Path(Move(end=Point(12,200)), CubicBezier(start=Point(12,200), control1=Point(27.22,198.04), control2=Point(30.85,175.38), end=Point(43.04,166.76)), CubicBezier(start=Point(43.04,166.76), control1=Point(60.76,147.73), control2=Point(68.85,130.97), end=Point(84.77,137.73)), CubicBezier(start=Point(84.77,137.73), control1=Point(108.76,140.12), control2=Point(148.24,135.09), end=Point(172.3,137.91)), CubicBezier(start=Point(172.3,137.91), control1=Point(189.78,138.26), control2=Point(187.57,135.41), end=Point(190.97,150.09)), CubicBezier(start=Point(190.97,150.09), control1=Point(195.52,164.85), control2=Point(194.34,191.24), end=Point(205.43,200)), CubicBezier(start=Point(205.43,200), control1=Point(233.12,206.11), control2=Point(224.75,181.26), end=Point(216.05,167.03)), CubicBezier(start=Point(216.05,167.03), control1=Point(203.86,151.57), control2=Point(208.23,132.68), end=Point(198.26,114.45)), CubicBezier(start=Point(198.26,114.45), control1=Point(191.61,92.46), control2=Point(185.19,72.8), end=Point(180.45,51.19)), CubicBezier(start=Point(180.45,51.19), control1=Point(177.19,37.3), control2=Point(176.21,17.84), end=Point(168.56,0.95)), CubicBezier(start=Point(168.56,0.95), control1=Point(148.47,6.02), control2=Point(146.7,22.09), end=Point(133.55,33.84)), CubicBezier(start=Point(133.55,33.84), control1=Point(122.39,54.06), control2=Point(102.17,74.9), end=Point(88.6,93.89)), CubicBezier(start=Point(88.6,93.89), control1=Point(78.07,114.84), control2=Point(57.6,129.65), end=Point(44,149.14)), CubicBezier(start=Point(44,149.14), control1=Point(31.28,167.41), control2=Point(15.49,182.64), end=Point(-0.47,198.29)), CubicBezier(start=Point(-0.47,198.29), control1=Point(-1.92,201.77), control2=Point(9.01,199.38), end=Point(12,200)), Close(start=Point(12,200), end=Point(12,200)), Move(start=Point(12,200), end=Point(96.61,126.62)), CubicBezier(start=Point(96.61,126.62), control1=Point(72.16,132.39), control2=Point(81.72,115.66), end=Point(92.7,105.61)), CubicBezier(start=Point(92.7,105.61), control1=Point(105.92,85.87), control2=Point(128.65,58.02), end=Point(143.78,39.3)), CubicBezier(start=Point(143.78,39.3), control1=Point(154.35,20.89), control2=Point(160.81,28.37), end=Point(161.94,47.32)), CubicBezier(start=Point(161.94,47.32), control1=Point(171.32,65.23), control2=Point(175.69,86.98), end=Point(180.11,110.94)), CubicBezier(start=Point(180.11,110.94), control1=Point(191.27,132.42), control2=Point(161.07,124.37), end=Point(145.27,126.11)), CubicBezier(start=Point(145.27,126.11), control1=Point(129.17,128.87), control2=Point(112.88,126.07), end=Point(96.61,126.61)), Close(start=Point(96.61,126.61), end=Point(96.61,126.62)), transform=Matrix(5.000027298987, 0, 0, 5.000027298987, 3.008916320513, -4.750025934037)), [[850, 909], [1073, 698]]], [Path(Move(end=Point(28.9,195.37)), CubicBezier(start=Point(28.9,195.37), control1=Point(34.11,174.22), control2=Point(41.19,131.02), end=Point(46.76,111.13)), CubicBezier(start=Point(46.76,111.13), control1=Point(51.51,91.83), control2=Point(54.75,66.5), end=Point(59.06,56.83)), CubicBezier(start=Point(59.06,56.83), control1=Point(86.44,58.89), control2=Point(102.9,55.72), end=Point(117.27,59.83)), CubicBezier(start=Point(117.27,59.83), control1=Point(131.37,61.03), control2=Point(135.08,60.22), end=Point(147.08,60.36)), CubicBezier(start=Point(147.08,60.36), control1=Point(155.18,55), control2=Point(152.19,51.19), end=Point(156.98,46.56)), CubicBezier(start=Point(156.98,46.56), control1=Point(142.3,47.82), control2=Point(152.09,47.1), end=Point(138.74,46.86)), CubicBezier(start=Point(138.74,46.86), control1=Point(97.64,46.77), control2=Point(74.98,43.62), end=Point(60.66,42.67)), CubicBezier(start=Point(60.66,42.67), control1=Point(60.93,33.75), control2=Point(62.6,28.32), end=Point(67.39,14.86)), CubicBezier(start=Point(67.39,14.86), control1=Point(85.4,12.38), control2=Point(145.56,18.15), end=Point(168.57,16.68)), CubicBezier(start=Point(168.57,16.68), control1=Point(175.41,7.87), control2=Point(171.43,11.22), end=Point(179.7,1.85)), CubicBezier(start=Point(179.7,1.85), control1=Point(148.72,1.65), control2=Point(133.36,5.78), end=Point(109.15,4.03)), CubicBezier(start=Point(109.15,4.03), control1=Point(98,5.17), control2=Point(69.74,-1.12), end=Point(50.18,0.65)), CubicBezier(start=Point(50.18,0.65), control1=Point(52.03,14.53), control2=Point(44.82,42.66), end=Point(39.98,58.56)), CubicBezier(start=Point(39.98,58.56), control1=Point(39.07,79.75), control2=Point(23.8,141.32), end=Point(18.18,164.72)), CubicBezier(start=Point(18.18,164.72), control1=Point(9.12,183.55), control2=Point(8.88,192.63), end=Point(0.19,199.26)), CubicBezier(start=Point(0.19,199.26), control1=Point(18.31,198.07), control2=Point(17.34,196.48), end=Point(28.9,195.37)), Close(start=Point(28.9,195.37), end=Point(28.9,195.37)), transform=Matrix(5.026990098718, 0, 0, 5.026990098718, -0.955128118756, -1.678047070515)), [[685, 909], [863, 698]]], [Path(Move(end=Point(-135.01,132.7)), CubicBezier(start=Point(-135.01,132.7), control1=Point(-124.46,135.98), control2=Point(-113.94,128.75), end=Point(-110.8,118.64)), CubicBezier(start=Point(-110.8,118.64), control1=Point(-105.97,106.32), control2=Point(-106.62,92.81), end=Point(-102.92,80.19)), CubicBezier(start=Point(-102.92,80.19), control1=Point(-98.35,59.02), control2=Point(-93.75,37.85), end=Point(-88.21,16.91)), CubicBezier(start=Point(-88.21,16.91), control1=Point(-68.97,10.96), control2=Point(-48.93,19.13), end=Point(-29.32,17.16)), CubicBezier(start=Point(-29.32,17.16), control1=Point(-10.98,17.61), control2=Point(7.65,15.51), end=Point(25.77,19.43)), CubicBezier(start=Point(25.77,19.43), control1=Point(26.56,39.51), control2=Point(20.75,59.15), end=Point(16.86,78.69)), CubicBezier(start=Point(16.86,78.69), control1=Point(14.1,89.87), control2=Point(12.08,101.36), end=Point(8.72,112.32)), CubicBezier(start=Point(8.72,112.32), control1=Point(6.39,120.32), control2=Point(-0.63,126.88), end=Point(-4.06,132.92)), CubicBezier(start=Point(-4.06,132.92), control1=Point(5.44,136.33), control2=Point(16.08,134.11), end=Point(25.9,132.91)), CubicBezier(start=Point(25.9,132.91), control1=Point(30.17,122.5), control2=Point(28.14,107.8), end=Point(30.3,95.81)), CubicBezier(start=Point(30.3,95.81), control1=Point(30.63,82.26), control2=Point(37.31,70.12), end=Point(38.82,56.91)), CubicBezier(start=Point(38.82,56.91), control1=Point(40.31,41.62), control2=Point(43.06,26.47), end=Point(46.83,11.62)), CubicBezier(start=Point(46.83,11.62), control1=Point(47.91,-2.34), control2=Point(50.93,-16.06), end=Point(52.83,-29.89)), CubicBezier(start=Point(52.83,-29.89), control1=Point(55.33,-40.48), control2=Point(60.1,-50.51), end=Point(66.85,-59.04)), CubicBezier(start=Point(66.85,-59.04), control1=Point(66.86,-70.19), control2=Point(48.33,-60.6), end=Point(43.39,-55.71)), CubicBezier(start=Point(43.39,-55.71), control1=Point(35.51,-47.87), control2=Point(40.03,-46.91), end=Point(36.07,-33.28)), CubicBezier(start=Point(36.07,-33.28), control1=Point(33.54,-24.62), control2=Point(33.69,-0.8), end=Point(25.56,2.37)), CubicBezier(start=Point(25.56,2.37), control1=Point(6.58,1.88), control2=Point(-12.39,0.02), end=Point(-31.36,0.52)), CubicBezier(start=Point(-31.36,0.52), control1=Point(-49.35,-1.45), control2=Point(-67.51,-0.72), end=Point(-85.5,-2.74)), CubicBezier(start=Point(-85.5,-2.74), control1=Point(-84.98,-17.6), control2=Point(-80.09,-31.89), end=Point(-79.73,-46.77)), CubicBezier(start=Point(-79.73,-46.77), control1=Point(-77.81,-51.11), control2=Point(-66.48,-65.25), end=Point(-75.58,-65.17)), CubicBezier(start=Point(-75.58,-65.17), control1=Point(-82.36,-59.07), control2=Point(-94.27,-57.35), end=Point(-98.74,-50.06)), CubicBezier(start=Point(-98.74,-50.06), control1=Point(-94.18,-40.1), control2=Point(-98.72,-29.34), end=Point(-99.03,-19)), CubicBezier(start=Point(-99.03,-19), control1=Point(-102.75,9.61), control2=Point(-106.62,38.54), end=Point(-116.18,65.86)), CubicBezier(start=Point(-116.18,65.86), control1=Point(-121.42,87.64), control2=Point(-121.6,111.84), end=Point(-136.08,130.16)), CubicBezier(start=Point(-136.08,130.16), control1=Point(-136.56,131.53), control2=Point(-138.04,133.79), end=Point(-135,132.71)), Close(start=Point(-135,132.71), end=Point(-135.01,132.7)), transform=Matrix(5.002356997752, 0, 0, 5.002356997752, 684.64330134576, 326.005296786783)), [[0, 909], [204, 697]]], [Path(Move(end=Point(61.08,246.98)), Line(start=Point(61.08,246.98), end=Point(62.19,217.27)), CubicBezier(start=Point(62.19,217.27), control1=Point(48.48,223.57), control2=Point(41.16,228.12), end=Point(42.86,239.33)), CubicBezier(start=Point(42.86,239.33), control1=Point(43.67,248.09), control2=Point(35.86,247.03), end=Point(34.54,239.8)), CubicBezier(start=Point(34.54,239.8), control1=Point(28.85,231.01), control2=Point(26.84,224.46), end=Point(38.29,221.64)), CubicBezier(start=Point(38.29,221.64), control1=Point(47.99,216.78), control2=Point(56.48,210.25), end=Point(64.99,203.62)), CubicBezier(start=Point(64.99,203.62), control1=Point(71.36,198.31), control2=Point(76.98,193.15), end=Point(80.82,184.23)), CubicBezier(start=Point(80.82,184.23), control1=Point(83.91,167.83), control2=Point(85.3,151.12), end=Point(83.69,134.49)), Line(start=Point(83.69,134.49), end=Point(81.53,116.04)), CubicBezier(start=Point(81.53,116.04), control1=Point(78.9,107.49), control2=Point(62.92,111.42), end=Point(53.1,110.98)), CubicBezier(start=Point(53.1,110.98), control1=Point(43.46,112.69), control2=Point(33.8,114.7), end=Point(24.64,118.27)), CubicBezier(start=Point(24.64,118.27), control1=Point(16.3,114.88), control2=Point(2.62,133.42), end=Point(2.1,117.62)), CubicBezier(start=Point(2.1,117.62), control1=Point(4.03,109.84), control2=Point(15.95,112.04), end=Point(22.47,109.7)), CubicBezier(start=Point(22.47,109.7), control1=Point(29.65,108.83), control2=Point(36.56,106.64), end=Point(43.47,104.92)), CubicBezier(start=Point(43.47,104.92), control1=Point(52.86,103.67), control2=Point(62.18,101.84), end=Point(71.61,101.09)), CubicBezier(start=Point(71.61,101.09), control1=Point(78.13,99.34), control2=Point(78.53,89.38), end=Point(78.35,82.13)), CubicBezier(start=Point(78.35,82.13), control1=Point(77.57,77.22), control2=Point(78.05,71.88), end=Point(74.15,68.1)), CubicBezier(start=Point(74.15,68.1), control1=Point(67.13,64.95), control2=Point(57.85,52.82), end=Point(66.61,45.95)), CubicBezier(start=Point(66.61,45.95), control1=Point(74.42,40.82), control2=Point(79.59,43.92), end=Point(87.41,47.08)), CubicBezier(start=Point(87.41,47.08), control1=Point(81.38,59.48), control2=Point(97.31,73.19), end=Point(107.11,61.32)), CubicBezier(start=Point(107.11,61.32), control1=Point(112.43,51.94), control2=Point(116.13,41.73), end=Point(121.77,32.51)), CubicBezier(start=Point(121.77,32.51), control1=Point(126.21,25.19), control2=Point(132.67,14.05), end=Point(141.13,12.73)), CubicBezier(start=Point(141.13,12.73), control1=Point(145.43,25.15), control2=Point(127.35,29.08), end=Point(126.11,40.71)), CubicBezier(start=Point(126.11,40.71), control1=Point(121.61,52.17), control2=Point(117.32,63.71), end=Point(109.99,73.77)), CubicBezier(start=Point(109.99,73.77), control1=Point(105.08,83.92), control2=Point(107.97,95.69), end=Point(106.45,106.74)), CubicBezier(start=Point(106.45,106.74), control1=Point(106.28,127.65), control2=Point(107.7,149.35), end=Point(105.03,170.1)), CubicBezier(start=Point(105.03,170.1), control1=Point(102.39,182.47), control2=Point(94.98,193.23), end=Point(85.1,200.98)), CubicBezier(start=Point(85.1,200.98), control1=Point(74.7,208.77), control2=Point(71.69,217.63), end=Point(71.29,232.26)), CubicBezier(start=Point(71.29,232.26), control1=Point(71.82,242.64), control2=Point(69.67,252.57), end=Point(70.79,263.2)), CubicBezier(start=Point(70.79,263.2), control1=Point(70.3,271.02), control2=Point(82.36,267.1), end=Point(82.42,272.59)), CubicBezier(start=Point(82.42,272.59), control1=Point(84.54,278.59), control2=Point(68.97,278.42), end=Point(59.98,275.02)), Close(start=Point(59.98,275.02), end=Point(61.08,246.98)), transform=Matrix(3.778552671601, 0, 0, 3.778552671601, -7.934960610362, -48.100975509481)), [[580, 833], [759, 557]]], [Path(Move(end=Point(85,230)), CubicBezier(start=Point(85,230), control1=Point(86.82,221.93), control2=Point(87.75,218.9), end=Point(89.28,210.44)), CubicBezier(start=Point(89.28,210.44), control1=Point(76.04,202.98), control2=Point(40.14,190.24), end=Point(45.62,174.02)), CubicBezier(start=Point(45.62,174.02), control1=Point(61.7,180.18), control2=Point(74.36,190.44), end=Point(92.28,195.24)), CubicBezier(start=Point(92.28,195.24), control1=Point(102.62,159.27), control2=Point(121.12,105.1), end=Point(129.81,73.5)), CubicBezier(start=Point(129.81,73.5), control1=Point(90.9,57.1), control2=Point(61.35,47.24), end=Point(29.37,33.33)), CubicBezier(start=Point(29.37,33.33), control1=Point(16.8,24.87), control2=Point(-1.02,13.4), end=Point(2.77,4.32)), CubicBezier(start=Point(2.77,4.32), control1=Point(13.89,8.66), control2=Point(24.29,13.57), end=Point(35.49,21.44)), CubicBezier(start=Point(35.49,21.44), control1=Point(70.87,29.77), control2=Point(103.76,46.51), end=Point(135.91,54.81)), CubicBezier(start=Point(135.91,54.81), control1=Point(139.88,50.28), control2=Point(150.87,28.07), end=Point(150.17,43.33)), Line(start=Point(150.17,43.33), end=Point(149.28,58.95)), CubicBezier(start=Point(149.28,58.95), control1=Point(179.61,70.61), control2=Point(216.4,89.35), end=Point(243.51,98.54)), CubicBezier(start=Point(243.51,98.54), control1=Point(256.66,99.04), control2=Point(269.82,99.2), end=Point(283,99.14)), CubicBezier(start=Point(283,99.14), control1=Point(288.38,115.59), control2=Point(250.74,110.73), end=Point(240.79,112.18)), CubicBezier(start=Point(240.79,112.18), control1=Point(202.57,98.15), control2=Point(178.75,89.24), end=Point(142.05,77.93)), CubicBezier(start=Point(142.05,77.93), control1=Point(125.08,119.14), control2=Point(113.29,160.99), end=Point(100.09,197.9)), CubicBezier(start=Point(100.09,197.9), control1=Point(114.12,204.18), control2=Point(125.67,210.19), end=Point(141,215.71)), CubicBezier(start=Point(141,215.71), control1=Point(142.81,229.18), control2=Point(106.09,214.44), end=Point(94.37,211.41)), CubicBezier(start=Point(94.37,211.41), control1=Point(92.44,216.52), control2=Point(89.84,222.71), end=Point(88.53,229.88)), CubicBezier(start=Point(88.53,229.88), control1=Point(86.16,230.49), control2=Point(85.01,230), end=Point(85.01,230)), Close(start=Point(85.01,230), end=Point(85,230)), transform=Matrix(4.427400994743, 0, 0, 4.427400994743, -9.969175816953, -19.12637229729)), [[708, 592], [998, 365]]], [Path(Move(end=Point(260,510)), Line(start=Point(260,510), end=Point(10,260)), Arc(Point(10,260), Point(260,10), Point(135.000001953125,135.000001953125), Point(311.776697249762,135.000001953125), Point(135.000001953125,311.776697249762), 3.1415926202697833), Arc(Point(260,10), Point(510,260), Point(384.999998046875,135.000001953125), Point(561.776693343512,135.000001953125), Point(384.999998046875,311.776697249762), 3.1415926202697833), Close(start=Point(510,260), end=Point(260,510)), transform=Matrix(1.812327363703, 0, 0, 1.812327363703, 75.713044511475, 75.713044511475)), [[183, 664], [817, 14]]]]\n",
      "M 63.0092439084,995.255433863 C 139.109659399,985.455380357 157.259758494,872.154761762 218.210091269,829.054526445 C 306.810575007,733.904006945 347.260795856,650.103549414 426.861230456,683.903733955 C 546.811885358,695.8537992 744.212963122,670.703661886 864.513619936,684.803738869 C 951.914097122,686.553748424 940.864036791,672.303670622 957.864129608,745.704071371 C 980.614253818,819.504474304 974.714221606,951.455194724 1030.16452435,995.255433863 C 1168.61528026,1025.80560066 1126.76505177,901.55492228 1083.26481427,830.404533816 C 1022.31448149,753.104111773 1044.16460079,658.653596096 994.314328618,567.503098435 C 961.064147079,457.55249813 928.96397182,359.251961432 905.263842423,251.201371501 C 888.963753428,181.750992318 884.063726675,84.4504610799 845.813517838,0 C 745.362969401,25.3501384059 736.512921082,105.700577101 670.7625621,164.450897864 C 614.962257443,265.551449849 513.861705458,369.75201876 446.011335011,464.702537168 C 393.361047552,569.453109082 291.010488742,643.50351338 223.010117476,740.954045437 C 159.409770233,832.304544189 80.4593391818,908.454959953 0.65890348999,986.705387182 C -6.59113609354,1004.10548218 48.0591622844,992.155416938 63.0092439084,995.255433863 Z M 486.061553676,628.353430664 C 363.810886215,657.203588179 411.611147194,573.553131467 466.511446937,523.302857112 C 532.611807829,424.60231823 646.262428335,285.351557953 721.912841369,191.751046916 C 774.763129919,99.7005443418 807.063306271,137.100748538 812.713337118,231.851265854 C 859.613593183,321.401754779 881.463712479,430.152348532 903.563833141,549.953002616 C 959.364137798,657.353588998 808.363313368,617.103369241 729.362882044,625.803416741 C 648.862442531,639.603492086 567.41199783,625.603415649 486.061553676,628.303430391 Z\n",
      "[[206, 914], [430, 697]]\n",
      "M 144.324885734,980.445008516 C 170.515504149,874.124167928 206.106594047,656.958195663 234.106928897,556.9713626 C 257.985131866,459.950453695 274.272579786,332.616794494 295.938907112,284.00580024 C 433.577896014,294.361399843 516.322153039,278.42584123 588.560000758,299.086770536 C 659.44056115,305.119158654 678.090694416,301.047296674 738.414575601,301.751075288 C 779.1331954,274.806408359 764.102495005,255.653576083 788.181777578,232.378611926 C 714.385562929,238.71261945 763.599795995,235.093186579 696.489478177,233.886708955 C 489.88018512,233.434279847 375.968589483,217.599261036 303.982091269,212.823620442 C 305.339378596,167.982868761 313.734452061,140.686312525 337.813734634,73.0230257964 C 428.349826312,60.5560903516 730.773550651,89.5618232212 846.444592822,82.1721477761 C 880.829205097,37.8843650064 860.821784504,54.7247818371 902.394992621,7.62188461211 C 746.658839363,6.61648659237 669.444271446,27.3779557001 547.740841156,18.5807230273 C 491.689901556,24.3114917399 349.627161366,-7.30827598108 251.299235035,1.58949649365 C 260.599166718,71.3641190639 224.354568106,212.773350541 200.023936028,292.70249311 C 195.449375038,399.224413302 118.687236231,708.73619368 90.4355518759,826.36776199 C 44.8910215816,921.025985549 43.6845439579,966.671055646 0,1000 C 91.0890605888,994.017881783 86.212880193,986.024967526 144.324885734,980.445008516 Z\n",
      "[[470, 909], [650, 701]]\n",
      "M 63.0092439084,995.255433863 C 139.109659399,985.455380357 157.259758494,872.154761762 218.210091269,829.054526445 C 306.810575007,733.904006945 347.260795856,650.103549414 426.861230456,683.903733955 C 546.811885358,695.8537992 744.212963122,670.703661886 864.513619936,684.803738869 C 951.914097122,686.553748424 940.864036791,672.303670622 957.864129608,745.704071371 C 980.614253818,819.504474304 974.714221606,951.455194724 1030.16452435,995.255433863 C 1168.61528026,1025.80560066 1126.76505177,901.55492228 1083.26481427,830.404533816 C 1022.31448149,753.104111773 1044.16460079,658.653596096 994.314328618,567.503098435 C 961.064147079,457.55249813 928.96397182,359.251961432 905.263842423,251.201371501 C 888.963753428,181.750992318 884.063726675,84.4504610799 845.813517838,0 C 745.362969401,25.3501384059 736.512921082,105.700577101 670.7625621,164.450897864 C 614.962257443,265.551449849 513.861705458,369.75201876 446.011335011,464.702537168 C 393.361047552,569.453109082 291.010488742,643.50351338 223.010117476,740.954045437 C 159.409770233,832.304544189 80.4593391818,908.454959953 0.65890348999,986.705387182 C -6.59113609354,1004.10548218 48.0591622844,992.155416938 63.0092439084,995.255433863 Z M 486.061553676,628.353430664 C 363.810886215,657.203588179 411.611147194,573.553131467 466.511446937,523.302857112 C 532.611807829,424.60231823 646.262428335,285.351557953 721.912841369,191.751046916 C 774.763129919,99.7005443418 807.063306271,137.100748538 812.713337118,231.851265854 C 859.613593183,321.401754779 881.463712479,430.152348532 903.563833141,549.953002616 C 959.364137798,657.353588998 808.363313368,617.103369241 729.362882044,625.803416741 C 648.862442531,639.603492086 567.41199783,625.603415649 486.061553676,628.303430391 Z\n",
      "[[850, 909], [1073, 698]]\n",
      "M 144.324885734,980.445008516 C 170.515504149,874.124167928 206.106594047,656.958195663 234.106928897,556.9713626 C 257.985131866,459.950453695 274.272579786,332.616794494 295.938907112,284.00580024 C 433.577896014,294.361399843 516.322153039,278.42584123 588.560000758,299.086770536 C 659.44056115,305.119158654 678.090694416,301.047296674 738.414575601,301.751075288 C 779.1331954,274.806408359 764.102495005,255.653576083 788.181777578,232.378611926 C 714.385562929,238.71261945 763.599795995,235.093186579 696.489478177,233.886708955 C 489.88018512,233.434279847 375.968589483,217.599261036 303.982091269,212.823620442 C 305.339378596,167.982868761 313.734452061,140.686312525 337.813734634,73.0230257964 C 428.349826312,60.5560903516 730.773550651,89.5618232212 846.444592822,82.1721477761 C 880.829205097,37.8843650064 860.821784504,54.7247818371 902.394992621,7.62188461211 C 746.658839363,6.61648659237 669.444271446,27.3779557001 547.740841156,18.5807230273 C 491.689901556,24.3114917399 349.627161366,-7.30827598108 251.299235035,1.58949649365 C 260.599166718,71.3641190639 224.354568106,212.773350541 200.023936028,292.70249311 C 195.449375038,399.224413302 118.687236231,708.73619368 90.4355518759,826.36776199 C 44.8910215816,921.025985549 43.6845439579,966.671055646 0,1000 C 91.0890605888,994.017881783 86.212880193,986.024967526 144.324885734,980.445008516 Z\n",
      "[[685, 909], [863, 698]]\n",
      "M 9.27508307933,989.818070388 C 62.0499494056,1006.22580134 114.674745022,970.058760247 130.382145995,919.484931 C 154.543530294,857.855892788 151.291998245,790.274049748 169.800719137,727.144304436 C 192.661490617,621.244406794 215.672332807,515.344509152 243.385390574,410.595153619 C 339.630739211,380.831129482 439.877973446,421.700386154 537.974194172,411.845742868 C 629.71742151,414.096803517 722.911332379,403.591853822 813.554041178,423.201093253 C 817.505903206,523.648421768 788.442209049,621.894713204 768.983040328,719.64076894 C 755.176535014,775.567120175 745.071773879,833.044202079 728.263854366,887.870034774 C 716.608362561,927.888890756 681.491816437,960.704352661 664.333731935,990.918588928 C 711.856123414,1007.97662629 765.08120187,996.871393755 814.204347588,990.868565358 C 835.564411968,938.794029011 825.409627262,865.259381144 836.214718378,805.281120741 C 837.865496187,737.499183422 871.281240932,676.770569469 878.834799998,610.689433529 C 886.288311925,534.203395033 900.044793669,458.417686517 918.90367955,384.132685101 C 924.306225108,314.299781412 939.413343241,245.667443403 948.917821537,176.484846124 C 961.423714031,123.509885518 985.284956911,73.3362448304 1019.05086665,30.6661396395 C 1019.10089022,-25.1101408854 926.407215047,22.862462723 901.695571478,47.323988442 C 862.276998336,86.5424673044 884.887651966,91.3447300223 865.078318255,159.526855902 C 852.42235505,202.847267502 853.1727086,322.003411189 812.503546208,337.860882871 C 717.558810391,335.409727943 622.664098144,326.105343927 527.769385896,328.606522426 C 437.776983507,318.75187914 346.934180428,322.403599748 256.941778038,312.298838613 C 259.543003677,237.963813626 284.004529396,166.480132128 285.805377915,92.0450600019 C 295.409903351,70.3348306317 352.086608135,-0.398497316504 306.565159456,0.00169124331575 C 272.649179011,30.5160689296 213.071107168,39.1201229657 190.710571388,75.5873054793 C 213.521319298,125.410781177 190.810618528,179.236142473 189.259887858,230.96051383 C 170.651119827,374.077947535 151.291998245,518.79613548 103.469465347,655.460528659 C 77.2571146788,764.41186407 76.3566904192,885.468903415 3.92256109173,977.112083614 C 1.52142973281,983.965312701 -5.88205862386,995.270639516 9.3251066493,989.868093958 Z\n",
      "[[0, 909], [204, 697]]\n",
      "M 222.859036571,885.125963323 L 227.053230037,772.865163449 C 175.249272909,796.67004528 147.590267353,813.862459936 154.013806894,856.220035385 C 157.074434558,889.320156788 127.563938193,885.314890956 122.576248667,857.99595514 C 101.076283965,824.782477157 93.4813930954,800.032957158 136.745821185,789.377438624 C 173.3977821,771.01367264 205.477694282,746.339723695 237.633177517,721.287919482 C 261.702558035,701.223804796 282.938024049,681.72647301 297.447666308,648.02178318 C 309.123394064,586.053519365 314.375582277,522.913904223 308.292112476,460.076573294 L 300.130438705,390.362276503 C 290.192845179,358.055651161 229.811573487,372.90536316 192.706186252,371.242799985 C 156.280938497,377.704125053 119.78011969,385.299015923 85.1685772179,398.788448961 C 53.6554479367,385.979155404 1.96484738923,456.033521936 0,396.332389724 C 7.29260665619,366.935249939 52.3329545017,375.248065817 76.9691179205,366.406252565 C 104.099126103,363.118911741 130.208925063,354.84388139 156.318724024,348.344770795 C 191.79933361,343.621579955 227.01544451,336.706828566 262.647196203,333.872914063 C 287.283359622,327.260446887 288.79478069,289.626062278 288.11464121,262.231555409 C 285.167370126,243.678861792 286.981075408,223.501390525 272.244719989,209.218461427 C 245.719280234,197.316020511 210.654311442,151.482176604 243.754432845,125.523519751 C 273.26492921,106.139544545 292.800046522,117.853057827 322.348328414,129.793284269 C 299.563655805,176.647337397 359.755999863,228.451294525 396.785816045,183.599874313 C 416.887716258,148.157050253 430.868361143,109.578027476 452.17939821,74.7397718443 C 468.956172072,47.0807662881 493.365622331,4.98768952651 525.332177933,0 C 541.579954421,46.9296241813 473.263722118,61.7793361807 468.578316805,105.723903751 C 451.574829783,149.026117368 435.364838822,192.630615198 407.668047739,230.642855075 C 389.115354121,268.995164691 400.035371342,313.468729636 394.291971282,355.221736657 C 393.649617327,434.23127302 399.015162121,516.225865994 388.926426488,594.63083393 C 378.951047435,641.371530478 350.951972138,682.028757224 313.619871743,711.312540429 C 274.322923958,740.747465741 262.949480417,774.225442411 261.438059348,829.505667997 C 263.440692264,868.727044728 255.31680402,906.248072757 259.548783012,946.414087656 C 257.697292203,975.962369548 303.266637423,961.150443075 303.493350583,981.894697242 C 311.503882247,1004.56601327 252.67181715,1003.92365932 218.702628632,991.076580234 Z\n",
      "[[580, 833], [759, 557]]\n",
      "M 366.359908736,999.175856494 C 374.417778547,963.446730466 378.535261472,950.031705452 385.309184994,912.575893036 C 326.690395823,879.547481616 167.746700112,823.142392943 192.008857563,751.329948808 C 263.201465559,778.602738936 319.252362152,824.027873142 398.591387978,845.279397916 C 444.370714264,686.025784135 526.277632666,446.19347225 564.751747311,306.287600816 C 392.481574605,233.678224503 261.651875211,190.024050694 120.063591399,128.438902857 C 64.4111608947,90.983090442 -14.4851248316,40.2008010323 2.29472493849,0 C 51.527424,19.2149203172 97.5723943454,40.9534592014 147.159285486,75.79710503 C 303.80073268,112.677355316 449.417951398,186.792047968 591.758893379,223.539476225 C 609.335675328,203.483349718 657.99281226,105.150773625 654.893631564,172.712912805 L 650.953244678,241.868916343 C 785.236316849,293.492411942 948.120399445,376.461906583 1068.14724041,417.149721725 C 1126.36756349,419.363422222 1184.63216058,420.071806381 1242.9853057,419.806162322 C 1266.80472305,492.636908685 1100.1573496,471.119739851 1056.10470971,477.539471293 C 886.889443688,415.423035337 781.428751993,375.974892474 618.943135486,325.900987223 C 543.810140606,508.354182216 491.611082877,693.640913846 433.169389747,857.056284562 C 495.285825703,884.860362809 546.422307192,911.469042788 614.294364442,935.908296279 C 622.307960242,995.545387678 459.733795715,930.285497015 407.844656057,916.870472001 C 399.299772137,939.494491084 387.788529551,966.900103242 381.988634248,998.644568374 C 371.49569389,1001.34528298 366.404182746,999.175856494 366.404182746,999.175856494 Z\n",
      "[[708, 592], [998, 365]]\n",
      "M 546.918159074,1000 L 93.8363181485,546.918159074 A 320.377,320.377 0 0,1 546.918159074,93.8363181485 A 320.377,320.377 0 0,1 1000,546.918159074 Z\n",
      "[[183, 664], [817, 14]]\n"
     ]
    }
   ],
   "source": [
    "def place(part):\n",
    "    print(part[0])\n",
    "    print(part[1])\n",
    "    comp = part[0]\n",
    "    box = part[1]\n",
    "    x1 = box[0][0]\n",
    "    y1 = box[0][1]\n",
    "    x2 = box[1][0]\n",
    "    y2 = box[1][1]\n",
    "    dy = y1 - y2\n",
    "    s = 'scale(%s)' % str(dy/1000)\n",
    "    t = 'translate(%s,%s)' % (x1,y2)\n",
    "    sc = comp * s\n",
    "    tc = sc * t\n",
    "    return tc\n",
    "\n",
    "def build_logo(data):\n",
    "    print(data)\n",
    "    svg = \"\"\"<svg\n",
    " xmlns=\"http://www.w3.org/2000/svg\"\n",
    " width=\"1076\" height=\"909\"\n",
    ">\"\"\"\n",
    "    for part in data:\n",
    "        sp = place(part)\n",
    "        svg += \"\"\"\n",
    "<path d=\"%s\" />\n",
    "\"\"\" % sp.d()\n",
    "    svg += \"</svg>\"\n",
    "    with open(\"_images/test_logo2.svg\",\"w\") as fout:\n",
    "        fout.write(svg)\n",
    "    \n",
    "build_logo(data)\n"
   ]
  },
  {
   "cell_type": "code",
   "execution_count": 263,
   "metadata": {},
   "outputs": [
    {
     "data": {
      "image/svg+xml": [
       "<svg height=\"909\" width=\"1076\" xmlns=\"http://www.w3.org/2000/svg\">\n",
       "<path d=\"M 219.673005928,912.970429148 C 236.18679609,910.843817538 240.125367593,886.257583302 253.351589805,876.904832239 C 272.577894777,856.257169507 281.355592701,838.072470223 298.628887009,845.407110268 C 324.658179123,848.000274426 367.494212998,842.542694629 393.599455526,845.602411335 C 412.565359076,845.982163408 410.167495984,842.889896525 413.856516125,858.817783487 C 418.793293079,874.832470924 417.512986088,903.465777255 429.545701784,912.970429148 C 459.589515816,919.599815343 450.508016234,892.637418135 441.068464696,877.197783838 C 427.842242484,860.423592255 432.583718371,839.927830353 421.76620931,820.14817236 C 414.550919916,796.288892094 407.585181885,774.957675631 402.442253806,751.510697616 C 398.905134494,736.439965333 397.841828688,715.325750054 389.541533371,697 C 367.74376436,702.500980034 365.823303875,719.937025231 351.555475976,732.685844836 C 339.446809865,754.624664617 317.507990084,777.236188071 302.784459697,797.840450565 C 291.359347319,820.571324671 269.149276057,836.640262403 254.393195492,857.78702786 C 240.591920141,877.610086089 223.459676602,894.13472631 206.142982057,911.115069018 C 204.569723468,914.890889634 216.428838216,912.297725476 219.673005928,912.970429148 Z M 311.475357148,833.352694454 C 284.946962309,839.613178635 295.319618941,821.461029528 307.232983985,810.556719993 C 321.576762299,789.138703056 346.238946949,758.921288076 362.655086577,738.609977181 C 374.123599192,718.635018122 381.132737461,726.750862433 382.358794155,747.31172469 C 392.536149721,766.744180787 397.277625608,790.343059631 402.073351792,816.339801568 C 414.182017902,839.645728813 381.414839001,830.911431125 364.271745404,832.799341433 C 346.803150029,835.793957783 329.128403529,832.755941196 311.475357148,833.341844395 Z\"/>\n",
       "\n",
       "<path d=\"M 500.019576233,904.932561771 C 505.467224863,882.817826929 512.870171562,837.647304698 518.694241211,816.850043421 C 523.660907428,796.669694369 527.048696595,770.184293255 531.555292679,760.07320645 C 560.184202371,762.227171167 577.395007832,758.912574976 592.420480158,763.210048271 C 607.163636719,764.464785 611.042864439,763.617837708 623.590231725,763.76422366 C 632.059704643,758.159732939 628.933318961,754.175943825 633.941809736,749.334751281 C 618.592197089,750.652224846 628.828757567,749.899382808 614.869811461,749.648435463 C 571.895078505,749.554330208 548.201466612,746.260646295 533.228274984,745.267313052 C 533.510590748,735.940436702 535.256766029,730.262753005 540.265256804,716.188789366 C 559.096763873,713.595666793 622.000898535,719.62885923 646.060475307,718.091806737 C 653.21247466,708.879947921 649.050931177,712.382754622 657.698158465,702.585351999 C 625.305038587,702.376229211 609.244408461,706.694614786 583.930094961,704.86479039 C 572.271499524,706.056790282 542.722449564,699.479878596 522.270240887,701.330615271 C 524.204626677,715.843736765 516.665750166,745.256856912 511.604978694,761.882118567 C 510.653470008,784.038677967 494.686945136,848.417128285 488.81059479,872.884494494 C 479.337332489,892.573404994 479.086385143,902.067579574 470,909 C 488.946524602,907.755719411 487.93227908,906.093193245 500.019576233,904.932561771 Z\"/>\n",
       "\n",
       "<path d=\"M 863.294950465,907.998896545 C 879.352138133,905.931085255 883.181809042,882.024654732 896.042329258,872.93050508 C 914.737031326,852.853745465 923.272027926,835.171848926 940.067719626,842.303687865 C 965.377307811,844.825151631 1007.02893522,839.518472658 1032.41237381,842.493588901 C 1050.85387449,842.862840917 1048.52231176,839.856074501 1052.10933135,855.343559059 C 1056.90960756,870.915444078 1055.66470076,898.757046087 1067.36471464,907.998896545 C 1096.57782413,914.444981739 1087.74742592,888.228088601 1078.56887581,873.215356635 C 1065.70835559,856.904967584 1070.31873077,836.975908776 1059.80032334,817.74315377 C 1052.78453503,794.543577105 1046.01139805,773.802163862 1041.01067075,751.003489387 C 1037.57135197,736.349459379 1036.53744633,715.819047288 1028.46665226,698 C 1007.27158654,703.348879204 1005.40422635,720.302821768 991.530900603,732.699139449 C 979.757036321,754.031355918 958.424819852,776.017675958 944.108391687,796.052235342 C 932.999181034,818.154606016 911.403213125,833.779241323 897.055134787,854.341303587 C 883.635461519,873.616258824 866.976920567,889.68399655 850.139028636,906.194836695 C 848.609270284,909.866256741 860.140483242,907.344792974 863.294950465,907.998896545 Z M 952.558987826,830.58257387 C 926.764096991,836.669957106 936.849952058,819.019710739 948.433915304,808.416902851 C 962.381091452,787.591089147 986.361372379,758.209178728 1002.32360953,738.459470899 C 1013.47502041,719.036814856 1020.29035762,726.928257942 1021.48251413,746.920617095 C 1031.37846816,765.815770258 1035.98884333,788.76214554 1040.65196879,814.040083552 C 1052.42583308,836.701607279 1020.56465912,828.20881091 1003.89556811,830.044520932 C 986.909975374,832.95633683 969.723931542,830.002320702 952.558987826,830.572023812 Z\"/>\n",
       "\n",
       "<path d=\"M 715.45255089,904.873896797 C 720.978771375,882.440199433 728.488491344,836.618179285 734.396561997,815.520957509 C 739.434862824,795.04954573 742.871514335,768.182143638 747.443109401,757.925223851 C 776.484936059,760.110255367 793.943974291,756.7478525 809.18616016,761.107308583 C 824.141958403,762.380142476 828.077136522,761.520979598 840.805475452,761.669476886 C 849.397104229,755.984152164 846.225626446,751.942904553 851.306355069,747.031887116 C 835.735353778,748.368362704 846.119556955,747.604662368 831.959279895,747.35009559 C 788.36471906,747.254633048 764.329372381,743.913444079 749.140221258,742.905783913 C 749.426608884,733.444385309 751.197969385,727.684811943 756.278698008,713.407858443 C 775.381813352,710.777335064 839.193219187,716.8975447 863.599809085,715.338323181 C 870.854962276,705.993601016 866.63339653,709.546928968 875.405343443,699.608217653 C 842.545015106,699.396078671 826.252741275,703.776748653 800.573317484,701.920532559 C 788.746569228,703.129724757 758.771331048,696.457953768 738.024138592,698.33538376 C 739.986424177,713.057829122 732.33881387,742.895176964 727.205050502,759.760226046 C 726.239818133,782.236351207 710.043006845,847.543336867 704.081901446,872.36359778 C 694.472005554,892.336482951 694.217438775,901.967592741 685,909 C 704.219791784,907.737773056 703.190917721,906.051268148 715.45255089,904.873896797 Z\"/>\n",
       "\n",
       "<path d=\"M 1.96631761282,906.841430922 C 13.154589274,910.319869884 24.3110459447,902.652457172 27.6410149509,891.930805372 C 32.7632284223,878.865449271 32.073903628,864.538098547 35.9977524571,851.154592541 C 40.8442360108,828.70381424 45.722534555,806.25303594 51.5977028017,784.046172567 C 72.0017167127,777.73619945 93.2541303705,786.400481865 114.050529164,784.311297488 C 133.50009336,784.788522346 153.257202464,782.56147301 172.47345673,786.71863177 C 173.31125148,808.013465415 167.149748318,828.841679199 163.02440455,849.563843015 C 160.097425423,861.420229477 157.955216062,873.605370841 154.391937126,885.228447372 C 151.920972863,893.71244484 144.476265085,900.669322764 140.83875117,907.074740853 C 150.913498164,910.691044774 162.197214796,908.336735476 172.611321689,907.064135856 C 177.139655337,896.02433415 174.98684098,880.434988803 177.277520296,867.719597597 C 177.627485192,853.349826885 184.711623078,840.475360727 186.3129776,826.466159908 C 187.893122128,810.251119747 190.809496258,794.184549542 194.807580065,778.436129241 C 195.952919723,763.631553659 199.155628767,749.081498001 201.170578166,734.414787378 C 203.821827375,723.18409573 208.880410865,712.547283904 216.038783729,703.501221604 C 216.049388726,691.676650132 196.39832959,701.846842097 191.159461153,707.03268555 C 182.802723647,715.347003069 187.596182217,716.365082765 183.39660347,730.819693451 C 180.713539271,740.00362071 180.872614223,765.264723172 172.250751796,768.626507169 C 152.122467803,768.106862324 132.004788806,766.134332912 111.88710981,766.664582754 C 92.8087205034,764.575398378 73.5500462506,765.349563147 54.4716569441,763.207353786 C 55.0231167795,747.448328489 60.2089602319,732.293788011 60.590740118,716.51355272 C 62.6268995104,711.910984094 74.6423609247,696.915518569 64.9918138046,697.000358544 C 57.8016259503,703.469406613 45.1710747196,705.293466069 40.4306411342,713.024508762 C 45.2665196911,723.58708561 40.4518511279,734.998062204 40.123096226,745.963628932 C 36.1780374033,776.304524877 32.073903628,806.984780722 21.9355266536,835.957632076 C 16.3785083119,859.055315183 16.1876183689,884.719407524 0.831582951447,904.147761726 C 0.322543103356,905.600646293 -1.24699642826,907.997375577 1.97692260965,906.852035919 Z\"/>\n",
       "\n",
       "<path d=\"M 641.509094094,801.294765877 L 642.66669149,770.310785112 C 628.368799323,776.880932497 620.734913789,781.626038942 622.507810703,793.316729766 C 623.352543938,802.452363273 615.207646941,801.346909904 613.831044632,793.806883619 C 607.897054374,784.639963695 605.800864494,777.809096176 617.741846647,774.86817306 C 627.85778786,769.799773649 636.711843622,762.98976374 645.586756995,756.075465777 C 652.229906018,750.537770124 658.090894638,745.156506551 662.095555901,735.854012158 C 665.318056762,718.750771345 666.767660709,701.324237566 665.088623043,683.981134229 L 662.836001083,664.739988315 C 660.093225269,655.82335972 643.427994282,659.921880232 633.186907405,659.463012796 C 623.133539025,661.246338515 613.059313034,663.342528395 603.506527312,667.065611913 C 594.808903631,663.530246892 580.542297879,682.865252054 580,666.387739564 C 582.012759437,658.274128983 594.443895442,660.568466165 601.243476546,658.128125708 C 608.731358804,657.22081964 615.937663317,654.936911264 623.143967831,653.143156739 C 632.936616076,651.839556068 642.656262685,649.931084684 652.490626152,649.148924281 C 659.290207256,647.323883341 659.707359471,636.936793189 659.519640974,629.375909293 C 658.706194155,624.255365854 659.206776813,618.686383785 655.139542717,614.744295354 C 647.818521345,611.459221661 638.140589958,598.809080743 647.276223465,591.644491451 C 655.421120462,586.294514294 660.81281284,589.52744396 668.968138642,592.822946458 C 662.679569002,605.754665122 679.292655962,620.052557289 689.512885228,607.67356531 C 695.061009687,597.89134587 698.919667675,587.243535583 704.801513906,577.628177029 C 709.431903492,569.994291496 716.168911763,558.376602309 724.991681109,557 C 729.47606742,569.952576274 710.620787305,574.051096786 709.327615438,586.179797435 C 704.63465302,598.131208394 700.160695515,610.166049795 692.516381176,620.657428001 C 687.395837738,631.242665455 690.409762491,643.51736938 688.824584074,655.041199317 C 688.647294382,676.847831354 690.128184745,699.478339014 687.343693711,721.118110165 C 684.590489092,734.018542412 676.86274431,745.239936994 666.559084601,753.322261158 C 655.713127012,761.446300544 652.574056595,770.686222105 652.15690438,785.943564367 C 652.709631065,796.768664345 650.46743791,807.124468081 651.635464111,818.210288193 C 651.124452648,826.365613995 663.701591929,822.277522289 663.764164761,828.002936439 C 665.9750715,834.260219663 649.737421533,834.082929972 640.361925503,830.537136145 Z\"/>\n",
       "\n",
       "<path d=\"M 791.163699283,591.812919424 C 792.99283573,583.702407816 793.927504354,580.657197138 795.465184994,572.154727719 C 782.158719852,564.657278327 746.078500925,551.853323198 751.586010667,535.551898379 C 767.746732682,541.742821738 780.470286209,552.054327203 798.480245071,556.878423327 C 808.872152138,520.727852999 827.465022615,466.285918201 836.19864664,434.527285385 C 797.093317435,418.044956962 767.394975673,408.135459508 735.254435247,394.155630949 C 722.621333523,385.65316153 704.711876663,374.125581834 708.520902561,365 C 719.696725248,369.361786912 730.148933516,374.296435239 741.405157805,382.205942842 C 776.962766318,390.577759657 810.017874967,407.401794889 842.329268797,415.743461103 C 846.319198299,411.190720386 857.364368383,388.869225613 856.660854365,404.205831207 L 855.766386542,419.90424401 C 886.248643925,431.622777511 923.223330674,450.456852794 950.469423574,459.692986832 C 963.685436913,460.195496844 976.911500453,460.356300049 990.157664393,460.295998847 C 995.564672132,476.828578272 957.73571836,471.944180946 947.735769104,473.401459984 C 909.323903717,459.301029021 885.384326702,450.346300592 848.500091755,438.9795241 C 831.444901917,480.396399363 819.595715813,522.456487443 806.329451473,559.551776596 C 820.429882435,565.863302358 832.037863733,571.903472713 847.444820728,577.451183255 C 849.263906975,590.988803003 812.359571627,576.174807822 800.580736925,573.129597144 C 798.641048275,578.265249476 796.027996208,584.486323436 794.711419974,591.692317021 C 792.329522513,592.305379237 791.173749483,591.812919424 791.173749483,591.812919424 Z\"/>\n",
       "\n",
       "<path d=\"M 538.496803398,664 L 243.993606797,369.496803398 A 208.245,208.245 0 0,1 538.496803398,74.9936067965 A 208.245,208.245 0 0,1 833,369.496803398 Z\"/>\n",
       "</svg>"
      ],
      "text/plain": [
       "<IPython.core.display.SVG object>"
      ]
     },
     "execution_count": 263,
     "metadata": {},
     "output_type": "execute_result"
    }
   ],
   "source": [
    "from IPython.core.display import SVG\n",
    "SVG(filename='_images/test_logo2.svg')"
   ]
  },
  {
   "cell_type": "code",
   "execution_count": null,
   "metadata": {},
   "outputs": [],
   "source": []
  }
 ],
 "metadata": {
  "kernelspec": {
   "display_name": "Python 3",
   "language": "python",
   "name": "python3"
  },
  "language_info": {
   "codemirror_mode": {
    "name": "ipython",
    "version": 3
   },
   "file_extension": ".py",
   "mimetype": "text/x-python",
   "name": "python",
   "nbconvert_exporter": "python",
   "pygments_lexer": "ipython3",
   "version": "3.7.5"
  }
 },
 "nbformat": 4,
 "nbformat_minor": 4
}
