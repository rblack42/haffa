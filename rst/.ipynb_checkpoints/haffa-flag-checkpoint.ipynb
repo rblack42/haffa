{
 "cells": [
  {
   "cell_type": "markdown",
   "metadata": {},
   "source": [
    "# Creating the U.S. Flag\n",
    "\n",
    "We start off by setting up the basic dimensions for the flag. "
   ]
  },
  {
   "cell_type": "code",
   "execution_count": 2,
   "metadata": {},
   "outputs": [
    {
     "name": "stdout",
     "output_type": "stream",
     "text": [
      "2470.0 1300\n"
     ]
    }
   ],
   "source": [
    "stripe_width = 100\n",
    "flag_height = 13 * stripe_width\n",
    "flag_width = 1.9 * flag_height\n",
    "\n",
    "print(flag_width, flag_height)"
   ]
  },
  {
   "cell_type": "markdown",
   "metadata": {},
   "source": [
    "We will use these dimensions to set the drawing canvas. We begin our SVG file by creating a field of stripes:"
   ]
  },
  {
   "cell_type": "code",
   "execution_count": 3,
   "metadata": {},
   "outputs": [
    {
     "name": "stdout",
     "output_type": "stream",
     "text": [
      "\n",
      "<svg xmlns=\"http://www.w3.org/2000/svg\" width=\"2470\" height=\"1300\">\n",
      "\n",
      "\n",
      "</svg>\n",
      "\n"
     ]
    }
   ],
   "source": [
    "svg1 = \"\"\"\n",
    "<svg xmlns=\"http://www.w3.org/2000/svg\" width=\"%d\" height=\"%d\">\n",
    "\"\"\" % (flag_width, flag_height)\n",
    "svg2 = \"\"\"\n",
    "</svg>\n",
    "\"\"\" \n",
    "print(svg1)\n",
    "print(svg2)"
   ]
  },
  {
   "cell_type": "markdown",
   "metadata": {},
   "source": [
    "We will build the basic flag by creating a red rectangle on which we will draw the required white stripes as very thick lines."
   ]
  },
  {
   "cell_type": "code",
   "execution_count": 4,
   "metadata": {},
   "outputs": [
    {
     "name": "stdout",
     "output_type": "stream",
     "text": [
      "\n",
      "  <rect width=\"2470\" height=\"1300\" \n",
      "  style=\"fill:rgb(255,0,0)\" />\n"
     ]
    }
   ],
   "source": [
    "flag = \"\"\"\n",
    "  <rect width=\"%d\" height=\"%d\" \n",
    "  style=\"fill:rgb(255,0,0)\" />\"\"\" % (flag_width, flag_height)\n",
    "\n",
    "print(flag)"
   ]
  },
  {
   "cell_type": "markdown",
   "metadata": {},
   "source": [
    "Here is the code for a fat white line:"
   ]
  },
  {
   "cell_type": "code",
   "execution_count": 5,
   "metadata": {},
   "outputs": [
    {
     "name": "stdout",
     "output_type": "stream",
     "text": [
      "<line x=\"0\" y=\"2470\" style=\"stroke:rgb(255,255,255);stroke-width:100\" />\n"
     ]
    }
   ],
   "source": [
    "line = \"\"\"<line x=\"%d\" y=\"%d\" style=\"stroke:rgb(255,255,255);stroke-width:%d\" />\"\"\" % (0, flag_width, stripe_width)\n",
    "\n",
    "print(line)"
   ]
  },
  {
   "cell_type": "markdown",
   "metadata": {},
   "source": [
    "The star field is another blue rectangle:"
   ]
  },
  {
   "cell_type": "code",
   "execution_count": 6,
   "metadata": {},
   "outputs": [
    {
     "name": "stdout",
     "output_type": "stream",
     "text": [
      "\n",
      "<rect width=\"988\" height=\"700\"\n",
      "style=\"fill:rgb(0,0,255)\" />\n",
      "\n"
     ]
    }
   ],
   "source": [
    "star_field = \"\"\"\n",
    "<rect width=\"%d\" height=\"%d\"\n",
    "style=\"fill:rgb(0,0,255)\" />\n",
    "\"\"\" % (flag_height * 0.76, 7 * stripe_width) \n",
    "\n",
    "print(star_field)"
   ]
  },
  {
   "cell_type": "markdown",
   "metadata": {},
   "source": [
    "We now have the pieces needed to build the basic flag image (neglecting the star field for now):"
   ]
  },
  {
   "cell_type": "code",
   "execution_count": 7,
   "metadata": {},
   "outputs": [],
   "source": [
    "def build_flag(width, height):\n",
    "    svg1 = \"\"\"\n",
    "<svg xmlns=\"http://www.w3.org/2000/svg\" width=\"%d\" height=\"%d\">\n",
    "\"\"\" % (flag_width, flag_height)\n",
    "    svg2 = \"\"\"\n",
    "</svg>\n",
    "\"\"\"\n",
    "    flag = \"\"\"\n",
    "  <rect width=\"%d\" height=\"%d\" \n",
    "  style=\"fill:rgb(255,0,0)\" />\"\"\" % (flag_width, flag_height)\n",
    "    star_field = \"\"\"\n",
    "<rect width=\"%d\" height=\"%d\"\n",
    "style=\"fill:rgb(0,0,255)\" />\"\"\" % (flag_height * 0.76, 7 * flag_height / 13)\n",
    "    svg = svg1\n",
    "    svg += \"  <g>\"\n",
    "    svg += flag\n",
    "    x1 = 0;\n",
    "    x2 = width\n",
    "    stripe_width = height/13\n",
    "    y = 1.5 * stripe_width\n",
    "    for stripe in range(0,7):\n",
    "        line = \"\"\"<line x1=\"%d\" y1=\"%d\" x2=\"%d\" y2=\"%d\" \n",
    "  style=\"stroke:rgb(255,255,255);stroke-width:%d\" />\"\"\" % (0, y, width, y, stripe_width )\n",
    "        svg += line\n",
    "        y += 2 * stripe_width\n",
    "    svg += star_field\n",
    "    svg += \"  </g>\"\n",
    "    svg += svg2\n",
    "    with open('_images/us-flag.svg','w') as fout:\n",
    "        fout.write(svg)"
   ]
  },
  {
   "cell_type": "markdown",
   "metadata": {},
   "source": [
    "To see the results of calling this function, we need the **show** routine from the presious notebook"
   ]
  },
  {
   "cell_type": "code",
   "execution_count": 8,
   "metadata": {},
   "outputs": [],
   "source": [
    "def show(fname):\n",
    "    with open(fname) as fin:\n",
    "        lines = fin.readlines()\n",
    "        for l in lines:\n",
    "            print(l.rstrip())"
   ]
  },
  {
   "cell_type": "code",
   "execution_count": 9,
   "metadata": {},
   "outputs": [
    {
     "name": "stdout",
     "output_type": "stream",
     "text": [
      "\n",
      "<svg xmlns=\"http://www.w3.org/2000/svg\" width=\"2470\" height=\"1300\">\n",
      "  <g>\n",
      "  <rect width=\"2470\" height=\"1300\"\n",
      "  style=\"fill:rgb(255,0,0)\" /><line x1=\"0\" y1=\"150\" x2=\"2470\" y2=\"150\"\n",
      "  style=\"stroke:rgb(255,255,255);stroke-width:100\" /><line x1=\"0\" y1=\"350\" x2=\"2470\" y2=\"350\"\n",
      "  style=\"stroke:rgb(255,255,255);stroke-width:100\" /><line x1=\"0\" y1=\"550\" x2=\"2470\" y2=\"550\"\n",
      "  style=\"stroke:rgb(255,255,255);stroke-width:100\" /><line x1=\"0\" y1=\"750\" x2=\"2470\" y2=\"750\"\n",
      "  style=\"stroke:rgb(255,255,255);stroke-width:100\" /><line x1=\"0\" y1=\"950\" x2=\"2470\" y2=\"950\"\n",
      "  style=\"stroke:rgb(255,255,255);stroke-width:100\" /><line x1=\"0\" y1=\"1150\" x2=\"2470\" y2=\"1150\"\n",
      "  style=\"stroke:rgb(255,255,255);stroke-width:100\" /><line x1=\"0\" y1=\"1350\" x2=\"2470\" y2=\"1350\"\n",
      "  style=\"stroke:rgb(255,255,255);stroke-width:100\" />\n",
      "<rect width=\"988\" height=\"700\"\n",
      "style=\"fill:rgb(0,0,255)\" />  </g>\n",
      "</svg>\n"
     ]
    }
   ],
   "source": [
    "build_flag(flag_width, flag_height)\n",
    "show('_images/us-flag.svg')"
   ]
  },
  {
   "cell_type": "markdown",
   "metadata": {},
   "source": [
    "Here is the flag so far:\n",
    "\n",
    "<img src=\"_images/us-flag.svg\">"
   ]
  },
  {
   "cell_type": "markdown",
   "metadata": {},
   "source": [
    "## Creating the Star Field\n",
    "\n",
    "While searching for a flag SVG, I came across a clever way to build the star field. Basically, we create two vertical sets of stars, then group them in the needed pattern. This is very efficient, but takes some study to figure out. \n",
    "\n",
    "SVG makes building a star easy, since it will fill any closed polygon, even one that crosses itself."
   ]
  },
  {
   "cell_type": "code",
   "execution_count": 10,
   "metadata": {},
   "outputs": [],
   "source": [
    "stars = \"\"\"\n",
    "<g fill=\"#fff\">\n",
    "  <g id=\"s18\">\n",
    "    <g id=\"s9\">\n",
    "      <g id=\"s5\">\n",
    "        <g id=\"s4\">\n",
    "          <!-- here is the path for a single star -->\n",
    "          <path id=\"s\"\n",
    "            d=\"\n",
    "              M247,90\n",
    "              317.534230,307.082039\n",
    "              132.873218,172.917961\n",
    "              H361.126782\n",
    "              L176.465770,307.082039\n",
    "              z\"/>\n",
    "            <use xlink:href=\"#s\" y=\"420\"/>\n",
    "            <use xlink:href=\"#s\" y=\"840\"/>\n",
    "            <use xlink:href=\"#s\" y=\"1260\"/>\n",
    "        </g>\n",
    "        <use xlink:href=\"#s\" y=\"1680\"/>\n",
    "      </g>\n",
    "      <use xlink:href=\"#s4\" x=\"247\" y=\"210\"/>\n",
    "    </g>\n",
    "    <use xlink:href=\"#s9\" x=\"494\"/>\n",
    "  </g>\n",
    "  <use xlink:href=\"#s18\" x=\"988\"/>\n",
    "  <use xlink:href=\"#s9\" x=\"1976\"/>\n",
    "  <use xlink:href=\"#s5\" x=\"2470\"/>\n",
    "</g>\n",
    "\"\"\""
   ]
  },
  {
   "cell_type": "code",
   "execution_count": null,
   "metadata": {},
   "outputs": [],
   "source": []
  },
  {
   "cell_type": "markdown",
   "metadata": {},
   "source": [
    "## Clipping with a heart shape\n",
    "\n",
    "The flag is clipped using a heart shape path. we will build a simple shape using a square and two circular arcs. Before setting this up, we need to do some calculastions.\n",
    "\n",
    "The total height of our heart needs to match the height of the flag. Since we will be rotating the square so it lines up properly, we need a bit of math to figure out how bit go make the sides.\n",
    "\n",
    "We draw the heart by setting up a square, and capping two adjacent edges with circular arcs. This is easy to do with SVG, but calculating the size of the box takes a bit of math.\n",
    "\n",
    "We will define the path with the square sitting at the top of the screen. The circluar arcs will be on the right and bottom edges.\n",
    "\n",
    "The radius of the circluar ac is one half the size of the side. The hard part is figuring out the size of the side so the resulting heart shape is exactly the height of the flag.\n",
    "\n",
    "To figure out the path we need for this heart, start off by drawing a square with a side of length **side**.\n",
    "\n",
    "Here is an SVG image of this part:"
   ]
  },
  {
   "cell_type": "code",
   "execution_count": 7,
   "metadata": {},
   "outputs": [],
   "source": [
    "svg = \"\"\"\n",
    "<svg xmlns=\"http://www.w3.org/2000/svg\"\n",
    "width=\"520\" height = \"520\"\n",
    ">\n",
    "<path d=\"M 10,10 h 500 v 500 h -500 v -500 z\"\n",
    "style=\"fill:none;stroke:black;stroke-width:3\" />\n",
    "</svg>\n",
    "\"\"\"\n",
    "\n",
    "with open(\"_images/fig1_heart.svg\",\"w\") as fout:\n",
    "          fout.write(svg)"
   ]
  },
  {
   "cell_type": "code",
   "execution_count": 12,
   "metadata": {},
   "outputs": [
    {
     "data": {
      "image/svg+xml": [
       "<svg height=\"520\" width=\"520\" xmlns=\"http://www.w3.org/2000/svg\">\n",
       "<path d=\"M 10,10 h 500 v 500 h -500 v -500 z\" style=\"fill:none;stroke:black;stroke-width:3\"/>\n",
       "</svg>"
      ],
      "text/plain": [
       "<IPython.core.display.SVG object>"
      ]
     },
     "execution_count": 12,
     "metadata": {},
     "output_type": "execute_result"
    }
   ],
   "source": [
    "from IPython.core.display import SVG\n",
    "SVG(filename='_images/fig1_heart.svg')"
   ]
  },
  {
   "cell_type": "markdown",
   "metadata": {},
   "source": [
    "Next, we place a second square inside of this one, rotated 45 degrees:"
   ]
  },
  {
   "cell_type": "code",
   "execution_count": 13,
   "metadata": {},
   "outputs": [],
   "source": [
    "svg = \"\"\"\n",
    "<svg xmlns=\"http://www.w3.org/2000/svg\"\n",
    "width=\"520\" height = \"520\"\n",
    ">\n",
    "<path d=\"M 10,10 h 500 v 500 h -500 v -500 z\"\n",
    "style=\"fill:none;stroke:black;stroke-width:3\" />\n",
    "<path d=\"M 10,260 L 260, 10 510,260 260,510 10,260 z\"\n",
    "style=\"fill:none;stroke:black;stroke-width:3\" />\n",
    "</svg>\n",
    "\"\"\"\n",
    "\n",
    "with open(\"_images/fig2_heart.svg\",\"w\") as fout:\n",
    "          fout.write(svg)"
   ]
  },
  {
   "cell_type": "code",
   "execution_count": 14,
   "metadata": {},
   "outputs": [
    {
     "data": {
      "image/svg+xml": [
       "<svg height=\"520\" width=\"520\" xmlns=\"http://www.w3.org/2000/svg\">\n",
       "<path d=\"M 10,10 h 500 v 500 h -500 v -500 z\" style=\"fill:none;stroke:black;stroke-width:3\"/>\n",
       "<path d=\"M 10,260 L 260, 10 510,260 260,510 10,260 z\" style=\"fill:none;stroke:black;stroke-width:3\"/>\n",
       "</svg>"
      ],
      "text/plain": [
       "<IPython.core.display.SVG object>"
      ]
     },
     "execution_count": 14,
     "metadata": {},
     "output_type": "execute_result"
    }
   ],
   "source": [
    "SVG(filename='_images/fig2_heart.svg')"
   ]
  },
  {
   "cell_type": "markdown",
   "metadata": {},
   "source": [
    "We need to half circles on each of the top two sides of this inner circle. A bit of geometry will tell you that the radius of that circle is one half of the length of that inner side. If the outer side has length **side**, the inner square side has length $\\sqrt{2} side$.\n",
    "\n",
    "The radius of the circular arc is therfore $\\frac{\\sqrt{2}side}{2}$. The bounding box for this shape has dimensions $width = height = \\frac{3 side}{4} + \\frac{\\sqrt{2 side}}{2}$.\n",
    "\n",
    "The **arc** pathg command is a bit complex. It starts at the previous point on thr path and has this form:\n",
    "\n",
    "A r1 r2 f1 f2 x2 y2\n",
    "\n",
    "The two flag values are 0 and 1 for our shape. The r1 and **r2** values should be the circle radius here, and **x2** and **y2** are the end point og the arc.\n",
    "\n",
    "We need Python to do a bit of calculating here:"
   ]
  },
  {
   "cell_type": "code",
   "execution_count": 18,
   "metadata": {},
   "outputs": [
    {
     "name": "stdout",
     "output_type": "stream",
     "text": [
      "707.1067811865476 353.5533905932738\n"
     ]
    }
   ],
   "source": [
    "from math import sqrt\n",
    "side = 1000.0\n",
    "inside = sqrt(2) * side / 2.0\n",
    "rad = inside / 2.0\n",
    "print(inside, rad)"
   ]
  },
  {
   "cell_type": "markdown",
   "metadata": {},
   "source": [
    "The bounding box for this heart shape has dimensions $side + 2 ( rad - \\frac{side}{4} )$"
   ]
  },
  {
   "cell_type": "code",
   "execution_count": 19,
   "metadata": {},
   "outputs": [
    {
     "name": "stdout",
     "output_type": "stream",
     "text": [
      "1207.1067811865476\n"
     ]
    }
   ],
   "source": [
    "bbox = side + 2.0 * ( rad - side / 4.0)\n",
    "print(bbox)"
   ]
  },
  {
   "cell_type": "markdown",
   "metadata": {},
   "source": [
    "Let;s try to build the arcs using this data"
   ]
  },
  {
   "cell_type": "code",
   "execution_count": 64,
   "metadata": {},
   "outputs": [],
   "source": [
    "svg = \"\"\"\n",
    "<svg xmlns=\"http://www.w3.org/2000/svg\"\n",
    "width=\"800\" height = \"800\"\n",
    ">\n",
    "<g transform=\"translate(100,100)\">\n",
    "<path d=\"M 10,10 h 500 v 500 h -500 v -500 z\"\n",
    "style=\"fill:none;stroke:black;stroke-width:3\" />\n",
    "<path d=\"M 10,260 L 260, 10 510,260 260,510 10,260 z\"\n",
    "style=\"fill:none;stroke:black;stroke-width:3\" />\n",
    "<path d=\"M 10,260 A 176,176 0 0,1 260,10\"\n",
    "style=\"fill:none;stroke:black;stroke-width:3\" />\n",
    "<path d=\"M 260,10 A 176,176 0 0,1 510,260\"\n",
    "style=\"fill:none;stroke:black;stroke-width:3\" />\n",
    "</g>\n",
    "</svg>\n",
    "\"\"\"\n",
    "\n",
    "with open(\"_images/fig3_heart.svg\",\"w\") as fout:\n",
    "          fout.write(svg)"
   ]
  },
  {
   "cell_type": "code",
   "execution_count": 65,
   "metadata": {},
   "outputs": [
    {
     "data": {
      "image/svg+xml": [
       "<svg height=\"800\" width=\"800\" xmlns=\"http://www.w3.org/2000/svg\">\n",
       "<g transform=\"translate(100,100)\">\n",
       "<path d=\"M 10,10 h 500 v 500 h -500 v -500 z\" style=\"fill:none;stroke:black;stroke-width:3\"/>\n",
       "<path d=\"M 10,260 L 260, 10 510,260 260,510 10,260 z\" style=\"fill:none;stroke:black;stroke-width:3\"/>\n",
       "<path d=\"M 10,260 A 176,176 0 0,1 260,10\" style=\"fill:none;stroke:black;stroke-width:3\"/>\n",
       "<path d=\"M 260,10 A 176,176 0 0,1 510,260\" style=\"fill:none;stroke:black;stroke-width:3\"/>\n",
       "</g>\n",
       "</svg>"
      ],
      "text/plain": [
       "<IPython.core.display.SVG object>"
      ]
     },
     "execution_count": 65,
     "metadata": {},
     "output_type": "execute_result"
    }
   ],
   "source": [
    "SVG(filename='_images/fig3_heart.svg')"
   ]
  },
  {
   "cell_type": "markdown",
   "metadata": {},
   "source": [
    "That looks good. Now, let's put the entire shape into one path."
   ]
  },
  {
   "cell_type": "code",
   "execution_count": 70,
   "metadata": {},
   "outputs": [],
   "source": [
    "svg = \"\"\"\n",
    "<svg xmlns=\"http://www.w3.org/2000/svg\"\n",
    "width=\"800\" height = \"800\"\n",
    ">\n",
    "<g transform=\"translate(100,100)\">\n",
    "<path d=\"M 260,510 L 10,260 A 176,176 0 0,1 260,10 176,176 0 0,1 510,260 Z\"\n",
    "style=\"fill:none;stroke:black;stroke-width:3\" />\n",
    "</g>\n",
    "</svg>\n",
    "\"\"\"\n",
    "\n",
    "with open(\"_images/fig4_heart.svg\",\"w\") as fout:\n",
    "          fout.write(svg)"
   ]
  },
  {
   "cell_type": "code",
   "execution_count": 71,
   "metadata": {},
   "outputs": [
    {
     "data": {
      "image/svg+xml": [
       "<svg height=\"800\" width=\"800\" xmlns=\"http://www.w3.org/2000/svg\">\n",
       "<g transform=\"translate(100,100)\">\n",
       "<path d=\"M 260,510 L 10,260 A 176,176 0 0,1 260,10 176,176 0 0,1 510,260 Z\" style=\"fill:none;stroke:black;stroke-width:3\"/>\n",
       "</g>\n",
       "</svg>"
      ],
      "text/plain": [
       "<IPython.core.display.SVG object>"
      ]
     },
     "execution_count": 71,
     "metadata": {},
     "output_type": "execute_result"
    }
   ],
   "source": [
    "SVG(filename='_images/fig4_heart.svg')"
   ]
  },
  {
   "cell_type": "code",
   "execution_count": null,
   "metadata": {},
   "outputs": [],
   "source": []
  },
  {
   "cell_type": "code",
   "execution_count": 51,
   "metadata": {
    "scrolled": true
   },
   "outputs": [
    {
     "ename": "NameError",
     "evalue": "name 'show' is not defined",
     "output_type": "error",
     "traceback": [
      "\u001b[0;31m---------------------------------------------------------------------------\u001b[0m",
      "\u001b[0;31mNameError\u001b[0m                                 Traceback (most recent call last)",
      "\u001b[0;32m<ipython-input-51-09ef2f585de9>\u001b[0m in \u001b[0;36m<module>\u001b[0;34m\u001b[0m\n\u001b[0;32m----> 1\u001b[0;31m \u001b[0mshow\u001b[0m\u001b[0;34m(\u001b[0m\u001b[0;34m\"_images/usflag.svg\"\u001b[0m\u001b[0;34m)\u001b[0m\u001b[0;34m\u001b[0m\u001b[0;34m\u001b[0m\u001b[0m\n\u001b[0m",
      "\u001b[0;31mNameError\u001b[0m: name 'show' is not defined"
     ]
    }
   ],
   "source": [
    "show(\"_images/usflag.svg\")"
   ]
  },
  {
   "cell_type": "markdown",
   "metadata": {},
   "source": [
    "And here is the result:\n",
    "    \n",
    "<img src=\"_images/usflag.svg\">"
   ]
  },
  {
   "cell_type": "markdown",
   "metadata": {},
   "source": [
    "## Building a star\n",
    "\n",
    "The following material is the result of testing SVG code. Since the image above is all we need for the club logo, this material is here for reference only\n",
    "\n",
    "The hardest part of generating the flag is placing all of the stars. Let's start off by building one star."
   ]
  },
  {
   "cell_type": "code",
   "execution_count": 13,
   "metadata": {},
   "outputs": [
    {
     "name": "stdout",
     "output_type": "stream",
     "text": [
      "\n",
      "<svg xmlns=\"http://www.w3.org/2000/svg\" width=\"100\" height=\"100\">\n",
      "\n",
      "  <circle cx=\"50\" cy=\"50\" r=\"50\" style=\"fill:none;stroke:rgb(0,0,0);stroke-width:2\" />\n",
      "</svg>\n"
     ]
    }
   ],
   "source": [
    "def star(diameter):\n",
    "    svg = \"\"\"\n",
    "<svg xmlns=\"http://www.w3.org/2000/svg\" width=\"%d\" height=\"%d\">\n",
    "\"\"\" % (diameter, diameter)\n",
    "    radius = diameter/2\n",
    "    x = radius\n",
    "    y = radius\n",
    "    circle = \"\"\"\n",
    "  <circle cx=\"%d\" cy=\"%d\" r=\"%d\" style=\"fill:none;stroke:rgb(0,0,0);stroke-width:2\" />\n",
    "\"\"\" % (x,y,radius)\n",
    "    svg += circle\n",
    "    svg += \"\"\"</svg>\"\"\"\n",
    "    with open('_images/us-star.svg','w') as fout:\n",
    "        fout.write(svg)\n",
    "        \n",
    "star(100)\n",
    "show('_images/us-star.svg')"
   ]
  },
  {
   "cell_type": "markdown",
   "metadata": {},
   "source": [
    "We should see a simple circle.\n",
    "\n",
    "<img src=\"_images/us-star.svg\">\n",
    "\n",
    "Now for the fun part. We need to calculate the points for the star. These appear at 72 degree intervals from the top. A little trig will get those points set up:\n",
    "\n"
   ]
  },
  {
   "cell_type": "code",
   "execution_count": 14,
   "metadata": {},
   "outputs": [
    {
     "name": "stdout",
     "output_type": "stream",
     "text": [
      "[['50.00', '0.00'], ['97.55', '34.55'], ['79.39', '90.45'], ['20.61', '90.45'], ['2.45', '34.55']]\n"
     ]
    }
   ],
   "source": [
    "import math\n",
    "angle = 0\n",
    "radius = 50\n",
    "\n",
    "points = []\n",
    "for p in range(5):\n",
    "    x = radius + radius * math.sin(angle * math.pi / 180.0)\n",
    "    y = radius - radius * math.cos(angle * math.pi / 180.0)\n",
    "    sx = '%.2f' % x\n",
    "    sy = '%.2f' % y\n",
    "    points.append([sx,sy])\n",
    "    angle += 72\n",
    "print(points)"
   ]
  },
  {
   "cell_type": "markdown",
   "metadata": {},
   "source": [
    "Let's draw a path using these points. SVG has an interesting trick we can use to create the star. If we draw a **polyline** using these points in the correct order, we will get the star."
   ]
  },
  {
   "cell_type": "markdown",
   "metadata": {},
   "source": [
    "the correct order is this list (starting with zero at the top):"
   ]
  },
  {
   "cell_type": "code",
   "execution_count": 68,
   "metadata": {},
   "outputs": [],
   "source": [
    "order = [0,2,4,1,3]"
   ]
  },
  {
   "cell_type": "code",
   "execution_count": 65,
   "metadata": {},
   "outputs": [
    {
     "name": "stdout",
     "output_type": "stream",
     "text": [
      "\n",
      "<path d=\"M 50.00 0.00\n",
      "  L\n",
      "  50.00 0.00\n",
      "  97.55 34.55\n",
      "  79.39 90.45\n",
      "  20.61 90.45\n",
      "  2.45 34.55 Z\" style=\"fill:#000000\" />\n"
     ]
    }
   ],
   "source": [
    "path = \"\"\"\n",
    "<polygon  points=\"\n",
    "\"\"\"\n",
    "  %s, %s % (points[0][0], points[0][1])\n",
    "for p in points:\n",
    "    x = p[0]\n",
    "    y = p[1]\n",
    "    path += \"\"\"\n",
    "  %s %s\"\"\" % (x,y)\n",
    "path += \"\"\" Z\" style=\"fill:#000000\" />\"\"\" \n",
    "    \n",
    "print(path)"
   ]
  },
  {
   "cell_type": "code",
   "execution_count": 70,
   "metadata": {},
   "outputs": [
    {
     "name": "stdout",
     "output_type": "stream",
     "text": [
      "\n",
      "<polygon points = \"\n",
      "  50.00,0.00  79.39,90.45  2.45,34.55  97.55,34.55  20.61,90.45\"style=\"fill:white; rule:nonzero;\" />\n",
      "\n"
     ]
    }
   ],
   "source": [
    "svg = \"\"\"\n",
    "<polygon points = \"\n",
    "\"\"\"\n",
    "for p in order:\n",
    "    px = points[p][0]\n",
    "    py = points[p][1]\n",
    "    svg += \"  %s,%s\" % (px, py)\n",
    "svg += \"\\\"\"\n",
    "svg += \"\"\"style=\"fill:white; rule:nonzero;\" />\n",
    "\"\"\"\n",
    "\n",
    "print(svg)"
   ]
  },
  {
   "cell_type": "markdown",
   "metadata": {},
   "source": [
    "We now have code we can use to generate a white star for placement on the star field"
   ]
  },
  {
   "cell_type": "code",
   "execution_count": 79,
   "metadata": {},
   "outputs": [],
   "source": [
    "def gen_star(diameter, color):\n",
    "    svg = \"\"\"\n",
    "<svg xmlns=\"http://www.w3.org/2000/svg\" width=\"%d\" height=\"%d\">   \n",
    "    \"\"\" % (diameter, diameter)\n",
    "    radius = diameter / 2\n",
    "    angle = 0\n",
    "    points = []\n",
    "    for p in range(5):\n",
    "        x = radius + radius * math.sin(angle * math.pi / 180.0)\n",
    "        y = radius - radius * math.cos(angle * math.pi / 180.0)\n",
    "        sx = '%.2f' % x\n",
    "        sy = '%.2f' % y\n",
    "        points.append([sx,sy])\n",
    "        angle += 72\n",
    "    order = [0,2,4,1,3]\n",
    "    svg += \"\"\"\n",
    "<polygon points = \"\n",
    "\"\"\"\n",
    "    for p in order:\n",
    "        px = points[p][0]\n",
    "        py = points[p][1]\n",
    "        svg += \"  %s,%s\" % (px, py)\n",
    "    svg += \"\\\"\"\n",
    "    svg += \"\"\" style=\"fill:%s; rule:nonzero;\" />\n",
    "\"\"\" % color\n",
    "    svg += \"</svg>\"\n",
    "    with open('_images/haffa-star.svg','w') as fout:\n",
    "        fout.write(svg)"
   ]
  },
  {
   "cell_type": "markdown",
   "metadata": {},
   "source": [
    "Now we can display this star"
   ]
  },
  {
   "cell_type": "code",
   "execution_count": 80,
   "metadata": {},
   "outputs": [],
   "source": [
    "gen_star(100, \"red\")"
   ]
  },
  {
   "cell_type": "code",
   "execution_count": 81,
   "metadata": {},
   "outputs": [
    {
     "name": "stdout",
     "output_type": "stream",
     "text": [
      "\n",
      "<svg xmlns=\"http://www.w3.org/2000/svg\" width=\"100\" height=\"100\">\n",
      "\n",
      "<polygon points = \"\n",
      "  50.00,0.00  79.39,90.45  2.45,34.55  97.55,34.55  20.61,90.45\" style=\"fill:red; rule:nonzero;\" />\n",
      "</svg>\n"
     ]
    }
   ],
   "source": [
    "show('_images/haffa-star.svg')"
   ]
  },
  {
   "cell_type": "markdown",
   "metadata": {},
   "source": [
    "And, here is the test star.\n",
    "\n",
    "<img src=\"_images/haffa-star.svg\">"
   ]
  },
  {
   "cell_type": "code",
   "execution_count": null,
   "metadata": {},
   "outputs": [],
   "source": [
    "We have all the pieces needed to build the final logo, we will do that in the next article."
   ]
  }
 ],
 "metadata": {
  "kernelspec": {
   "display_name": "Python 3",
   "language": "python",
   "name": "python3"
  },
  "language_info": {
   "codemirror_mode": {
    "name": "ipython",
    "version": 3
   },
   "file_extension": ".py",
   "mimetype": "text/x-python",
   "name": "python",
   "nbconvert_exporter": "python",
   "pygments_lexer": "ipython3",
   "version": "3.7.5"
  }
 },
 "nbformat": 4,
 "nbformat_minor": 4
}
