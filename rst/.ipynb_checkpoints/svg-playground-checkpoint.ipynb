{
 "cells": [
  {
   "cell_type": "markdown",
   "metadata": {},
   "source": [
    "# Generating Club Badge\n",
    "\n",
    "To draw a partial circle in SVG, you use the ARC path command. The format of this command looks like this:\n",
    "\n",
    "    A rx, ry, x-axis-rotation, large-arc-flag, sweep-flag, x, y\n",
    "\n",
    "The variables in this command are a bit non obvious. Let's build a puthon function to generate the values from more conventional attributes:"
   ]
  },
  {
   "cell_type": "code",
   "execution_count": 16,
   "metadata": {},
   "outputs": [],
   "source": [
    "import math\n",
    "\n",
    "def textring(x,y):\n",
    "    svg = \"\"\"\n",
    "  <circle cx=\"%d\" cy=\"%d\" r=\"212\" stroke=\"black\" stroke-width=\"2\" fill=\"none\" />\"\"\" % (x,y)\n",
    "    svg += \"\"\"\n",
    "  <circle cx=\"%d\" cy=\"%d\" r=\"190\" stroke=\"black\" stroke-width=\"34\" fill=\"none\" />\"\"\" % (x,y)\n",
    "    svg += \"\"\"\"\n",
    "  <circle cx=\"%d\" cy=\"%d\" r=\"168\" stroke=\"black\" stroke-width=\"2\" fill=\"none\" />\"\"\" % (x,y)\n",
    "    return svg\n",
    "    \n",
    "def svgarc(xcenter,ycenter,r,startangle,endangle,ul):\n",
    "    largeArcFlag = 1\n",
    "    if endangle - startangle < 360:\n",
    "        large_arc_flag = 0\n",
    "    radiansconversion = math.pi/180.\n",
    "    xstartpoint = xcenter + r*math.cos(startangle*radiansconversion)\n",
    "    ystartpoint = ycenter - r*math.sin(startangle*radiansconversion)\n",
    "    xendpoint = xcenter + r*math.cos(endangle*radiansconversion)\n",
    "    yendpoint = ycenter - r*math.sin(endangle*radiansconversion)\n",
    "    #If we want to plot angles larger than 180 degrees we need this\n",
    "    d = \"M %d %d \" % (xstartpoint,ystartpoint)\n",
    "    d += \"A %d %d 0 %s %d %d %d\" % (r,r,large_arc_flag,ul,xendpoint,yendpoint)\n",
    "    d += \" Z\"\n",
    "    return d\n",
    "\n",
    "def bullet(x,y,rad,angle):\n",
    "    cx = x + rad * math.cos(angle * math.pi/180.0)\n",
    "    cy = y - rad * math.sin(angle * math.pi/180.0)\n",
    "    return cx, cy"
   ]
  },
  {
   "cell_type": "code",
   "execution_count": 17,
   "metadata": {},
   "outputs": [],
   "source": [
    "def gen_badge_ring(size, font_size):\n",
    "    r = size/2\n",
    "    rad1 =svgarc(r,r,182,158,20,1)\n",
    "    rad2 =svgarc(r,r,200,180,0,0)\n",
    "    rings = textring(r,r)\n",
    "    cxl,cyl = bullet(r,r,190,12)\n",
    "    cxr,cyr = bullet(r,r,190,168)\n",
    "    svg = \"\"\"<svg\n",
    "    xmlns=\"http://www.w3.org/2000/svg\"\n",
    "    xmlns:xlink=\"http://www.w3.org/1999/xlink\"\n",
    "    width=\"%d\" height=\"%d\" style=\"outline: 1px solid red; font-size: %d\">\n",
    "  <defs>\"\"\" % (size, size, font_size)\n",
    "    svg += \"\"\"\n",
    "    <path id=\"upper-arc\" d=\"%s\" />  \n",
    "    <path id=\"lower-arc\" d=\"%s\" />     \n",
    "  </defs>\"\"\" % (rad1,rad2)\n",
    "    svg += \"\"\"\n",
    "  %s\n",
    "  <circle cx=\"%d\" cy=\"%d\" r=\"6\" stroke=\"black\" stroke-width=\"3\" fill=\"white\" />\n",
    "  <circle cx=\"%d\" cy=\"%d\" r=\"6\" stroke=\"black\" stroke-width=\"3\" fill=\"white\" />\"\"\" % (rings,cxl,cyl,cxr,cyr)\n",
    "    svg += \"\"\" \n",
    "  <text word-spacing=\"7\" letter-spacing=\"9\" font-family=\"Courier\" fill=\"white\">   \n",
    "    <textPath xlink:href=\"#upper-arc\" startOffset=\"0\">HEART OF AMERICA</textPath>\n",
    "    <textPath xlink:href=\"#lower-arc\" startOffset=\"3\">FREE FLIGHT ASSOCIATION</textPath>\n",
    "  </text>\"\"\"\n",
    "    return svg"
   ]
  },
  {
   "cell_type": "code",
   "execution_count": 18,
   "metadata": {},
   "outputs": [
    {
     "name": "stdout",
     "output_type": "stream",
     "text": [
      "<svg\n",
      "    xmlns=\"http://www.w3.org/2000/svg\"\n",
      "    xmlns:xlink=\"http://www.w3.org/1999/xlink\"\n",
      "    width=\"500\" height=\"500\" style=\"outline: 1px solid red; font-size: 30\">\n",
      "  <defs>\n",
      "    <path id=\"upper-arc\" d=\"M 81 181 A 182 182 0 0 1 421 187 Z\" />  \n",
      "    <path id=\"lower-arc\" d=\"M 50 249 A 200 200 0 0 0 450 250 Z\" />     \n",
      "  </defs>\n",
      "  \n",
      "  <circle cx=\"250\" cy=\"250\" r=\"212\" stroke=\"black\" stroke-width=\"2\" fill=\"none\" />\n",
      "  <circle cx=\"250\" cy=\"250\" r=\"190\" stroke=\"black\" stroke-width=\"34\" fill=\"none\" />\"\n",
      "  <circle cx=\"250\" cy=\"250\" r=\"168\" stroke=\"black\" stroke-width=\"2\" fill=\"none\" />\n",
      "  <circle cx=\"435\" cy=\"210\" r=\"6\" stroke=\"black\" stroke-width=\"3\" fill=\"white\" />\n",
      "  <circle cx=\"64\" cy=\"210\" r=\"6\" stroke=\"black\" stroke-width=\"3\" fill=\"white\" /> \n",
      "  <text word-spacing=\"7\" letter-spacing=\"9\" font-family=\"Courier\" fill=\"white\">   \n",
      "    <textPath xlink:href=\"#upper-arc\" startOffset=\"0\">HEART OF AMERICA</textPath>\n",
      "    <textPath xlink:href=\"#lower-arc\" startOffset=\"3\">FREE FLIGHT ASSOCIATION</textPath>\n",
      "  </text>\n",
      "</svg>\n"
     ]
    }
   ],
   "source": [
    "from IPython.core.display import SVG\n",
    "svg = gen_badge_ring(500,30)\n",
    "print(svg)"
   ]
  },
  {
   "cell_type": "code",
   "execution_count": 19,
   "metadata": {},
   "outputs": [
    {
     "data": {
      "image/svg+xml": [
       "<svg height=\"500\" style=\"outline: 1px solid red; font-size: 30\" width=\"500\" xmlns=\"http://www.w3.org/2000/svg\" xmlns:xlink=\"http://www.w3.org/1999/xlink\">\n",
       "  <defs>\n",
       "    <path d=\"M 81 181 A 182 182 0 0 1 421 187 Z\" id=\"upper-arc\"/>  \n",
       "    <path d=\"M 50 249 A 200 200 0 0 0 450 250 Z\" id=\"lower-arc\"/>     \n",
       "  </defs>\n",
       "  \n",
       "  <circle cx=\"250\" cy=\"250\" fill=\"none\" r=\"212\" stroke=\"black\" stroke-width=\"2\"/>\n",
       "  <circle cx=\"250\" cy=\"250\" fill=\"none\" r=\"190\" stroke=\"black\" stroke-width=\"34\"/>&quot;\n",
       "  <circle cx=\"250\" cy=\"250\" fill=\"none\" r=\"168\" stroke=\"black\" stroke-width=\"2\"/>\n",
       "  <circle cx=\"435\" cy=\"210\" fill=\"white\" r=\"6\" stroke=\"black\" stroke-width=\"3\"/>\n",
       "  <circle cx=\"64\" cy=\"210\" fill=\"white\" r=\"6\" stroke=\"black\" stroke-width=\"3\"/> \n",
       "  <text fill=\"white\" font-family=\"Courier\" letter-spacing=\"9\" word-spacing=\"7\">   \n",
       "    <textPath startOffset=\"0\" xlink:href=\"#upper-arc\">HEART OF AMERICA</textPath>\n",
       "    <textPath startOffset=\"3\" xlink:href=\"#lower-arc\">FREE FLIGHT ASSOCIATION</textPath>\n",
       "  </text>\n",
       "</svg>"
      ],
      "text/plain": [
       "<IPython.core.display.SVG object>"
      ]
     },
     "execution_count": 19,
     "metadata": {},
     "output_type": "execute_result"
    }
   ],
   "source": [
    "SVG(svg)"
   ]
  },
  {
   "cell_type": "code",
   "execution_count": 26,
   "metadata": {},
   "outputs": [
    {
     "name": "stdout",
     "output_type": "stream",
     "text": [
      "<svg\n",
      "  xmlns=\"http://www.w3.org/2000/svg\"\n",
      "  width=\"500\" height=\"500\"\n",
      "  style=\"outline: 1px solid red; font-size: 30\">\n",
      "<svg\n",
      "    xmlns=\"http://www.w3.org/2000/svg\"\n",
      "    xmlns:xlink=\"http://www.w3.org/1999/xlink\"\n",
      "    width=\"500\" height=\"500\" style=\"outline: 1px solid red; font-size: 30\">\n",
      "  <defs>\n",
      "    <path id=\"upper-arc\" d=\"M 81 181 A 182 182 0 0 1 421 187 Z\" />  \n",
      "    <path id=\"lower-arc\" d=\"M 50 249 A 200 200 0 0 0 450 250 Z\" />     \n",
      "  </defs>\n",
      "  \n",
      "  <circle cx=\"250\" cy=\"250\" r=\"212\" stroke=\"black\" stroke-width=\"2\" fill=\"none\" />\n",
      "  <circle cx=\"250\" cy=\"250\" r=\"190\" stroke=\"black\" stroke-width=\"34\" fill=\"none\" />\"\n",
      "  <circle cx=\"250\" cy=\"250\" r=\"168\" stroke=\"black\" stroke-width=\"2\" fill=\"none\" />\n",
      "  <circle cx=\"435\" cy=\"210\" r=\"6\" stroke=\"black\" stroke-width=\"3\" fill=\"white\" />\n",
      "  <circle cx=\"64\" cy=\"210\" r=\"6\" stroke=\"black\" stroke-width=\"3\" fill=\"white\" /> \n",
      "  <text word-spacing=\"7\" letter-spacing=\"9\" font-family=\"Courier\" fill=\"white\">   \n",
      "    <textPath xlink:href=\"#upper-arc\" startOffset=\"0\">HEART OF AMERICA</textPath>\n",
      "    <textPath xlink:href=\"#lower-arc\" startOffset=\"3\">FREE FLIGHT ASSOCIATION</textPath>\n",
      "  </text>\n",
      "</svg></svg>\n"
     ]
    }
   ],
   "source": [
    "%run ./gen_logo.ipynb\n",
    "\n",
    "svg = logo(500,)\n",
    "svg += gen_badge_ring(500,30)\n",
    "svg += \"</svg>\"\n",
    "print(svg)"
   ]
  },
  {
   "cell_type": "markdown",
   "metadata": {},
   "source": [
    "Let's test this out by calling a simple function:"
   ]
  },
  {
   "cell_type": "code",
   "execution_count": null,
   "metadata": {},
   "outputs": [],
   "source": []
  },
  {
   "cell_type": "code",
   "execution_count": null,
   "metadata": {},
   "outputs": [],
   "source": []
  }
 ],
 "metadata": {
  "kernelspec": {
   "display_name": "Python 3",
   "language": "python",
   "name": "python3"
  },
  "language_info": {
   "codemirror_mode": {
    "name": "ipython",
    "version": 3
   },
   "file_extension": ".py",
   "mimetype": "text/x-python",
   "name": "python",
   "nbconvert_exporter": "python",
   "pygments_lexer": "ipython3",
   "version": "3.7.5"
  }
 },
 "nbformat": 4,
 "nbformat_minor": 4
}
