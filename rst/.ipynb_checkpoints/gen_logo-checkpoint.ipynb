{
 "cells": [
  {
   "cell_type": "markdown",
   "metadata": {},
   "source": [
    "# Generating HAFA Club Logo\n",
    "\n",
    "In this notebook we will develop a general purpose function that can build the club logo as an SVG file. The function will accept a single parameter which is the radius of the generated logo. The text on the outer ring is calculated as 6% of the size."
   ]
  },
  {
   "cell_type": "code",
   "execution_count": 1,
   "metadata": {},
   "outputs": [],
   "source": [
    "def logo(size):\n",
    "    font_size = 0.06 * size\n",
    "    svg = \"\"\"<svg\n",
    "  xmlns=\"http://www.w3.org/2000/svg\"\n",
    "  width=\"%d\" height=\"%d\"\n",
    "  style=\"outline: 1px solid red; font-size: %d\">\n",
    "\"\"\" % (size,size, font_size)\n",
    "    return svg"
   ]
  }
 ],
 "metadata": {
  "kernelspec": {
   "display_name": "Python 3",
   "language": "python",
   "name": "python3"
  },
  "language_info": {
   "codemirror_mode": {
    "name": "ipython",
    "version": 3
   },
   "file_extension": ".py",
   "mimetype": "text/x-python",
   "name": "python",
   "nbconvert_exporter": "python",
   "pygments_lexer": "ipython3",
   "version": "3.7.5"
  }
 },
 "nbformat": 4,
 "nbformat_minor": 4
}
