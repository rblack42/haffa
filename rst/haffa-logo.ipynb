{
 "cells": [
  {
   "cell_type": "markdown",
   "metadata": {},
   "source": [
    "\n",
    "# Building the HAFFA Logo"
   ]
  },
  {
   "cell_type": "markdown",
   "metadata": {},
   "source": [
    "The HAFFA logo was originally drawn up by Diane Basta and scanned to provide an image file. That image file has been in use for a long time, appearing on club hats, tee-shirts and the club website. However, since the only available image is a bitmap, scaling the logo up for use on banners, or incorporating it in a badge for use on models or membership cards has not been practical. \n",
    "\n",
    "<img src=\"_images/haffa-logo.jpg\">\n",
    "\n",
    "In this note, we will construct an SVG file that can provide the missing functionality. We will use a Python Jupyter notebook to document how this new logo is being generated from the original club logo.\n",
    "\n",
    "## Logo Components\n",
    "\n",
    "The original logo has five basic elements:\n",
    "\n",
    "1. The US Flag.\n",
    "\n",
    "2. A heart shape mask used to mask off parts of the flag.\n",
    "\n",
    "3. A Modeler launching an airplane.\n",
    "\n",
    "4. A free-flight  model.\n",
    "\n",
    "5. The text \"HAFFA\" styled in what looks like the papyrus font.\n",
    "\n",
    "## Tracing the image file\n",
    "\n",
    "I started off by using **Snagit**, an image editing tool,  to crop off the modeler, airplane and HAFFA text from the image file. The flag and heart are well defined, so there was no need to attempt to process those parts of the logo image. I broke up the text into the three letters used so each could be processed individually.\n",
    "\n",
    "Once I had isolated those components, I used **Inkscape** to trace the  parts, producing a rough SVG version of each item. **Inkscape** has a \"simplify\" command that cleans up the SVG somewhat, at the expense of rounding some areas. The resulting vector form of each component was very messy, since the resolution of the images used was fairly low. \n",
    "\n",
    "Finally, I then manually edited the images using **Inkscape**, deleting many of the remaining points to smooth up the final SVG for each item. I did some minor editing to make the data easier t see as well. Here are the basic component files I produced:\n",
    "\n",
    "### Pilot:\n",
    "\n",
    "<img src=\"_images/haffa-pilot.svg\">\n",
    "\n",
    "### Airplane:\n",
    "\n",
    "<img src=\"_images/haffa-airplane.svg\">\n",
    "\n",
    "### Letter H:\n",
    "\n",
    "<img src=\"_images/haffa-letter-H.svg\">\n",
    "\n",
    "### Letter A:\n",
    "\n",
    "<img src=\"_images/haffa-letter-A.svg\">\n",
    "\n",
    "### Letter F:\n",
    "\n",
    "<img src=\"_images/haffa-letter-F.svg\">\n",
    "\n",
    "All of these elements stll retain the hand-drawn feel. We may need to tweak them further as we build large format images from the final SVG files we produce.\n",
    "\n",
    "**inkscape** produces SVG that is a bit odd. For most users, this does not matter. However, My goal was to build a clean SVG file for the club logo, so I decided to manually cut out the needed drawing data from the **inkscape** SVG code and use that to produce an SVG file more readable by humans.\n",
    "\n",
    "We will use a bit of Python to do this job."
   ]
  },
  {
   "cell_type": "markdown",
   "metadata": {},
   "source": [
    "## Processing a Basic SVG file\n",
    "\n",
    "SVG is a text format, based on XML, which uses \"tags\" to identify each fundamental component of an image. If you have not seen this type of markup before, the idea is pretty simple. Here is a basic \"tag\":\n",
    "\n",
    "    <tag optional_parameters>\n",
    "      tag body\n",
    "    </tag>\n",
    "    \n",
    "Other tags can be placed in the tag body area producing a nested structure. It is common to indent those nested elements for readability.\n",
    "\n",
    "SVG defines a lot of standard tag names, each performing some action when the image file is displayed. Some tags cause visible drawing effects to appear. Other tags are more administrative in nature.\n",
    "\n",
    "For instance, the outermost tag in any SVG file is the **svg** tag itself. This tag defines the drawing canvas to be used for the image. we will see an example of this in a bit.\n",
    "\n",
    "SVG files can be processed using a number of Python tools. One common tool is **lxml** which can be installed using the standard library installer **pip**. You can inatall **lxml** using this command:\n",
    "\n",
    "    $ pip install lxml\n",
    "\n",
    "Once this step finishes, you can check your installation by importing the library:"
   ]
  },
  {
   "cell_type": "code",
   "execution_count": 65,
   "metadata": {},
   "outputs": [],
   "source": [
    "import lxml"
   ]
  },
  {
   "cell_type": "markdown",
   "metadata": {},
   "source": [
    "If you see no errors, you are ready to go.\n",
    "\n",
    "Let's begin by building a simple function that displays the text in an SVG file:"
   ]
  },
  {
   "cell_type": "code",
   "execution_count": 66,
   "metadata": {},
   "outputs": [],
   "source": [
    "def show(filename):\n",
    "    with open('_images/%s' % filename) as fin:\n",
    "        lines = fin.readlines()\n",
    "    for l in lines:\n",
    "        print(l.rstrip())"
   ]
  },
  {
   "cell_type": "markdown",
   "metadata": {},
   "source": [
    "We can now use this function to diaplsy one of our **inkscape** SVG files:"
   ]
  },
  {
   "cell_type": "code",
   "execution_count": 67,
   "metadata": {},
   "outputs": [
    {
     "name": "stdout",
     "output_type": "stream",
     "text": [
      "<?xml version=\"1.0\" encoding=\"UTF-8\" standalone=\"no\"?>\n",
      "<svg\n",
      "   xmlns:dc=\"http://purl.org/dc/elements/1.1/\"\n",
      "   xmlns:cc=\"http://creativecommons.org/ns#\"\n",
      "   xmlns:rdf=\"http://www.w3.org/1999/02/22-rdf-syntax-ns#\"\n",
      "   xmlns:svg=\"http://www.w3.org/2000/svg\"\n",
      "   xmlns=\"http://www.w3.org/2000/svg\"\n",
      "   xmlns:sodipodi=\"http://sodipodi.sourceforge.net/DTD/sodipodi-0.dtd\"\n",
      "   xmlns:inkscape=\"http://www.inkscape.org/namespaces/inkscape\"\n",
      "   version=\"1.1\"\n",
      "   id=\"svg159\"\n",
      "   width=\"233.30176\"\n",
      "   height=\"200\"\n",
      "   viewBox=\"0 0 233.30176 200\"\n",
      "   sodipodi:docname=\"haffa-letter-H.svg\"\n",
      "   inkscape:version=\"1.0 (4035a4f, 2020-05-01)\">\n",
      "  <metadata\n",
      "     id=\"metadata25\">\n",
      "    <rdf:RDF>\n",
      "      <cc:Work\n",
      "         rdf:about=\"\">\n",
      "        <dc:format>image/svg+xml</dc:format>\n",
      "        <dc:type\n",
      "           rdf:resource=\"http://purl.org/dc/dcmitype/StillImage\" />\n",
      "        <dc:title></dc:title>\n",
      "      </cc:Work>\n",
      "    </rdf:RDF>\n",
      "  </metadata>\n",
      "  <defs\n",
      "     id=\"defs23\" />\n",
      "  <sodipodi:namedview\n",
      "     inkscape:document-rotation=\"0\"\n",
      "     pagecolor=\"#ffffff\"\n",
      "     bordercolor=\"#666666\"\n",
      "     borderopacity=\"1\"\n",
      "     objecttolerance=\"10\"\n",
      "     gridtolerance=\"10\"\n",
      "     guidetolerance=\"10\"\n",
      "     inkscape:pageopacity=\"0\"\n",
      "     inkscape:pageshadow=\"2\"\n",
      "     inkscape:window-width=\"995\"\n",
      "     inkscape:window-height=\"713\"\n",
      "     id=\"namedview21\"\n",
      "     showgrid=\"false\"\n",
      "     inkscape:zoom=\"1.8375\"\n",
      "     inkscape:cx=\"116.65088\"\n",
      "     inkscape:cy=\"67.346938\"\n",
      "     inkscape:window-x=\"0\"\n",
      "     inkscape:window-y=\"23\"\n",
      "     inkscape:window-maximized=\"0\"\n",
      "     inkscape:current-layer=\"g167\" />\n",
      "  <g\n",
      "     id=\"g167\"\n",
      "     transform=\"translate(136.94005,65.687287)\">\n",
      "    <path\n",
      "       d=\"m -135.01024,132.70382 c 10.54609,3.28331 21.06694,-3.94871 24.20863,-14.05748 4.83401,-12.31659 4.18421,-25.82625 7.88479,-38.447441 4.573935,-21.167941 9.167168,-42.343603 14.707323,-63.284024 19.235095,-5.954538 39.279958,2.222467 58.889842,0.247879 18.340853,0.452088 36.9701078,-1.646062 55.092227,2.271167 0.790803,20.083306 -5.016041,39.717921 -8.910998,59.261021 -2.763164,11.181582 -4.782812,22.665968 -8.1356686,33.631268 -2.3256387,7.99989 -9.35474886,14.56234 -12.7824555,20.60349 9.4996704,3.40853 20.1369771,1.19488 29.9556781,-0.006 4.274571,-10.41031 2.242043,-25.10932 4.4021,-37.099568 0.325371,-13.547194 7.011616,-25.690748 8.520576,-38.895347 1.485797,-15.289763 4.23731,-30.443234 8.0051,-45.294194 1.084922,-13.9603685 4.103866,-27.680181 6.002906,-41.514128 2.50087,-10.587528 7.267076,-20.619131 14.015169,-29.145285 0.01284,-11.146878 -18.523894,-1.562864 -23.464886,3.334707 -7.88075,7.836575 -3.357508,8.803847 -7.31786,22.433612 C 33.537958,-24.622444 33.692745,-0.79858141 25.555547,2.3678998 6.5808517,1.8772569 -12.394418,0.0218051 -31.364679,0.5161385 c -17.990282,-1.9676646 -36.150518,-1.24229362 -54.137347,-3.2591353 0.515947,-14.8566282 5.406472,-29.1459632 5.766658,-44.0271972 1.919969,-4.340467 13.249644,-18.475635 4.153312,-18.40317 -6.77894,6.101398 -18.69357,7.820132 -23.160506,15.10823 4.561691,9.960814 0.02443,20.720079 -0.293812,31.06479 -3.716266,28.611616 -7.586166,57.535089 -17.149176,84.85951 -5.24254,21.780535 -5.41783,45.980844 -19.90285,64.298704 -0.4781,1.37089 -1.96263,3.62855 1.07816,2.54595 z\"\n",
      "       style=\"fill:#b30000;fill-opacity:1;stroke-width:0.992523\"\n",
      "       id=\"path171\"\n",
      "       sodipodi:nodetypes=\"ccccccccccccccccccccccccccc\" />\n",
      "  </g>\n",
      "</svg>\n"
     ]
    }
   ],
   "source": [
    "show('haffa-letter-H.svg')"
   ]
  },
  {
   "cell_type": "markdown",
   "metadata": {},
   "source": [
    "If you examine this **inkscape** file closly, you will see that it defines a drawing canvas in the **svg** tag, and has a **path** tag that defines the shape to be drawn and the color to use to fill that shape. The shape may be contained inside of a **g** tag which can provide transformation information in case the shape needs to be scaled, moved, or rotated for final display. \n",
    "\n",
    "The **path** tag contains the important data used to draw the shape. We will extract those data items and collect each one in a list of items to draw. There will be two kinds of items in this list: command letters, and coordinate pair values. Fortunately, **inkscape** uses spaces to separate these items making is easy for Python to break things up for processing. \n",
    "\n",
    "Jupyter Notebook makes it difficult to build code using a top-down approach, so we will build a few utility functons first, then work up to the final management code."
   ]
  },
  {
   "cell_type": "markdown",
   "metadata": {},
   "source": [
    "We will need a function that takes an SVG filename and uses **lxml** to parse that file into a structure we can use to extract data. This structure is called a parse tree:"
   ]
  },
  {
   "cell_type": "code",
   "execution_count": 68,
   "metadata": {},
   "outputs": [],
   "source": [
    "import os\n",
    "from lxml import etree\n",
    "\n",
    "def parse(filename):\n",
    "        fname = os.path.join(\"_images\", filename)\n",
    "        tree = etree.parse(fname)\n",
    "        return tree"
   ]
  },
  {
   "cell_type": "markdown",
   "metadata": {},
   "source": [
    "We can check this function out by processing the same file:"
   ]
  },
  {
   "cell_type": "code",
   "execution_count": 69,
   "metadata": {},
   "outputs": [
    {
     "name": "stdout",
     "output_type": "stream",
     "text": [
      "<lxml.etree._ElementTree object at 0x1126f1550>\n"
     ]
    }
   ],
   "source": [
    "tree = parse(\"haffa-letter-H.svg\")\n",
    "print(tree)"
   ]
  },
  {
   "cell_type": "markdown",
   "metadata": {},
   "source": [
    "The tree is a data structure, not something we can print this way!\n",
    "\n",
    "We will need to extract three basic pieces of data from each file: canvas size (width and height), path data, and fill color. One of the files also has a transform data item in the **g** tag, so we need to check for this as well. To simplify extracting these data items, this, we will build functions for each one:"
   ]
  },
  {
   "cell_type": "code",
   "execution_count": 70,
   "metadata": {},
   "outputs": [
    {
     "name": "stdout",
     "output_type": "stream",
     "text": [
      "233.30176 200\n"
     ]
    }
   ],
   "source": [
    "def get_canvas_size(tree):\n",
    "    for element in tree.iter():\n",
    "        tag = element.tag.split('}')[1]\n",
    "        if tag == 'svg': break\n",
    "    width = element.get('width')\n",
    "    height = element.get('height')\n",
    "    return width, height\n",
    "        \n",
    "w,h = get_canvas_size(tree)\n",
    "print(w,h)"
   ]
  },
  {
   "cell_type": "code",
   "execution_count": 71,
   "metadata": {},
   "outputs": [
    {
     "name": "stdout",
     "output_type": "stream",
     "text": [
      "#b30000\n"
     ]
    }
   ],
   "source": [
    "def get_fill_color(tree):\n",
    "    for element in tree.iter():\n",
    "        tag = element.tag.split('}')[1]\n",
    "        if tag == 'path': break\n",
    "    style = element.get('style')\n",
    "    f1 = style.find('fill:')\n",
    "    style = style[f1+5:]\n",
    "    f2 = style.find(';')\n",
    "    if f2>0:\n",
    "        color = style[:f2]\n",
    "    else:\n",
    "        color = style\n",
    "    return color\n",
    "\n",
    "color = get_fill_color(tree)\n",
    "print(color)"
   ]
  },
  {
   "cell_type": "code",
   "execution_count": 72,
   "metadata": {},
   "outputs": [
    {
     "name": "stdout",
     "output_type": "stream",
     "text": [
      "['m', '-135.01024,132.70382', 'c', '10.54609,3.28331', '21.06694,-3.94871', '24.20863,-14.05748', '4.83401,-12.31659', '4.18421,-25.82625', '7.88479,-38.447441', '4.573935,-21.167941', '9.167168,-42.343603', '14.707323,-63.284024', '19.235095,-5.954538', '39.279958,2.222467', '58.889842,0.247879', '18.340853,0.452088', '36.9701078,-1.646062', '55.092227,2.271167', '0.790803,20.083306', '-5.016041,39.717921', '-8.910998,59.261021', '-2.763164,11.181582', '-4.782812,22.665968', '-8.1356686,33.631268', '-2.3256387,7.99989', '-9.35474886,14.56234', '-12.7824555,20.60349', '9.4996704,3.40853', '20.1369771,1.19488', '29.9556781,-0.006', '4.274571,-10.41031', '2.242043,-25.10932', '4.4021,-37.099568', '0.325371,-13.547194', '7.011616,-25.690748', '8.520576,-38.895347', '1.485797,-15.289763', '4.23731,-30.443234', '8.0051,-45.294194', '1.084922,-13.9603685', '4.103866,-27.680181', '6.002906,-41.514128', '2.50087,-10.587528', '7.267076,-20.619131', '14.015169,-29.145285', '0.01284,-11.146878', '-18.523894,-1.562864', '-23.464886,3.334707', '-7.88075,7.836575', '-3.357508,8.803847', '-7.31786,22.433612', 'C', '33.537958,-24.622444', '33.692745,-0.79858141', '25.555547,2.3678998', '6.5808517,1.8772569', '-12.394418,0.0218051', '-31.364679,0.5161385', 'c', '-17.990282,-1.9676646', '-36.150518,-1.24229362', '-54.137347,-3.2591353', '0.515947,-14.8566282', '5.406472,-29.1459632', '5.766658,-44.0271972', '1.919969,-4.340467', '13.249644,-18.475635', '4.153312,-18.40317', '-6.77894,6.101398', '-18.69357,7.820132', '-23.160506,15.10823', '4.561691,9.960814', '0.02443,20.720079', '-0.293812,31.06479', '-3.716266,28.611616', '-7.586166,57.535089', '-17.149176,84.85951', '-5.24254,21.780535', '-5.41783,45.980844', '-19.90285,64.298704', '-0.4781,1.37089', '-1.96263,3.62855', '1.07816,2.54595', 'z']\n"
     ]
    }
   ],
   "source": [
    "def get_path_data(tree):\n",
    "    for element in tree.iter():\n",
    "        tag = element.tag.split('}')[1]\n",
    "        if tag == 'path': break\n",
    "    data = element.get('d').split()\n",
    "    return data\n",
    "    \n",
    "data = get_path_data(tree)\n",
    "print(data)"
   ]
  },
  {
   "cell_type": "code",
   "execution_count": 73,
   "metadata": {},
   "outputs": [
    {
     "name": "stdout",
     "output_type": "stream",
     "text": [
      "136.94005 65.687287\n"
     ]
    }
   ],
   "source": [
    "def get_translate_data(tree):\n",
    "    xtranslate = 0\n",
    "    ytranslate = 0\n",
    "    tag = None\n",
    "    for element in tree.iter():\n",
    "        tag = element.tag.split('}')[1]\n",
    "        if tag == 'g': break\n",
    "    if tag:\n",
    "        data = element.get('transform')\n",
    "        if data:\n",
    "            f1 = data.find('(')\n",
    "            x,y = (data[f1+1:-1]).split(',')\n",
    "            xtranslate = float(x)\n",
    "            ytranslate = float(y)\n",
    "    return xtranslate, ytranslate\n",
    "        \n",
    "xt,yt = get_translate_data(tree)\n",
    "print(xt, yt)"
   ]
  },
  {
   "cell_type": "markdown",
   "metadata": {},
   "source": [
    "We now have the tools needed to extract the basic drawing data. We can create a clean SVG file using the data provided by our new functions."
   ]
  },
  {
   "cell_type": "code",
   "execution_count": 74,
   "metadata": {},
   "outputs": [
    {
     "name": "stdout",
     "output_type": "stream",
     "text": [
      "<svg xmlns=\"http://www.w3.org/2000/svg\" width=\"233.30176\" height=\"200\">\n",
      "  <g transform=\"translate(136.94,65.69)\">\n",
      "    <path d=\"\n",
      "m -135.01024,132.70382 c 10.54609,3.28331 21.06694,-3.94871 24.20863,-14.05748 4.83401,-12.31659 4.18421,-25.82625 7.88479,-38.447441 4.573935,-21.167941 9.167168,-42.343603 14.707323,-63.284024 19.235095,-5.954538 39.279958,2.222467 58.889842,0.247879 18.340853,0.452088 36.9701078,-1.646062 55.092227,2.271167 0.790803,20.083306 -5.016041,39.717921 -8.910998,59.261021 -2.763164,11.181582 -4.782812,22.665968 -8.1356686,33.631268 -2.3256387,7.99989 -9.35474886,14.56234 -12.7824555,20.60349 9.4996704,3.40853 20.1369771,1.19488 29.9556781,-0.006 4.274571,-10.41031 2.242043,-25.10932 4.4021,-37.099568 0.325371,-13.547194 7.011616,-25.690748 8.520576,-38.895347 1.485797,-15.289763 4.23731,-30.443234 8.0051,-45.294194 1.084922,-13.9603685 4.103866,-27.680181 6.002906,-41.514128 2.50087,-10.587528 7.267076,-20.619131 14.015169,-29.145285 0.01284,-11.146878 -18.523894,-1.562864 -23.464886,3.334707 -7.88075,7.836575 -3.357508,8.803847 -7.31786,22.433612 C 33.537958,-24.622444 33.692745,-0.79858141 25.555547,2.3678998 6.5808517,1.8772569 -12.394418,0.0218051 -31.364679,0.5161385 c -17.990282,-1.9676646 -36.150518,-1.24229362 -54.137347,-3.2591353 0.515947,-14.8566282 5.406472,-29.1459632 5.766658,-44.0271972 1.919969,-4.340467 13.249644,-18.475635 4.153312,-18.40317 -6.77894,6.101398 -18.69357,7.820132 -23.160506,15.10823 4.561691,9.960814 0.02443,20.720079 -0.293812,31.06479 -3.716266,28.611616 -7.586166,57.535089 -17.149176,84.85951 -5.24254,21.780535 -5.41783,45.980844 -19.90285,64.298704 -0.4781,1.37089 -1.96263,3.62855 1.07816,2.54595 z\n",
      "    \"\n",
      "      style=\"fill:#b30000\"\n",
      "    />\n",
      "  </g>\n",
      "</svg>\n"
     ]
    }
   ],
   "source": [
    "def clean_svg(filename, data, xt, yt, color, width, height):\n",
    "    fname = os.path.join('_images', filename)\n",
    "    svg = \"\"\"<svg xmlns=\"http://www.w3.org/2000/svg\" width=\"%s\" height=\"%s\">\"\"\" % (width, height)\n",
    "    svg += \"\"\"  \n",
    "  <g transform=\"translate(%.2f,%.2f)\">\n",
    "    <path d=\"\n",
    "\"\"\" % (xt,yt)\n",
    "    for item in data:\n",
    "        svg += item\n",
    "        svg += ' '\n",
    "    svg += \"\"\"\n",
    "    \"\n",
    "      style=\"fill:%s\"\n",
    "    />\n",
    "  </g>\n",
    "</svg>\"\"\" % color\n",
    "    with open(fname, \"w\") as fout:\n",
    "        fout.write(svg)\n",
    "        \n",
    "clean_svg('clean-haffa-letter-H.svg', data, xt, yt, color, w, h)\n",
    "show('clean-haffa-letter-H.svg')"
   ]
  },
  {
   "cell_type": "markdown",
   "metadata": {},
   "source": [
    "The coordinate data in this file has a precision that far exceeds anything we might actually need. We can clean that up by processing the data list. Here is a routine that does this."
   ]
  },
  {
   "cell_type": "code",
   "execution_count": 75,
   "metadata": {},
   "outputs": [
    {
     "name": "stdout",
     "output_type": "stream",
     "text": [
      "['m', '-135.01,132.70', 'c', '10.55,3.28', '21.07,-3.95', '24.21,-14.06', '4.83,-12.32', '4.18,-25.83', '7.88,-38.45', '4.57,-21.17', '9.17,-42.34', '14.71,-63.28', '19.24,-5.95', '39.28,2.22', '58.89,0.25', '18.34,0.45', '36.97,-1.65', '55.09,2.27', '0.79,20.08', '-5.02,39.72', '-8.91,59.26', '-2.76,11.18', '-4.78,22.67', '-8.14,33.63', '-2.33,8.00', '-9.35,14.56', '-12.78,20.60', '9.50,3.41', '20.14,1.19', '29.96,-0.01', '4.27,-10.41', '2.24,-25.11', '4.40,-37.10', '0.33,-13.55', '7.01,-25.69', '8.52,-38.90', '1.49,-15.29', '4.24,-30.44', '8.01,-45.29', '1.08,-13.96', '4.10,-27.68', '6.00,-41.51', '2.50,-10.59', '7.27,-20.62', '14.02,-29.15', '0.01,-11.15', '-18.52,-1.56', '-23.46,3.33', '-7.88,7.84', '-3.36,8.80', '-7.32,22.43', 'C', '33.54,-24.62', '33.69,-0.80', '25.56,2.37', '6.58,1.88', '-12.39,0.02', '-31.36,0.52', 'c', '-17.99,-1.97', '-36.15,-1.24', '-54.14,-3.26', '0.52,-14.86', '5.41,-29.15', '5.77,-44.03', '1.92,-4.34', '13.25,-18.48', '4.15,-18.40', '-6.78,6.10', '-18.69,7.82', '-23.16,15.11', '4.56,9.96', '0.02,20.72', '-0.29,31.06', '-3.72,28.61', '-7.59,57.54', '-17.15,84.86', '-5.24,21.78', '-5.42,45.98', '-19.90,64.30', '-0.48,1.37', '-1.96,3.63', '1.08,2.55', 'z']\n"
     ]
    }
   ],
   "source": [
    "def normalize_path_data(data):\n",
    "    norm = []\n",
    "    for item in data:\n",
    "        if item.isalpha():\n",
    "            norm.append(item)\n",
    "        else:\n",
    "            x,y = item.split(',')\n",
    "            fx = float(x)\n",
    "            fy = float(y)\n",
    "            norm.append(\"%.2f,%.2f\" % (fx,fy))\n",
    "    return norm\n",
    "        \n",
    "norm = normalize_path_data(data)\n",
    "print(norm)"
   ]
  },
  {
   "cell_type": "code",
   "execution_count": 76,
   "metadata": {},
   "outputs": [
    {
     "name": "stdout",
     "output_type": "stream",
     "text": [
      "<svg xmlns=\"http://www.w3.org/2000/svg\" width=\"233.30176\" height=\"200\">\n",
      "  <g transform=\"translate(136.94,65.69)\">\n",
      "    <path d=\"\n",
      "m -135.01,132.70 c 10.55,3.28 21.07,-3.95 24.21,-14.06 4.83,-12.32 4.18,-25.83 7.88,-38.45 4.57,-21.17 9.17,-42.34 14.71,-63.28 19.24,-5.95 39.28,2.22 58.89,0.25 18.34,0.45 36.97,-1.65 55.09,2.27 0.79,20.08 -5.02,39.72 -8.91,59.26 -2.76,11.18 -4.78,22.67 -8.14,33.63 -2.33,8.00 -9.35,14.56 -12.78,20.60 9.50,3.41 20.14,1.19 29.96,-0.01 4.27,-10.41 2.24,-25.11 4.40,-37.10 0.33,-13.55 7.01,-25.69 8.52,-38.90 1.49,-15.29 4.24,-30.44 8.01,-45.29 1.08,-13.96 4.10,-27.68 6.00,-41.51 2.50,-10.59 7.27,-20.62 14.02,-29.15 0.01,-11.15 -18.52,-1.56 -23.46,3.33 -7.88,7.84 -3.36,8.80 -7.32,22.43 C 33.54,-24.62 33.69,-0.80 25.56,2.37 6.58,1.88 -12.39,0.02 -31.36,0.52 c -17.99,-1.97 -36.15,-1.24 -54.14,-3.26 0.52,-14.86 5.41,-29.15 5.77,-44.03 1.92,-4.34 13.25,-18.48 4.15,-18.40 -6.78,6.10 -18.69,7.82 -23.16,15.11 4.56,9.96 0.02,20.72 -0.29,31.06 -3.72,28.61 -7.59,57.54 -17.15,84.86 -5.24,21.78 -5.42,45.98 -19.90,64.30 -0.48,1.37 -1.96,3.63 1.08,2.55 z\n",
      "    \"\n",
      "      style=\"fill:#b30000\"\n",
      "    />\n",
      "  </g>\n",
      "</svg>\n"
     ]
    }
   ],
   "source": [
    "clean_svg('clean-haffa-letter-H.svg', norm, xt, yt, color, w, h)\n",
    "show('clean-haffa-letter-H.svg')"
   ]
  },
  {
   "cell_type": "markdown",
   "metadata": {},
   "source": [
    "This is a bit cleaner. \n",
    "\n",
    "## Removing Relative Coordinates\n",
    "\n",
    "For reference purposes, we can inspect the **path** commands to see ewhat they actually will draw.most of these items are coordinate pairs. The items that are simple leters are SVG drawing commands. To understand them, we need to examine what each command does.\n",
    "\n",
    "SVG uses a basic dimensionless coordinate system. Normally, these dimensions refer to pixels on a screen, but we can make them dimensional with a little work. The **x** coordinate runs left to right. The **y** coordinate runs from top to bottom, which is a little odd for humans. The drawing commands move a virtual pen around in this space, and may define a line of simply move the pen frm place to place leaving no line. In out output we only see a few of the available SVG drawing commands. These commands may be upper case, or lower case. If they are upper case, the coordinates needed are absolute. If they are lower case, the provided coordinates are relative to the last point drawn. In our file, most commands are relative, so the coordinates shown are not the final values. We need to do some math to get the actual drawing coordinates. Here are the commands we see here:\n",
    "\n",
    "1. **m** - move the pen to the specified coordinate (since we start off at 0,0, the provide coordinates are actually absolute values\n",
    "\n",
    "2. **c** - draw a bezier curve. The final coordinate and two control points are specified.\n",
    "\n",
    "3. **l** draw a straight line from the last point specified  to the next coordinate.\n",
    "\n",
    "4. **z** - close the current path by drawing a straight line from the last point specified to the first point in the path. The resulting area can be filled. The fill color is specified by the **style** paramener.\n",
    "\n",
    "If a command is followed by more coordinate values than the command needs, the same command is implied. This continues until another literal command letter is seen.\n",
    "\n",
    "In the code that follows, we will process the path data and eliminate the relative commands. The resulting drawing commands will now include absolute dimensions, which might be easier to use when we combine these elements into the final logo SVG file.\n",
    "\n"
   ]
  },
  {
   "cell_type": "code",
   "execution_count": 77,
   "metadata": {},
   "outputs": [
    {
     "name": "stdout",
     "output_type": "stream",
     "text": [
      "<svg xmlns=\"http://www.w3.org/2000/svg\"\n",
      "xmlns:xlink=\"http://www.w3.org/1999/xlink\"\n",
      "width=\"203\" height=\"198\">\n",
      "<path d=\"\n",
      "M 1.93 198.39 C 12.48 201.67 23.00 194.44 26.14 184.33 30.97 172.01 30.32 158.50 34.02 145.88 38.59 124.71 43.19 103.54 48.73 82.60 67.97 76.65 88.01 84.82 107.62 82.85 125.96 83.30 144.59 81.20 162.71 85.12 163.50 105.20 157.69 124.84 153.80 144.38 151.04 155.56 149.02 167.05 145.66 178.01 143.33 186.01 136.31 192.57 132.88 198.61 142.38 202.02 153.02 199.80 162.84 198.60 167.11 188.19 165.08 173.49 167.24 161.50 167.57 147.95 174.25 135.81 175.76 122.60 177.25 107.31 180.00 92.16 183.77 77.31 184.85 63.35 187.87 49.63 189.77 35.80 192.27 25.21 197.04 15.18 203.79 6.65 203.80 -4.50 185.27 5.09 180.33 9.98 172.45 17.82 176.97 18.78 173.01 32.41 C 33.54 -24.62 33.69 -0.80 25.56 2.37 6.58 1.88 -12.39 0.02 -31.36 0.52 C -49.35 -1.45 -67.51 -0.72 -85.50 -2.74 -84.98 -17.60 -80.09 -31.89 -79.73 -46.77 -77.81 -51.11 -66.48 -65.25 -75.58 -65.17 -82.36 -59.07 -94.27 -57.35 -98.74 -50.06 -94.18 -40.10 -98.72 -29.34 -99.03 -19.00 -102.75 9.61 -106.62 38.54 -116.18 65.86 -121.42 87.64 -121.60 111.84 -136.08 130.16 -136.56 131.53 -138.04 133.79 -135.00 132.71 Z \n",
      "    \"\n",
      "    style=\"fill:#b30000\"\n",
      "  />\n",
      "</svg>\n",
      "\n"
     ]
    }
   ],
   "source": [
    "x = xt\n",
    "y = yt\n",
    "i = 0\n",
    "xmin = 5000\n",
    "ymin = 5000\n",
    "xmax = -5000\n",
    "ymax = -5000\n",
    "\n",
    "numitems = len(norm)\n",
    "command = ''\n",
    "\n",
    "def split_coord(cstr):\n",
    "    global xt, yt\n",
    "    x,y = cstr.split(',')\n",
    "    x = float(x)\n",
    "    y = float(y)\n",
    "    return x,y\n",
    "\n",
    "def move(i, relative):\n",
    "    global x,y, xt, yt, xmax, ymax, newpath\n",
    "    \n",
    "    dx,dy = split_coord(norm[i])\n",
    "    if relative:\n",
    "        x += dx\n",
    "        y += dy\n",
    "    else:\n",
    "        x = dx\n",
    "        y = dy\n",
    "    xs = \"%.2f\" % x\n",
    "    ys = \"%.2f\" % y\n",
    "    if x > xmax: xmax = x\n",
    "    if y > ymax: ymax = y\n",
    "    newpath.extend([xs,ys])\n",
    "    return 1\n",
    "            \n",
    "def curve(i, relative):\n",
    "    global x, y, xmax, ymax, newpath\n",
    "    cx1,cy1 = split_coord(norm[i])\n",
    "    cx2,cy2 = split_coord(norm[i+1])\n",
    "    cx3,cy3 = split_coord(norm[i+2])\n",
    "    if relative:\n",
    "        cx1 = x + cx1\n",
    "        cy1 = y + cy1\n",
    "        cx2 = x + cx2\n",
    "        cy2 = y + cy2\n",
    "        x += cx3 \n",
    "        y += cy3\n",
    "    else:\n",
    "        x = cx3\n",
    "        y = cy3\n",
    "    cx1 = \"%.2f\" % cx1\n",
    "    cy1 = \"%.2f\" % cy1\n",
    "    cx2 = \"%.2f\" % cx2\n",
    "    cy2 = \"%.2f\" % cy2\n",
    "    xs = \"%.2f\" % x\n",
    "    ys = \"%.2f\" % y\n",
    "    newpath.extend([cx1,cy1,cx2,cy2,xs,ys])\n",
    "    if x > xmax: xmax = x\n",
    "    if y > ymax: ymax = y\n",
    "    return 3\n",
    "\n",
    "def close(i, relative):\n",
    "    return 1\n",
    "    \n",
    "def commands(argument, i):\n",
    "    relative = argument.islower()\n",
    "    switcher = {\n",
    "        'm' : move,\n",
    "        'M' : move,\n",
    "        'c' : curve,\n",
    "        'C' : curve,\n",
    "        'l' : move,\n",
    "        'L' : move,\n",
    "        'z' : close,\n",
    "        'Z' : close,\n",
    "    }\n",
    "    func = switcher.get(argument, lambda: \"Invalid command\")\n",
    "    return func(i, relative)\n",
    "    \n",
    "def gen_svg(xmax, ymax, path, color):\n",
    "    svg = \"\"\"<svg xmlns=\"http://www.w3.org/2000/svg\"\n",
    "xmlns:xlink=\"http://www.w3.org/1999/xlink\"\n",
    "width=\"%d\" height=\"%d\">\n",
    "<path d=\"\n",
    "\"\"\"% (xmax, ymax)\n",
    "    for item in path:\n",
    "        svg += str(item)\n",
    "        svg += \" \"\n",
    "    svg += \"\"\"\n",
    "    \"\n",
    "    style=\"fill:%s\"\n",
    "  />\n",
    "</svg>\n",
    "\"\"\" % (color)\n",
    "    print(svg)\n",
    "\n",
    "newpath = []\n",
    "while i < numitems:\n",
    "    command = norm[i]\n",
    "    i += 1\n",
    "    newpath.append(command.upper())\n",
    "    done = False\n",
    "    while not done:\n",
    "        i += commands(command,i)\n",
    "        if x > xmax: xmax = x\n",
    "        if y > ymax: ymax = y\n",
    "        if x < xmin: xmin = x\n",
    "        if y < ymin: ymin = y\n",
    "            \n",
    "        done = i >= numitems or  norm[i].isalpha()\n",
    "gen_svg(xmax, ymax, newpath, color)\n",
    "        "
   ]
  },
  {
   "cell_type": "markdown",
   "metadata": {},
   "source": [
    "this code is not being used for the current project, but may be useful later.\n",
    "\n",
    "Now, we can build clean files for all of our component parts:"
   ]
  },
  {
   "cell_type": "code",
   "execution_count": 80,
   "metadata": {},
   "outputs": [
    {
     "name": "stdout",
     "output_type": "stream",
     "text": [
      "<svg xmlns=\"http://www.w3.org/2000/svg\" width=\"225\" height=\"200\">\n",
      "  <g transform=\"translate(0.00,0.00)\">\n",
      "    <path d=\"\n",
      "m 12.00,200.00 c 15.22,-1.96 18.85,-24.62 31.04,-33.24 17.72,-19.03 25.81,-35.79 41.73,-29.03 23.99,2.39 63.47,-2.64 87.53,0.18 17.48,0.35 15.27,-2.50 18.67,12.18 4.55,14.76 3.37,41.15 14.46,49.91 27.69,6.11 19.32,-18.74 10.62,-32.97 -12.19,-15.46 -7.82,-34.35 -17.79,-52.58 -6.65,-21.99 -13.07,-41.65 -17.81,-63.26 -3.26,-13.89 -4.24,-33.35 -11.89,-50.24 -20.09,5.07 -21.86,21.14 -35.01,32.89 -11.16,20.22 -31.38,41.06 -44.95,60.05 -10.53,20.95 -31.00,35.76 -44.60,55.25 -12.72,18.27 -28.51,33.50 -44.47,49.15 -1.45,3.48 9.48,1.09 12.47,1.71 z m 84.61,-73.38 c -24.45,5.77 -14.89,-10.96 -3.91,-21.01 13.22,-19.74 35.95,-47.59 51.08,-66.31 10.57,-18.41 17.03,-10.93 18.16,8.02 9.38,17.91 13.75,39.66 18.17,63.62 11.16,21.48 -19.04,13.43 -34.84,15.17 -16.10,2.76 -32.39,-0.04 -48.66,0.50 z\n",
      "    \"\n",
      "      style=\"fill:#b30000\"\n",
      "    />\n",
      "  </g>\n",
      "</svg>\n",
      "<svg xmlns=\"http://www.w3.org/2000/svg\" width=\"180\" height=\"200\">\n",
      "  <g transform=\"translate(0.00,0.00)\">\n",
      "    <path d=\"\n",
      "m 28.90,195.37 c 5.21,-21.15 12.29,-64.35 17.86,-84.24 4.75,-19.30 7.99,-44.63 12.30,-54.30 27.38,2.06 43.84,-1.11 58.21,3.00 14.10,1.20 17.81,0.39 29.81,0.53 8.10,-5.36 5.11,-9.17 9.90,-13.80 -14.68,1.26 -4.89,0.54 -18.24,0.30 -41.10,-0.09 -63.76,-3.24 -78.08,-4.19 0.27,-8.92 1.94,-14.35 6.73,-27.81 18.01,-2.48 78.17,3.29 101.18,1.82 6.84,-8.81 2.86,-5.46 11.13,-14.83 -30.98,-0.20 -46.34,3.93 -70.55,2.18 C 98.00,5.17 69.74,-1.12 50.18,0.65 52.03,14.53 44.82,42.66 39.98,58.56 39.07,79.75 23.80,141.32 18.18,164.72 9.12,183.55 8.88,192.63 0.19,199.26 18.31,198.07 17.34,196.48 28.90,195.37 Z\n",
      "    \"\n",
      "      style=\"fill:#b30000\"\n",
      "    />\n",
      "  </g>\n",
      "</svg>\n",
      "<svg xmlns=\"http://www.w3.org/2000/svg\" width=\"233.30176\" height=\"200\">\n",
      "  <g transform=\"translate(136.94,65.69)\">\n",
      "    <path d=\"\n",
      "m -135.01,132.70 c 10.55,3.28 21.07,-3.95 24.21,-14.06 4.83,-12.32 4.18,-25.83 7.88,-38.45 4.57,-21.17 9.17,-42.34 14.71,-63.28 19.24,-5.95 39.28,2.22 58.89,0.25 18.34,0.45 36.97,-1.65 55.09,2.27 0.79,20.08 -5.02,39.72 -8.91,59.26 -2.76,11.18 -4.78,22.67 -8.14,33.63 -2.33,8.00 -9.35,14.56 -12.78,20.60 9.50,3.41 20.14,1.19 29.96,-0.01 4.27,-10.41 2.24,-25.11 4.40,-37.10 0.33,-13.55 7.01,-25.69 8.52,-38.90 1.49,-15.29 4.24,-30.44 8.01,-45.29 1.08,-13.96 4.10,-27.68 6.00,-41.51 2.50,-10.59 7.27,-20.62 14.02,-29.15 0.01,-11.15 -18.52,-1.56 -23.46,3.33 -7.88,7.84 -3.36,8.80 -7.32,22.43 C 33.54,-24.62 33.69,-0.80 25.56,2.37 6.58,1.88 -12.39,0.02 -31.36,0.52 c -17.99,-1.97 -36.15,-1.24 -54.14,-3.26 0.52,-14.86 5.41,-29.15 5.77,-44.03 1.92,-4.34 13.25,-18.48 4.15,-18.40 -6.78,6.10 -18.69,7.82 -23.16,15.11 4.56,9.96 0.02,20.72 -0.29,31.06 -3.72,28.61 -7.59,57.54 -17.15,84.86 -5.24,21.78 -5.42,45.98 -19.90,64.30 -0.48,1.37 -1.96,3.63 1.08,2.55 z\n",
      "    \"\n",
      "      style=\"fill:#b30000\"\n",
      "    />\n",
      "  </g>\n",
      "</svg>\n",
      "<svg xmlns=\"http://www.w3.org/2000/svg\" width=\"300\" height=\"300\">\n",
      "  <g transform=\"translate(0.00,0.00)\">\n",
      "    <path d=\"\n",
      "m 61.08,246.98 1.11,-29.71 c -13.71,6.30 -21.03,10.85 -19.33,22.06 0.81,8.76 -7.00,7.70 -8.32,0.47 -5.69,-8.79 -7.70,-15.34 3.75,-18.16 9.70,-4.86 18.19,-11.39 26.70,-18.02 6.37,-5.31 11.99,-10.47 15.83,-19.39 3.09,-16.40 4.48,-33.11 2.87,-49.74 l -2.16,-18.45 c -2.63,-8.55 -18.61,-4.62 -28.43,-5.06 -9.64,1.71 -19.30,3.72 -28.46,7.29 -8.34,-3.39 -22.02,15.15 -22.54,-0.65 1.93,-7.78 13.85,-5.58 20.37,-7.92 7.18,-0.87 14.09,-3.06 21.00,-4.78 9.39,-1.25 18.71,-3.08 28.14,-3.83 6.52,-1.75 6.92,-11.71 6.74,-18.96 C 77.57,77.22 78.05,71.88 74.15,68.10 67.13,64.95 57.85,52.82 66.61,45.95 c 7.81,-5.13 12.98,-2.03 20.80,1.13 -6.03,12.40 9.90,26.11 19.70,14.24 5.32,-9.38 9.02,-19.59 14.66,-28.81 4.44,-7.32 10.90,-18.46 19.36,-19.78 4.30,12.42 -13.78,16.35 -15.02,27.98 -4.50,11.46 -8.79,23.00 -16.12,33.06 -4.91,10.15 -2.02,21.92 -3.54,32.97 -0.17,20.91 1.25,42.61 -1.42,63.36 -2.64,12.37 -10.05,23.13 -19.93,30.88 -10.40,7.79 -13.41,16.65 -13.81,31.28 0.53,10.38 -1.62,20.31 -0.50,30.94 -0.49,7.82 11.57,3.90 11.63,9.39 2.12,6.00 -13.45,5.83 -22.44,2.43 z M 1.13,1.37 c 0.51,-4.04 2.81,3.92 0.00,0.00 z\n",
      "    \"\n",
      "      style=\"fill:#000000\"\n",
      "    />\n",
      "  </g>\n",
      "</svg>\n",
      "<svg xmlns=\"http://www.w3.org/2000/svg\" width=\"290\" height=\"240\">\n",
      "  <g transform=\"translate(0.00,0.00)\">\n",
      "    <path d=\"\n",
      "m 85.00,230.00 c 1.82,-8.07 2.75,-11.10 4.28,-19.56 -13.24,-7.46 -49.14,-20.20 -43.66,-36.42 16.08,6.16 28.74,16.42 46.66,21.22 10.34,-35.97 28.84,-90.14 37.53,-121.74 -38.91,-16.40 -68.46,-26.26 -100.44,-40.17 -12.57,-8.46 -30.39,-19.93 -26.60,-29.01 11.12,4.34 21.52,9.25 32.72,17.12 35.38,8.33 68.27,25.07 100.42,33.37 3.97,-4.53 14.96,-26.74 14.26,-11.48 l -0.89,15.62 c 30.33,11.66 67.12,30.40 94.23,39.59 13.15,0.50 26.31,0.66 39.49,0.60 5.38,16.45 -32.26,11.59 -42.21,13.04 -38.22,-14.03 -62.04,-22.94 -98.74,-34.25 -16.97,41.21 -28.76,83.06 -41.96,119.97 14.03,6.28 25.58,12.29 40.91,17.81 1.81,13.47 -34.91,-1.27 -46.63,-4.30 -1.93,5.11 -4.53,11.30 -5.84,18.47 -2.37,0.61 -3.52,0.12 -3.52,0.12 z\n",
      "    \"\n",
      "      style=\"fill:#000000\"\n",
      "    />\n",
      "  </g>\n",
      "</svg>\n"
     ]
    }
   ],
   "source": [
    "files = [\n",
    "    'haffa-letter-A.svg',\n",
    "    'haffa-letter-F.svg',\n",
    "    'haffa-letter-H.svg',\n",
    "    'haffa-pilot.svg',\n",
    "    'haffa-airplane.svg'\n",
    "]\n",
    "\n",
    "for fname in files:\n",
    "    tree = parse(fname)\n",
    "    w,h = get_canvas_size(tree)\n",
    "    color = get_fill_color(tree)\n",
    "    xt,yt = get_translate_data(tree)\n",
    "    data = get_path_data(tree)\n",
    "    norm = normalize_path_data(data)\n",
    "    \n",
    "    cname = 'clean-' + fname\n",
    "    clean_svg(cname, norm, xt, yt, color, w, h)\n",
    "    show(cname)"
   ]
  },
  {
   "cell_type": "markdown",
   "metadata": {},
   "source": [
    "As a check, let's display these files and make sure each one looks correct.\n",
    "\n",
    "### Pilot:\n",
    "\n",
    "<img src=\"_images/haffa-pilot.svg\">\n",
    "\n",
    "### Airplane:\n",
    "\n",
    "<img src=\"_images/haffa-airplane.svg\">\n",
    "\n",
    "### Letter H:\n",
    "\n",
    "<img src=\"_images/haffa-letter-H.svg\">\n",
    "\n",
    "### Letter A:\n",
    "\n",
    "<img src=\"_images/haffa-letter-A.svg\">\n",
    "\n",
    "### Letter F:\n",
    "\n",
    "<img src=\"_images/haffa-letter-F.svg\">"
   ]
  },
  {
   "cell_type": "markdown",
   "metadata": {},
   "source": [
    "These look fine. We still have two basic items to generate: the flag, and the heart shape that will mask that flag. Both of these elements will be set up in a separate notebook."
   ]
  },
  {
   "cell_type": "code",
   "execution_count": 82,
   "metadata": {},
   "outputs": [
    {
     "ename": "NameError",
     "evalue": "name 'draw' is not defined",
     "output_type": "error",
     "traceback": [
      "\u001b[0;31m---------------------------------------------------------------------------\u001b[0m",
      "\u001b[0;31mNameError\u001b[0m                                 Traceback (most recent call last)",
      "\u001b[0;32m<ipython-input-82-9fe58a6b9beb>\u001b[0m in \u001b[0;36m<module>\u001b[0;34m\u001b[0m\n\u001b[0;32m----> 1\u001b[0;31m \u001b[0mflag\u001b[0m \u001b[0;34m=\u001b[0m \u001b[0mdraw\u001b[0m\u001b[0;34m.\u001b[0m\u001b[0mDrawing\u001b[0m\u001b[0;34m(\u001b[0m\u001b[0mflag_height\u001b[0m\u001b[0;34m,\u001b[0m \u001b[0mflag_width\u001b[0m\u001b[0;34m)\u001b[0m\u001b[0;34m\u001b[0m\u001b[0;34m\u001b[0m\u001b[0m\n\u001b[0m\u001b[1;32m      2\u001b[0m \u001b[0;34m\u001b[0m\u001b[0m\n\u001b[1;32m      3\u001b[0m \u001b[0;31m# Draw an irregular polygon\u001b[0m\u001b[0;34m\u001b[0m\u001b[0;34m\u001b[0m\u001b[0;34m\u001b[0m\u001b[0m\n\u001b[1;32m      4\u001b[0m flag.append(draw.Lines(0, 0,\n\u001b[1;32m      5\u001b[0m                     \u001b[0mflag_width\u001b[0m\u001b[0;34m,\u001b[0m \u001b[0;36m0\u001b[0m\u001b[0;34m,\u001b[0m\u001b[0;34m\u001b[0m\u001b[0;34m\u001b[0m\u001b[0m\n",
      "\u001b[0;31mNameError\u001b[0m: name 'draw' is not defined"
     ]
    }
   ],
   "source": [
    "flag = draw.Drawing(flag_height, flag_width)\n",
    "\n",
    "# Draw an irregular polygon\n",
    "flag.append(draw.Lines(0, 0,\n",
    "                    flag_width, 0,\n",
    "                    flag_width, flag_height,\n",
    "                    0, flag_height,\n",
    "                    close=True,\n",
    "            fill='red',\n",
    "            stroke='black'))\n",
    "flag.setRenderSize(600)"
   ]
  },
  {
   "cell_type": "code",
   "execution_count": 39,
   "metadata": {},
   "outputs": [
    {
     "data": {
      "image/svg+xml": [
       "<?xml version=\"1.0\" encoding=\"UTF-8\"?>\n",
       "<svg xmlns=\"http://www.w3.org/2000/svg\" xmlns:xlink=\"http://www.w3.org/1999/xlink\"\n",
       "     width=\"1300\" height=\"2470.0\" viewBox=\"0 -2470.0 1300 2470.0\">\n",
       "<defs>\n",
       "</defs>\n",
       "<path d=\"M0,0 L2470.0,0 L2470.0,-1300 L0,-1300 Z\" fill=\"red\" stroke=\"black\" />\n",
       "</svg>"
      ],
      "text/plain": [
       "<drawSvg.drawing.Drawing at 0x11232d5d0>"
      ]
     },
     "execution_count": 39,
     "metadata": {},
     "output_type": "execute_result"
    }
   ],
   "source": [
    "flag"
   ]
  },
  {
   "cell_type": "code",
   "execution_count": null,
   "metadata": {},
   "outputs": [],
   "source": []
  }
 ],
 "metadata": {
  "kernelspec": {
   "display_name": "Python 3",
   "language": "python",
   "name": "python3"
  },
  "language_info": {
   "codemirror_mode": {
    "name": "ipython",
    "version": 3
   },
   "file_extension": ".py",
   "mimetype": "text/x-python",
   "name": "python",
   "nbconvert_exporter": "python",
   "pygments_lexer": "ipython3",
   "version": "3.7.5"
  }
 },
 "nbformat": 4,
 "nbformat_minor": 4
}
