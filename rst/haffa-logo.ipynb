{
 "cells": [
  {
   "cell_type": "markdown",
   "metadata": {},
   "source": [
    "\n",
    "# Building the HAFFA Logo"
   ]
  },
  {
   "cell_type": "markdown",
   "metadata": {},
   "source": [
    "<svg>\n",
    "<ellipse style=\"fill:#00ff00;stroke:#000000;\" cx=\"50\" cy=\"50\" rx=\"48\" ry=\"48\">\n",
    "<ellipse>\n",
    "</svg>"
   ]
  },
  {
   "cell_type": "markdown",
   "metadata": {},
   "source": [
    "The HAFFA logo was originally drawn up by Diane Basta and scanned to provide an image file. That image file has been in use for a long time, appearing on club hats, tee-shirts and the club website. However, since the only available image is a bitmap, scaling the logo up for use on banners, or incorporating it in a badge for use on models or membership cards has not been practical. \n",
    "\n",
    "<img src=\"_images/haffa-logo.jpg\">\n",
    "\n",
    "In this note, we will construct an SVG file that can provide the missing functionality. We will use a Python Jupyter notebook so you can see how this new logo is being generated from the original club logo.\n",
    "\n",
    "## Logo Components\n",
    "\n",
    "The original logo has five basic elements:\n",
    "\n",
    "1. The US Flag\n",
    "\n",
    "2. A heart shape mask used to cut off parts of the flag\n",
    "\n",
    "3. A Modeler launching an airplane\n",
    "\n",
    "4. A free-flight  model\n",
    "\n",
    "5. The text \"HAFFA\" styled in what looks like the papyrus font\n",
    "\n",
    "## Tracing the image file\n",
    "\n",
    "I started off by using **Snagit**, an image editing tool,  to crop off the modeler, airplane and HAFFA text from the image file. The flag and heart are well defined, so there was no need to attempt to process those parts of the logo image. I broke up the text into the three letters used so each could be processed individually.\n",
    "\n",
    "Once I had isolated those components, I used **Inkscape** to trace the  parts, producing a rough SVG version of each item. **Inkscape** has a \"simplify\" command that cleans up the SVG somewhat, at the expense of rounding some areas. The resulting vector form of each component was very messy, since the resolution of the images used was fairly low. \n",
    "\n",
    "Finally, I then manually edited the images using **Inkscape**, deleting many of the remaining points to smooth up the final SVG for each item. Here are the component files I produced:\n",
    "\n",
    "### Pilot:\n",
    "\n",
    "<img src=\"_images/haffa-pilot.svg\">\n",
    "\n",
    "### Airplane:\n",
    "\n",
    "<img src=\"_images/haffa-airplane.svg\">\n",
    "\n",
    "### Letter H:\n",
    "\n",
    "<img src=\"_images/haffa-letter-H.svg\">\n",
    "\n",
    "### Letter A:\n",
    "\n",
    "<img src=\"_images/haffa-letter-A.svg\">\n",
    "\n",
    "### Letter F:\n",
    "\n",
    "<img src=\"_images/haffa-letter-F.svg\">\n",
    "\n",
    "All of these elements stll retain the hand-drawn feel. We may need to tweak them as we build large format images from the final SVG files we produce.\n",
    "\n",
    "**inkscape** produces SVG that is a bit odd. For most users, this does not matter. However, My goal was to build a clean SVG file for the club logo, so I decided to manually cut out the needed drawing data from the **inkscape** SVG code and use that to produce an SVG file more readable by humans.\n",
    "\n",
    "The manual step involves extracting path data from each file. Lwt's use a bit of Python to do this job."
   ]
  },
  {
   "cell_type": "markdown",
   "metadata": {},
   "source": [
    "## Processing a Basic SVG file\n",
    "\n",
    "SVG is a text format, based on XML, which uses \"tags\" to identify each fundamental component of an image. If you have not seen this type of markup before, the idea is pretty simple. Here is a basic \"tag\":\n",
    "\n",
    "    <tag optional_parameters>\n",
    "      tag body\n",
    "    </tag>\n",
    "    \n",
    "Other tags can be placed in the tag body area producing a nested structure. It is common to indent those nested elements for readability.\n",
    "\n",
    "SVG defines a lot of standard tag names, each performing some action when the image file is displayed. Some tags cause visible drawing effects to appear. Other tags are more administrative in nature.\n",
    "\n",
    "For instance, the outermost tag in any SVG file is the **svg** tag itself. we will see an example of this in a bit.\n",
    "\n",
    "We could just type up the SVG file directly, but there are many calculations needed to come up with coordinate values we will need to placing the components of the logo, so I decided to generate the logo file using **Python**. \n",
    "\n",
    "SVG files can be processed using a number of tools. One common tool is **lxml** which can be installed using the standard library installer **pip**\n",
    "\n",
    "Once you run that tool, you can check your installation by importing this library:"
   ]
  },
  {
   "cell_type": "code",
   "execution_count": 1,
   "metadata": {},
   "outputs": [],
   "source": [
    "import lxml"
   ]
  },
  {
   "cell_type": "markdown",
   "metadata": {},
   "source": [
    "Let's start off by creating a function that parses an nput file to produce a tree of SVG elements:"
   ]
  },
  {
   "cell_type": "markdown",
   "metadata": {},
   "source": [
    "First, we need a list of the files to process:"
   ]
  },
  {
   "cell_type": "code",
   "execution_count": 53,
   "metadata": {},
   "outputs": [],
   "source": [
    "files = [\n",
    "    'haffa-letter-A.svg',\n",
    "    'haffa-letter-H.svg',\n",
    "    'haffa-letter-F.svg',\n",
    "    'haffa-pilot.svg',\n",
    "    'haffa-airplane.svg'\n",
    "]"
   ]
  },
  {
   "cell_type": "markdown",
   "metadata": {},
   "source": [
    "Next, we create a simple function that will process each file. In one of these files, the coordinates are transformed using a translate command. we need to deal with this case by calculating translate vales for each file:"
   ]
  },
  {
   "cell_type": "code",
   "execution_count": 81,
   "metadata": {},
   "outputs": [],
   "source": [
    "def clean_svg(path, width, height):\n",
    "    svg = \"\"\"<svg width=\"%s\" height=\"%s\">\"\"\" % (width, height)\n",
    "    svg += \"\"\"<path d=\"\n",
    "\"\"\"\n",
    "    for item in path:\n",
    "        svg += item\n",
    "        svg += ' '\n",
    "    svg += \"\"\"\n",
    "\"\n",
    "style=\"fill:black\"\n",
    "/>\n",
    "</svg>\"\"\"\n",
    "    print(svg)"
   ]
  },
  {
   "cell_type": "code",
   "execution_count": 82,
   "metadata": {},
   "outputs": [],
   "source": [
    "from lxml import etree\n",
    "\n",
    "def parse(svg_file):\n",
    "    with open(svg_file) as fin:\n",
    "        tree = etree.parse(fin)\n",
    "    return tree"
   ]
  },
  {
   "cell_type": "markdown",
   "metadata": {},
   "source": [
    "We can process our files using this function:"
   ]
  },
  {
   "cell_type": "code",
   "execution_count": 86,
   "metadata": {},
   "outputs": [
    {
     "name": "stdout",
     "output_type": "stream",
     "text": [
      "Processing haffa-letter-A.svg\n",
      "SVG:  225 200\n",
      "translate 0 0\n",
      "<svg width=\"225\" height=\"200\"><path d=\"\n",
      "m 12,200 c 15.21925,-1.96221 18.85111,-24.624365 31.04,-33.240902 17.72234,-19.026178 25.80622,-35.790743 41.72545,-29.026727 23.9864,2.391142 63.46746,-2.644427 87.53365,0.182885 17.48003,0.353395 15.27035,-2.498495 18.66824,12.179068 4.54624,14.764069 3.36862,41.153586 14.46025,49.905686 27.68748,6.11092 19.31657,-18.74108 10.62007,-32.9717 -12.18643,-15.456482 -7.8224,-34.349399 -17.79141,-52.575522 -6.64933,-21.9923576 -13.07492,-41.65235 -17.811,-63.262305 -3.25642,-13.892356 -4.24072,-33.351053 -11.88849,-50.241367 -20.09113,5.074658 -21.85777,21.144885 -35.00986,32.893956 -11.15688,20.217178 -31.38122,41.064809 -44.95381,60.0502793 -10.53464,20.9529587 -30.99873,35.7580387 -44.60181,55.2474057 -12.71658,18.269605 -28.51406,33.495229 -44.46513,49.148293 -1.44741,3.48489 9.47969,1.08872 12.47385,1.71095 z m 84.60504,-73.379555 c -24.4462,5.773577 -14.89332,-10.96389 -3.90564,-21.011433 13.21845,-19.7429998 35.94753,-47.592254 51.07823,-66.307161 10.57499,-18.411268 17.02866,-10.93443 18.15646,8.024274 9.37658,17.907763 13.74536,39.6632311 18.1725,63.62331 11.16092,21.484228 -19.03563,13.433501 -34.83696,15.1707 -16.09925,2.759461 -32.38643,-0.03582 -48.66459,0.50031 z \n",
      "style=\"fill:black\"\n",
      "/>\n",
      "</svg>\n",
      "Processing haffa-letter-H.svg\n",
      "SVG:  233.30176 200\n",
      "translate 136.94005 65.687287\n",
      "<svg width=\"233.30176\" height=\"200\"><path d=\"\n",
      "m -135.01024,132.70382 c 10.54609,3.28331 21.06694,-3.94871 24.20863,-14.05748 4.83401,-12.31659 4.18421,-25.82625 7.88479,-38.447441 4.573935,-21.167941 9.167168,-42.343603 14.707323,-63.284024 19.235095,-5.954538 39.279958,2.222467 58.889842,0.247879 18.340853,0.452088 36.9701078,-1.646062 55.092227,2.271167 0.790803,20.083306 -5.016041,39.717921 -8.910998,59.261021 -2.763164,11.181582 -4.782812,22.665968 -8.1356686,33.631268 -2.3256387,7.99989 -9.35474886,14.56234 -12.7824555,20.60349 9.4996704,3.40853 20.1369771,1.19488 29.9556781,-0.006 4.274571,-10.41031 2.242043,-25.10932 4.4021,-37.099568 0.325371,-13.547194 7.011616,-25.690748 8.520576,-38.895347 1.485797,-15.289763 4.23731,-30.443234 8.0051,-45.294194 1.084922,-13.9603685 4.103866,-27.680181 6.002906,-41.514128 2.50087,-10.587528 7.267076,-20.619131 14.015169,-29.145285 0.01284,-11.146878 -18.523894,-1.562864 -23.464886,3.334707 -7.88075,7.836575 -3.357508,8.803847 -7.31786,22.433612 C 33.537958,-24.622444 33.692745,-0.79858141 25.555547,2.3678998 6.5808517,1.8772569 -12.394418,0.0218051 -31.364679,0.5161385 c -17.990282,-1.9676646 -36.150518,-1.24229362 -54.137347,-3.2591353 0.515947,-14.8566282 5.406472,-29.1459632 5.766658,-44.0271972 1.919969,-4.340467 13.249644,-18.475635 4.153312,-18.40317 -6.77894,6.101398 -18.69357,7.820132 -23.160506,15.10823 4.561691,9.960814 0.02443,20.720079 -0.293812,31.06479 -3.716266,28.611616 -7.586166,57.535089 -17.149176,84.85951 -5.24254,21.780535 -5.41783,45.980844 -19.90285,64.298704 -0.4781,1.37089 -1.96263,3.62855 1.07816,2.54595 z \n",
      "style=\"fill:black\"\n",
      "/>\n",
      "</svg>\n",
      "Processing haffa-letter-F.svg\n",
      "SVG:  180 200\n",
      "translate 0 0\n",
      "<svg width=\"180\" height=\"200\"><path d=\"\n",
      "m 24,200 c 5.21484,-21.14937 12.29455,-64.35133 17.86157,-84.23656 4.75018,-19.30062 7.98585,-44.629801 12.30013,-54.298015 27.37935,2.058386 43.84434,-1.107208 58.21371,3.004384 14.0988,1.201816 17.81198,0.393448 29.80723,0.532656 8.10206,-5.356021 5.10913,-9.172711 9.90068,-13.798004 -14.67635,1.25792 -4.88835,0.543231 -18.24028,0.297278 -41.09935,-0.09248 -63.75774,-3.24418 -78.07952,-4.194735 0.26817,-8.920308 1.9405,-14.347427 6.73386,-27.807807 18.0095,-2.483258 78.16782,3.294177 101.18378,1.817818 6.84496,-8.808727 2.86432,-5.458882 11.12882,-14.833291 -30.98344,-0.203905 -46.33975,3.926236 -70.54575,2.18004 -11.15731,1.127878 -39.42018,-5.154937 -58.98344,-3.383875 1.85283,13.879927 -5.36052,42.003272 -10.20133,57.909697 -0.90243,21.186394 -16.1768,82.757494 -21.7946,106.153724 -9.0612,18.8303 -9.30504,27.912 -17.98805,34.54322 18.11914,-1.19239 17.15014,-2.78548 28.70319,-3.88653 z \n",
      "style=\"fill:black\"\n",
      "/>\n",
      "</svg>\n",
      "Processing haffa-pilot.svg\n",
      "SVG:  300 300\n",
      "<svg width=\"300\" height=\"300\"><path d=\"\n",
      "m 61.078806,246.98201 1.107051,-29.7141 c -13.71,6.3 -21.03,10.85 -19.33,22.06 0.81,8.76 -7.00,7.70 -8.32,0.47 -5.69,-8.79 -7.70,-15.34 3.75,-18.16 9.70,-4.86 18.19,-11.39 26.70,-18.02 6.37,-5.31 11.99,-10.47 15.83,-19.39 3.09,-16.40 4.48,-33.11 2.87,-49.74 l -2.16,-18.45 c -2.63,-8.55 -18.61,-4.62 -28.43,-5.06 -9.64,1.71 -19.30,3.72 -28.46,7.29 -8.34,-3.39 -22.02,15.15 -22.54,-0.65 1.93,-7.78 13.85,-5.58 20.37,-7.92 7.18,-0.87 14.09,-3.06 21.00,-4.78 9.39,-1.25 18.71,-3.08 28.14,-3.83 6.52,-1.75 6.92,-11.71 6.74,-18.96 C 77.57,77.22 78.05,71.88 74.15,68.10 67.13,64.95 57.85,52.82 66.61,45.95 c 7.81,-5.13 12.98,-2.03 20.80,1.13 -6.03,12.40 9.90,26.11 19.70,14.24 5.32,-9.38 9.02,-19.59 14.66,-28.81 4.44,-7.32 10.90,-18.46 19.36,-19.78 4.30,12.42 -13.78,16.35 -15.02,27.98 -4.5,11.46 -8.79,23.00 -16.12,33.06 -4.91,10.15 -2.02,21.92 -3.54,32.97 -0.17,20.91 1.25,42.61 -1.42,63.36 -2.64,12.37 -10.05,23.13 -19.93,30.88 -10.40,7.79 -13.412148,16.65364 -13.81,31.28 0.53,10.38 -1.62,20.31 -0.50,30.94 -0.49,7.82 11.57,3.90 11.63,9.39 2.12,6.00 -13.45,5.83 -22.44,2.43 z M 1.13,1.37 c 0.51,-4.04 2.81,3.92 0,0 z \n",
      "style=\"fill:black\"\n",
      "/>\n",
      "</svg>\n",
      "Processing haffa-airplane.svg\n",
      "SVG:  290 240\n",
      "<svg width=\"290\" height=\"240\"><path d=\"\n",
      "m 85,230 c 1.82,-8.07 2.75,-11.10 4.28,-19.56 -13.24,-7.46 -49.14,-20.20 -43.66,-36.42 16.08313,6.16 28.74,16.42 46.66,21.22 10.34,-35.97 28.84,-90.14 37.53,-121.74 -38.91,-16.40 -68.46,-26.26 -100.44,-40.17 -12.57,-8.46 -30.39,-19.93 -26.60,-29.01 11.12,4.34 21.52,9.25 32.72,17.12 35.38,8.33 68.27,25.07 100.42,33.37 3.97,-4.53 14.96,-26.74 14.26,-11.48 l -0.89,15.62 c 30.33,11.66 67.12,30.40 94.23,39.59 13.15,0.50 26.31,0.66 39.49,0.60 5.38,16.45 -32.26,11.59 -42.21,13.04 -38.22,-14.03 -62.04,-22.94 -98.74,-34.25 -16.97,41.21 -28.76,83.06 -41.96,119.97 14.03,6.28 25.58,12.29 40.91,17.81 1.81,13.47 -34.91,-1.27 -46.63,-4.30 -1.93,5.11 -4.53,11.30 -5.84,18.47 -2.37,0.61 -3.52,0.12 -3.52,0.12 z \n",
      "style=\"fill:black\"\n",
      "/>\n",
      "</svg>\n"
     ]
    }
   ],
   "source": [
    "for fname in files:\n",
    "    print(\"Processing\", fname)\n",
    "    fname = '_images/' + fname\n",
    "    tree = parse(fname)\n",
    "    \n",
    "    for element in tree.iter():\n",
    "        tag = element.tag.split('}')[1]\n",
    "        if tag == 'svg':\n",
    "            width = element.get('width')\n",
    "            height = element.get('height')\n",
    "            print(\"SVG: \", width, height)\n",
    "        if tag == 'g':\n",
    "            translate = element.get('transform')\n",
    "            if translate: \n",
    "                transx, transy = translate[10:-1].split(',')\n",
    "            else:\n",
    "                transx = 0\n",
    "                transy = 0\n",
    "            print('translate', transx, transy)\n",
    "        elif tag == 'path':\n",
    "            path = element.get('d')\n",
    "            items = path.split()\n",
    "    clean_svg(items, width, height)\n",
    "            "
   ]
  },
  {
   "cell_type": "markdown",
   "metadata": {},
   "source": [
    "We now have the basic pieces to regenerate a clean SVG file:"
   ]
  },
  {
   "cell_type": "code",
   "execution_count": 76,
   "metadata": {},
   "outputs": [],
   "source": [
    "\n"
   ]
  },
  {
   "cell_type": "markdown",
   "metadata": {},
   "source": [
    "If you look closely at this output you see that the **svg** tag contains information about the size of the drawing. The **path** tag details what is to be displayed. \n",
    "\n",
    "An SVG path is a list of coordinate control points used to draw a line making up a \"path\" that a pen will follow t draw the figure. If the path is closed, we can fill it using some color. Let's see what our pilot path looks like:"
   ]
  },
  {
   "cell_type": "code",
   "execution_count": 5,
   "metadata": {
    "scrolled": true
   },
   "outputs": [
    {
     "name": "stdout",
     "output_type": "stream",
     "text": [
      "b'<svg xmlns=\"http://www.w3.org/2000/svg\" xmlns:xlink=\"http://www.w3.org/1999/xlink\" width=\"300\" height=\"300\">\\n\\n <path d=\"  m  61.078806,246.98201  1.107051,-29.7141  c  -13.71,6.3 -21.03,10.85 -19.33,22.06  0.81,8.76 -7.00,7.70 -8.32,0.47  -5.69,-8.79 -7.70,-15.34 3.75,-18.16  9.70,-4.86 18.19,-11.39 26.70,-18.02  6.37,-5.31 11.99,-10.47 15.83,-19.39  3.09,-16.40 4.48,-33.11 2.87,-49.74  l  -2.16,-18.45  c  -2.63,-8.55 -18.61,-4.62 -28.43,-5.06  -9.64,1.71 -19.30,3.72 -28.46,7.29  -8.34,-3.39 -22.02,15.15 -22.54,-0.65  1.93,-7.78 13.85,-5.58 20.37,-7.92  7.18,-0.87 14.09,-3.06 21.00,-4.78  9.39,-1.25 18.71,-3.08 28.14,-3.83  6.52,-1.75 6.92,-11.71 6.74,-18.96  C  77.57,77.22 78.05,71.88 74.15,68.10  67.13,64.95 57.85,52.82 66.61,45.95  c  7.81,-5.13 12.98,-2.03 20.80,1.13  -6.03,12.40 9.90,26.11 19.70,14.24  5.32,-9.38 9.02,-19.59 14.66,-28.81  4.44,-7.32 10.90,-18.46 19.36,-19.78  4.30,12.42 -13.78,16.35 -15.02,27.98  -4.5,11.46 -8.79,23.00 -16.12,33.06  -4.91,10.15 -2.02,21.92 -3.54,32.97  -0.17,20.91 1.25,42.61 -1.42,63.36  -2.64,12.37 -10.05,23.13 -19.93,30.88  -10.40,7.79 -13.412148,16.65364 -13.81,31.28  0.53,10.38 -1.62,20.31 -0.50,30.94  -0.49,7.82 11.57,3.90 11.63,9.39  2.12,6.00 -13.45,5.83 -22.44,2.43  z  M  1.13,1.37  c  0.51,-4.04  2.81,3.92  0,0  z\" style=\"fill:#000000\"/>\\n</svg>\\n'\n"
     ]
    }
   ],
   "source": [
    "result = etree.tostring(pilot.getroot(),pretty_print=True, method=\"xml\")\n",
    "print(result)\n",
    "    "
   ]
  },
  {
   "cell_type": "markdown",
   "metadata": {},
   "source": [
    "**lxml** can provide the data we need from this structure:"
   ]
  },
  {
   "cell_type": "code",
   "execution_count": 9,
   "metadata": {},
   "outputs": [
    {
     "name": "stdout",
     "output_type": "stream",
     "text": [
      "{http://www.w3.org/2000/svg}svg\n",
      "{http://www.w3.org/2000/svg}path\n"
     ]
    }
   ],
   "source": [
    "for element in pilot.iter():\n",
    "    print(element.tag)"
   ]
  },
  {
   "cell_type": "markdown",
   "metadata": {},
   "source": [
    "Here we see the two tags in the data file, but they include a namespace in curly brackets. To see just the tags, we could split this out with a bit if text processing. There are only three data items we need in this file: the width and height of the drawing, and the path data contained in the **d** parameter of the **path** tag."
   ]
  },
  {
   "cell_type": "code",
   "execution_count": 6,
   "metadata": {},
   "outputs": [
    {
     "name": "stdout",
     "output_type": "stream",
     "text": [
      "300 300\n",
      "  m  61.078806,246.98201  1.107051,-29.7141  c  -13.71,6.3 -21.03,10.85 -19.33,22.06  0.81,8.76 -7.00,7.70 -8.32,0.47  -5.69,-8.79 -7.70,-15.34 3.75,-18.16  9.70,-4.86 18.19,-11.39 26.70,-18.02  6.37,-5.31 11.99,-10.47 15.83,-19.39  3.09,-16.40 4.48,-33.11 2.87,-49.74  l  -2.16,-18.45  c  -2.63,-8.55 -18.61,-4.62 -28.43,-5.06  -9.64,1.71 -19.30,3.72 -28.46,7.29  -8.34,-3.39 -22.02,15.15 -22.54,-0.65  1.93,-7.78 13.85,-5.58 20.37,-7.92  7.18,-0.87 14.09,-3.06 21.00,-4.78  9.39,-1.25 18.71,-3.08 28.14,-3.83  6.52,-1.75 6.92,-11.71 6.74,-18.96  C  77.57,77.22 78.05,71.88 74.15,68.10  67.13,64.95 57.85,52.82 66.61,45.95  c  7.81,-5.13 12.98,-2.03 20.80,1.13  -6.03,12.40 9.90,26.11 19.70,14.24  5.32,-9.38 9.02,-19.59 14.66,-28.81  4.44,-7.32 10.90,-18.46 19.36,-19.78  4.30,12.42 -13.78,16.35 -15.02,27.98  -4.5,11.46 -8.79,23.00 -16.12,33.06  -4.91,10.15 -2.02,21.92 -3.54,32.97  -0.17,20.91 1.25,42.61 -1.42,63.36  -2.64,12.37 -10.05,23.13 -19.93,30.88  -10.40,7.79 -13.412148,16.65364 -13.81,31.28  0.53,10.38 -1.62,20.31 -0.50,30.94  -0.49,7.82 11.57,3.90 11.63,9.39  2.12,6.00 -13.45,5.83 -22.44,2.43  z  M  1.13,1.37  c  0.51,-4.04  2.81,3.92  0,0  z\n"
     ]
    }
   ],
   "source": [
    "for element in pilot.iter():\n",
    "    tag = element.tag.split('}')[1]\n",
    "    if tag == 'svg':\n",
    "        width = element.get('width')\n",
    "        height = element.get('height')\n",
    "        print(width, height)\n",
    "    elif tag == 'path':\n",
    "        data = element.get('d')\n",
    "        print(data)"
   ]
  },
  {
   "cell_type": "markdown",
   "metadata": {},
   "source": [
    "the path data is easily split up into a list of items:"
   ]
  },
  {
   "cell_type": "code",
   "execution_count": 8,
   "metadata": {},
   "outputs": [
    {
     "name": "stdout",
     "output_type": "stream",
     "text": [
      "m\n",
      "61.078806,246.98201\n",
      "1.107051,-29.7141\n",
      "c\n",
      "-13.71,6.3\n",
      "-21.03,10.85\n",
      "-19.33,22.06\n",
      "0.81,8.76\n",
      "-7.00,7.70\n",
      "-8.32,0.47\n",
      "-5.69,-8.79\n",
      "-7.70,-15.34\n",
      "3.75,-18.16\n",
      "9.70,-4.86\n",
      "18.19,-11.39\n",
      "26.70,-18.02\n",
      "6.37,-5.31\n",
      "11.99,-10.47\n",
      "15.83,-19.39\n",
      "3.09,-16.40\n",
      "4.48,-33.11\n",
      "2.87,-49.74\n",
      "l\n",
      "-2.16,-18.45\n",
      "c\n",
      "-2.63,-8.55\n",
      "-18.61,-4.62\n",
      "-28.43,-5.06\n",
      "-9.64,1.71\n",
      "-19.30,3.72\n",
      "-28.46,7.29\n",
      "-8.34,-3.39\n",
      "-22.02,15.15\n",
      "-22.54,-0.65\n",
      "1.93,-7.78\n",
      "13.85,-5.58\n",
      "20.37,-7.92\n",
      "7.18,-0.87\n",
      "14.09,-3.06\n",
      "21.00,-4.78\n",
      "9.39,-1.25\n",
      "18.71,-3.08\n",
      "28.14,-3.83\n",
      "6.52,-1.75\n",
      "6.92,-11.71\n",
      "6.74,-18.96\n",
      "C\n",
      "77.57,77.22\n",
      "78.05,71.88\n",
      "74.15,68.10\n",
      "67.13,64.95\n",
      "57.85,52.82\n",
      "66.61,45.95\n",
      "c\n",
      "7.81,-5.13\n",
      "12.98,-2.03\n",
      "20.80,1.13\n",
      "-6.03,12.40\n",
      "9.90,26.11\n",
      "19.70,14.24\n",
      "5.32,-9.38\n",
      "9.02,-19.59\n",
      "14.66,-28.81\n",
      "4.44,-7.32\n",
      "10.90,-18.46\n",
      "19.36,-19.78\n",
      "4.30,12.42\n",
      "-13.78,16.35\n",
      "-15.02,27.98\n",
      "-4.5,11.46\n",
      "-8.79,23.00\n",
      "-16.12,33.06\n",
      "-4.91,10.15\n",
      "-2.02,21.92\n",
      "-3.54,32.97\n",
      "-0.17,20.91\n",
      "1.25,42.61\n",
      "-1.42,63.36\n",
      "-2.64,12.37\n",
      "-10.05,23.13\n",
      "-19.93,30.88\n",
      "-10.40,7.79\n",
      "-13.412148,16.65364\n",
      "-13.81,31.28\n",
      "0.53,10.38\n",
      "-1.62,20.31\n",
      "-0.50,30.94\n",
      "-0.49,7.82\n",
      "11.57,3.90\n",
      "11.63,9.39\n",
      "2.12,6.00\n",
      "-13.45,5.83\n",
      "-22.44,2.43\n",
      "z\n",
      "M\n",
      "1.13,1.37\n",
      "c\n",
      "0.51,-4.04\n",
      "2.81,3.92\n",
      "0,0\n",
      "z\n"
     ]
    }
   ],
   "source": [
    "items = data.split()\n",
    "for item in items:\n",
    "    print(item)"
   ]
  },
  {
   "cell_type": "markdown",
   "metadata": {},
   "source": [
    "most of these items are coordinate pairs. The items that are simple leters are SVG drawing commands. To understand them, we need to examine what each command does.\n",
    "\n",
    "SVG uses a basic dimensionless coordinate system. Normally, these dimensions refer to pixels on a screen, but we can make them dimensional with a little work. The **x** coordinate runs left to right. The **y** coordinate runs from top to bottom, which is a little odd for humans. The drawing commands move a virtual pen around in this space, and may define a line of simply move the pen frm place to place leaving no line. In out output we only see a few of the available SVG drawing commands. These commands may be upper case, or lower case. If they are upper case, the coordinates needed are absolute. If they are lower case, the provided coordinates are relative to the last point drawn. In our file, most commands are relative, so the coordinates shown are not the final values. We need to do some math to get the actual drawing coordinates. Here are the commands we see here:\n",
    "\n",
    "1. **m** - move the pen to the specified coordinate (since we start off at 0,0, the provide coordinates are actually absolute values\n",
    "\n",
    "2. **c** - draw a bezier curve. The final coordinate and two control points are specified.\n",
    "\n",
    "3. **l** draw a straight line from the last point specified  to the next coordinate.\n",
    "\n",
    "4. **z** - close the current path by drawing a straight line from the last point specified to the first point in the path. The resulting area can be filled. The fill color is specified by the **style** paramener.\n",
    "\n",
    "If a command is followed by more coordite values than the command needs, the same command is implied. This continues until another literal command letter is seen.\n",
    "\n",
    "Let's set up a function to process a path using some simple methods to handle each command:"
   ]
  },
  {
   "cell_type": "code",
   "execution_count": 51,
   "metadata": {},
   "outputs": [
    {
     "name": "stdout",
     "output_type": "stream",
     "text": [
      "<svg xmlns=\"http://www.w3.org/2000/svg\"\n",
      "xmlns:xlink=\"http://www.w3.org/1999/xlink\"\n",
      "width=\"141\" height=\"275\">\n",
      "<path d=\"\n",
      "M 61.08 246.98 62.19 217.27 C 48.48 223.57 41.16 228.12 42.86 239.33 43.67 248.09 35.86 247.03 34.54 239.80 28.85 231.01 26.84 224.46 38.29 221.64 47.99 216.78 56.48 210.25 64.99 203.62 71.36 198.31 76.98 193.15 80.82 184.23 83.91 167.83 85.30 151.12 83.69 134.49 L 81.53 116.04 C 78.90 107.49 62.92 111.42 53.10 110.98 43.46 112.69 33.80 114.70 24.64 118.27 16.30 114.88 2.62 133.42 2.10 117.62 4.03 109.84 15.95 112.04 22.47 109.70 29.65 108.83 36.56 106.64 43.47 104.92 52.86 103.67 62.18 101.84 71.61 101.09 78.13 99.34 78.53 89.38 78.35 82.13 C 77.57 77.22 78.05 71.88 74.15 68.10 67.13 64.95 57.85 52.82 66.61 45.95 C 74.42 40.82 79.59 43.92 87.41 47.08 81.38 59.48 97.31 73.19 107.11 61.32 112.43 51.94 116.13 41.73 121.77 32.51 126.21 25.19 132.67 14.05 141.13 12.73 145.43 25.15 127.35 29.08 126.11 40.71 121.61 52.17 117.32 63.71 109.99 73.77 105.08 83.92 107.97 95.69 106.45 106.74 106.28 127.65 107.70 149.35 105.03 170.10 102.39 182.47 94.98 193.23 85.10 200.98 74.70 208.77 71.69 217.63 71.29 232.26 71.82 242.64 69.67 252.57 70.79 263.20 70.30 271.02 82.36 267.10 82.42 272.59 84.54 278.59 68.97 278.42 59.98 275.02 Z C 60.49 270.98 62.79 278.94 59.98 275.02 Z \n",
      "    \"\n",
      "    style=\"fill:#000000\"\n",
      "  />\n",
      "</svg>\n",
      "\n"
     ]
    }
   ],
   "source": [
    "x = 0\n",
    "y = 0\n",
    "i = 0\n",
    "xmin = 5000\n",
    "ymin = 5000\n",
    "xmax = -5000\n",
    "ymax = -5000\n",
    "\n",
    "numitems = len(items)\n",
    "command = ''\n",
    "\n",
    "def split_coord(cstr):\n",
    "    x,y = cstr.split(',')\n",
    "    x = float(x)\n",
    "    y = float(y)\n",
    "    return x,y\n",
    "\n",
    "def move(i, relative):\n",
    "    global x,y, newpath\n",
    "    \n",
    "    dx,dy = split_coord(items[i])\n",
    "    if relative:\n",
    "        x += dx\n",
    "        y += dy\n",
    "    else:\n",
    "        x = dx\n",
    "        y = dy\n",
    "    xs = \"%.2f\" % x\n",
    "    ys = \"%.2f\" % y\n",
    "    newpath.extend([xs,ys])\n",
    "    return 1\n",
    "            \n",
    "def curve(i, relative):\n",
    "    global x, y, newpath\n",
    "    cx1,cy1 = split_coord(items[i])\n",
    "    cx2,cy2 = split_coord(items[i+1])\n",
    "    cx3,cy3 = split_coord(items[i+2])\n",
    "    if relative:\n",
    "        cx1 = x + cx1\n",
    "        cy1 = y + cy1\n",
    "        cx2 = x + cx2\n",
    "        cy2 = y + cy2\n",
    "        x += cx3\n",
    "        y += cy3\n",
    "    else:\n",
    "        x = cx3\n",
    "        y = cy3\n",
    "    cx1 = \"%.2f\" % cx1\n",
    "    cy1 = \"%.2f\" % cy1\n",
    "    cx2 = \"%.2f\" % cx2\n",
    "    cy2 = \"%.2f\" % cy2\n",
    "    xs = \"%.2f\" % x\n",
    "    ys = \"%.2f\" % y\n",
    "    newpath.extend([cx1,cy1,cx2,cy2,xs,ys])\n",
    "    return 3\n",
    "\n",
    "def close(i, relative):\n",
    "    return 1\n",
    "    \n",
    "def commands(argument, i):\n",
    "    relative = argument.islower()\n",
    "    switcher = {\n",
    "        'm' : move,\n",
    "        'M' : move,\n",
    "        'c' : curve,\n",
    "        'C' : curve,\n",
    "        'l' : move,\n",
    "        'L' : move,\n",
    "        'z' : close,\n",
    "        'Z' : close,\n",
    "    }\n",
    "    func = switcher.get(argument, lambda: \"Invalid command\")\n",
    "    return func(i, relative)\n",
    "    \n",
    "def gen_svg(xmax, ymax, path):\n",
    "    svg = \"\"\"<svg xmlns=\"http://www.w3.org/2000/svg\"\n",
    "xmlns:xlink=\"http://www.w3.org/1999/xlink\"\n",
    "width=\"%d\" height=\"%d\">\n",
    "<path d=\"\n",
    "\"\"\"% (xmax, ymax)\n",
    "    for item in path:\n",
    "        svg += str(item)\n",
    "        svg += \" \"\n",
    "    svg += \"\"\"\n",
    "    \"\n",
    "    style=\"fill:#000000\"\n",
    "  />\n",
    "</svg>\n",
    "\"\"\"   \n",
    "    print(svg)\n",
    "\n",
    "newpath = []\n",
    "while i < numitems:\n",
    "    command = items[i]\n",
    "    i += 1\n",
    "    newpath.append(command.upper())\n",
    "    done = False\n",
    "    while not done:\n",
    "        i += commands(command,i)\n",
    "        if x > xmax: xmax = x\n",
    "        if y > ymax: ymax = y\n",
    "        if x < xmin: xmin = x\n",
    "        if y < ymin: ymin = y\n",
    "            \n",
    "        done = i >= numitems or  items[i].isalpha()\n",
    "gen_svg(xmax, ymax, newpath)\n",
    "        "
   ]
  },
  {
   "cell_type": "code",
   "execution_count": 14,
   "metadata": {},
   "outputs": [
    {
     "name": "stdout",
     "output_type": "stream",
     "text": [
      "M\n",
      "C\n",
      "61.078806,246.98201  \n",
      "1.107051,-29.7141  \n",
      "c  \n",
      "L\n",
      "C\n",
      "61.078806,246.98201  \n",
      "1.107051,-29.7141  \n",
      "c  \n",
      "C\n",
      "61.078806,246.98201  \n",
      "1.107051,-29.7141  \n",
      "c  \n",
      "C\n",
      "61.078806,246.98201  \n",
      "1.107051,-29.7141  \n",
      "c  \n",
      "Z\n",
      "M\n",
      "C\n",
      "61.078806,246.98201  \n",
      "1.107051,-29.7141  \n",
      "c  \n",
      "Z\n"
     ]
    }
   ],
   "source": [
    "itemnum = 0\n",
    "numitems = len(items)\n",
    "\n",
    "def curve(argument):\n",
    "    print(\"C\")\n",
    "    for n in range(1,4):\n",
    "        print(items[itemnum + n],\" \",)\n",
    "    \n",
    "    \n",
    "def move(argument):\n",
    "    print(\"M\")\n",
    "    \n",
    "def line(argument):\n",
    "    print(\"L\")\n",
    "    \n",
    "    \n",
    "def close(argument):\n",
    "    print('Z')\n",
    "    \n",
    "def commands(argument):\n",
    "    switcher = {\n",
    "        'm' : move,\n",
    "        'M' : move,\n",
    "        'c' : curve,\n",
    "        'C' : curve,\n",
    "        'l' : line,\n",
    "        'L' : line,\n",
    "        'z' : close,\n",
    "        'Z' : close,\n",
    "    }\n",
    "    func = switcher.get(argument, lambda: \"Invalid command\")\n",
    "    func(argument)\n",
    "    \n",
    "for item in items:\n",
    "    if item.isalpha():\n",
    "        commands(item)"
   ]
  },
  {
   "cell_type": "code",
   "execution_count": null,
   "metadata": {},
   "outputs": [],
   "source": []
  },
  {
   "cell_type": "code",
   "execution_count": 31,
   "metadata": {},
   "outputs": [],
   "source": [
    "\n",
    "width = 1000\n",
    "height = 1000\n",
    "\n",
    "svg = drawSvg.Drawing(1000, 1000, origin=\"center\")\n",
    "\n",
    "# Draw an irregular polygon\n",
    "svg.append(draw.Lines(0, 0,\n",
    "                    500, 0,\n",
    "                    500, 500,\n",
    "                    0, 500,\n",
    "                    close=True,\n",
    "            fill=\"yellow\",\n",
    "            stroke=\"black\",\n",
    "            stroke_width=\"5\"))"
   ]
  },
  {
   "cell_type": "markdown",
   "metadata": {},
   "source": [
    "We could display this directly, but looking at the generated SVG will be handy for debugging the work we are going to do.\n",
    "\n",
    "Here is how we generate an SVG file from this test code\""
   ]
  },
  {
   "cell_type": "code",
   "execution_count": 32,
   "metadata": {},
   "outputs": [],
   "source": [
    "svg.saveSvg(\"_images/test1.svg\")"
   ]
  },
  {
   "cell_type": "markdown",
   "metadata": {},
   "source": [
    "We can create a simple python function to display our SVG files."
   ]
  },
  {
   "cell_type": "code",
   "execution_count": 33,
   "metadata": {},
   "outputs": [],
   "source": [
    "def show(filename):\n",
    "    with open('_images/%s' % filename) as fin:\n",
    "        lines = fin.readlines()\n",
    "    for l in lines:\n",
    "        print(l.rstrip())"
   ]
  },
  {
   "cell_type": "code",
   "execution_count": 29,
   "metadata": {},
   "outputs": [
    {
     "name": "stdout",
     "output_type": "stream",
     "text": [
      "<?xml version=\"1.0\" encoding=\"UTF-8\"?>\n",
      "<svg xmlns=\"http://www.w3.org/2000/svg\" xmlns:xlink=\"http://www.w3.org/1999/xlink\"\n",
      "     width=\"1000\" height=\"1000\" viewBox=\"0 -1000 1000 1000\">\n",
      "<defs>\n",
      "</defs>\n",
      "<path d=\"M0,0 L500,0 L500,-500 L0,-500 Z\" fill=\"yellow\" stroke=\"black\" stroke-width=\"5\" />\n",
      "</svg>\n"
     ]
    }
   ],
   "source": [
    "show(\"test1.svg\")"
   ]
  },
  {
   "cell_type": "markdown",
   "metadata": {},
   "source": [
    "the **drawSvg** package is doing a trick here. SVG uses a second concept, the **viewport** to set up a world coordinate system that we will look through to see our actual image. In this example code, the **viewport** is being set up so we can think of our drawing coordinates in more normal (for humans) coordinates with **y** moving up. If you look at the coordinates used in the **draw.Lines** function pairs are pairs of values defining an **x**,**y** point. The first point starts the drawing, and lines are drawn between each next point and the previous point specified. That gives three sides for the example box. The final side is created by \"closing\" the polygon. The entire box is filled using a color code (yellow in this case) specified on the **fill** parameter. \n",
    "\n",
    "Here is the image we created:"
   ]
  },
  {
   "cell_type": "code",
   "execution_count": 34,
   "metadata": {},
   "outputs": [
    {
     "data": {
      "image/svg+xml": [
       "<?xml version=\"1.0\" encoding=\"UTF-8\"?>\n",
       "<svg xmlns=\"http://www.w3.org/2000/svg\" xmlns:xlink=\"http://www.w3.org/1999/xlink\"\n",
       "     width=\"1000\" height=\"1000\" viewBox=\"-500.0 -500.0 1000 1000\">\n",
       "<defs>\n",
       "</defs>\n",
       "<path d=\"M0,0 L500,0 L500,-500 L0,-500 Z\" fill=\"yellow\" stroke=\"black\" stroke-width=\"5\" />\n",
       "</svg>"
      ],
      "text/plain": [
       "<drawSvg.drawing.Drawing at 0x115efbed0>"
      ]
     },
     "execution_count": 34,
     "metadata": {},
     "output_type": "execute_result"
    }
   ],
   "source": [
    "svg"
   ]
  },
  {
   "cell_type": "markdown",
   "metadata": {},
   "source": [
    "The image is scaled to fit the screen, but represents a normal piece of paper. There is a lot of extra space shown, but this image is showing an entire piece of paper, scaled to fit the width of the screen. We can eliminate all the blank space for testing by lowering the size of the drawing area. Since one of the goals of this effort is to produce a circluar badge containing the logo, we will switch to a square drawing canvas for future tests.\n",
    "\n",
    "\n",
    "### Examining the test svg code\n",
    "\n",
    "SVG code is based on XML and looks a lot like HGTML as well. That means it is based on blocks of code enclosed between \"tags\"\n",
    "\n",
    "Tags in SVG are names surrounded by angle brackets. Each defined tag specifies some kind of graphics component. These components may actually produce visible drawing elements, but othere are more administrative in nature.\n",
    "\n",
    "Each tag appear in two forms:  there is an \"open\" tag and a \"close\" tag. The difference is that the name of the tag begins with a slash on the \"close tag. Between these two tags, other SVG code will be contained. It is important that tags \"nest' properly. You cannot start a tag inside of another tag pair and not close it before the outer closing tag.\n",
    "\n",
    "The open tag can contain a set of parameters, which are space separqted parameter. Each parameter has a name followed by an equal sign, then the parameter value in quotes. The available parameters depend on the tag being used. \n",
    "\n",
    "The most important tag is the **svg** tag, which surrounds all code needed to produce a single image. The parameters in that **svg** tag set up the canvas and coordinate systems we will use. \n",
    "\n",
    "There is an empty set of tags named **def** that are not being used in this example. Finally, the box is displayed by defining the **path** to be drawn. The commands that actually draw the box are coded inside the string assigned to the parameter **d**. The individual SVG commands are simple to understand. but there are sev3ral of them available.\n",
    "\n",
    "1. **M** - mve a pen from wherever it is now to the specified coordinate. The pen is \"up\", meaning nothing is being drawn.\n",
    "\n",
    "2. **L** - draw  linw from the previous position to the indicated coordinate. In this case a straight line id drawn. The color of the lne and the size of the pen are controlled by the **stroke** and **stroke-width** parameters.\n",
    "\n",
    "3. **Z** - this colses a polygon drawn as a series of stratght lines. The final line will run from the last point specified to the first point specified. This should create a closed area suitable for \"filling\" with some color. "
   ]
  },
  {
   "cell_type": "markdown",
   "metadata": {
    "scrolled": true
   },
   "source": [
    "## Creating a US Flag\n",
    "\n",
    "The geometry of the US Flag is well defined. Basically, it is a simple rectangle with the width 1.9 times the height. We will place thirteen equal height stripes on this rectangle. If we start off with each stripe set to 100 high, then the flag dimensions are:"
   ]
  },
  {
   "cell_type": "code",
   "execution_count": 7,
   "metadata": {},
   "outputs": [
    {
     "name": "stdout",
     "output_type": "stream",
     "text": [
      "2470.0 1300\n"
     ]
    }
   ],
   "source": [
    "stripe_height = 100\n",
    "flag_height = 13 * stripe_height\n",
    "flag_width = 1.9 * flag_height\n",
    "\n",
    "print(flag_width, flag_height)"
   ]
  },
  {
   "cell_type": "markdown",
   "metadata": {},
   "source": [
    "The basic flag rectangle can now be set up:"
   ]
  },
  {
   "cell_type": "code",
   "execution_count": 8,
   "metadata": {},
   "outputs": [
    {
     "data": {
      "image/svg+xml": [
       "<?xml version=\"1.0\" encoding=\"UTF-8\"?>\n",
       "<svg xmlns=\"http://www.w3.org/2000/svg\" xmlns:xlink=\"http://www.w3.org/1999/xlink\"\n",
       "     width=\"600\" height=\"1140.0\" viewBox=\"0 -2470.0 1300 2470.0\">\n",
       "<defs>\n",
       "</defs>\n",
       "<path d=\"M0,0 L2470.0,0 L2470.0,-1300 L0,-1300 Z\" fill=\"red\" stroke=\"black\" />\n",
       "</svg>"
      ],
      "text/plain": [
       "<drawSvg.drawing.Drawing at 0x112417090>"
      ]
     },
     "execution_count": 8,
     "metadata": {},
     "output_type": "execute_result"
    }
   ],
   "source": [
    "flag = draw.Drawing(flag_height, flag_width)\n",
    "\n",
    "# Draw an irregular polygon\n",
    "flag.append(draw.Lines(0, 0,\n",
    "                    flag_width, 0,\n",
    "                    flag_width, flag_height,\n",
    "                    0, flag_height,\n",
    "                    close=True,\n",
    "            fill='red',\n",
    "            stroke='black'))\n",
    "flag.setRenderSize(600)"
   ]
  },
  {
   "cell_type": "code",
   "execution_count": 39,
   "metadata": {},
   "outputs": [
    {
     "data": {
      "image/svg+xml": [
       "<?xml version=\"1.0\" encoding=\"UTF-8\"?>\n",
       "<svg xmlns=\"http://www.w3.org/2000/svg\" xmlns:xlink=\"http://www.w3.org/1999/xlink\"\n",
       "     width=\"1300\" height=\"2470.0\" viewBox=\"0 -2470.0 1300 2470.0\">\n",
       "<defs>\n",
       "</defs>\n",
       "<path d=\"M0,0 L2470.0,0 L2470.0,-1300 L0,-1300 Z\" fill=\"red\" stroke=\"black\" />\n",
       "</svg>"
      ],
      "text/plain": [
       "<drawSvg.drawing.Drawing at 0x11232d5d0>"
      ]
     },
     "execution_count": 39,
     "metadata": {},
     "output_type": "execute_result"
    }
   ],
   "source": [
    "flag"
   ]
  },
  {
   "cell_type": "code",
   "execution_count": null,
   "metadata": {},
   "outputs": [],
   "source": []
  }
 ],
 "metadata": {
  "kernelspec": {
   "display_name": "Python 3",
   "language": "python",
   "name": "python3"
  },
  "language_info": {
   "codemirror_mode": {
    "name": "ipython",
    "version": 3
   },
   "file_extension": ".py",
   "mimetype": "text/x-python",
   "name": "python",
   "nbconvert_exporter": "python",
   "pygments_lexer": "ipython3",
   "version": "3.7.5"
  }
 },
 "nbformat": 4,
 "nbformat_minor": 4
}
