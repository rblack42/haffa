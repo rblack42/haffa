{
 "cells": [
  {
   "cell_type": "markdown",
   "metadata": {},
   "source": [
    "\n",
    "# Building the HAFFA Logo"
   ]
  },
  {
   "cell_type": "markdown",
   "metadata": {},
   "source": [
    "<svg>\n",
    "<ellipse style=\"fill:#00ff00;stroke:#000000;\" cx=\"50\" cy=\"50\" rx=\"48\" ry=\"48\">\n",
    "<ellipse>\n",
    "</svg>"
   ]
  },
  {
   "cell_type": "markdown",
   "metadata": {},
   "source": [
    "The HAFFA logo was originally drawn up by Diane Basta and scanned to provide an image file. That image file has been in use for a long time, appearing on club hats, tee-shirts and the club website. However, scaling the logo up for use on banners, or incorporating it in a badge for use on models or membership cards has not been practical. \n",
    "\n",
    "<img src=\"_images/haffa-logo.jpg\">\n",
    "\n",
    "In this note, we will construct an SVG file that can provide the missing functionality. We will use a Python Jupyter notebook so you can see how this new logo is being generated from the original club logo.\n",
    "\n",
    "## Logo Components\n",
    "\n",
    "The original logo has five basic elements:\n",
    "\n",
    "1. The US Flag\n",
    "\n",
    "2. A heart shape mask used to cut off parts of the flag\n",
    "\n",
    "3. A Modeler launching an airplane\n",
    "\n",
    "4. A free-flight  model\n",
    "\n",
    "5. The text \"HAFFA\" styled in what looks like the papyrus font\n",
    "\n",
    "## Tracing the image file\n",
    "\n",
    "I started off by using **Snagit** to crop off the modeler, airplane and HAFFA text from the image file. The flag and heart are well defined, so there was no need to attempt to process those parts of the logo image. I broke up the text into the three letters used so each could be processed individually.\n",
    "\n",
    "Ouce I had isolated those components, I used **Inkscape** to trace the  parts, producing a rough SVG version of each item. The resulting vector form of each component was very messy, since the resolution of the images used was fairly low. \n",
    "\n",
    "I then manually edited the images using **Inkscape**, deleting many of the generated points to smooth up the final SVG for each item. Here are the component files I produced:\n",
    "\n",
    "### Pilot:\n",
    "\n",
    "<img src=\"_images/haffa-pilot.svg\">\n",
    "\n",
    "### Airplane:\n",
    "\n",
    "<img src=\"_images/haffa-airplane.svg\">\n",
    "\n",
    "### Letter H:\n",
    "\n",
    "<img src=\"_images/haffa-letter-H.svg\">\n",
    "\n",
    "### Letter A:\n",
    "\n",
    "<img src=\"_images/haffa-letter-A.svg\">\n",
    "\n",
    "### Letter F:\n",
    "\n",
    "<img src=\"_images/haffa-letter-F.svg\">\n",
    "\n",
    "All of these elements stll retail the hand-drawn feel. We may tweak them as we build large format images from the final SVG we produce.\n",
    "\n",
    "\n",
    "## Create a Basic SVG file\n",
    "\n",
    "SVG is a text format, based on XML, which uses \"tags\" to identify each fundamental component of an image. If you have not seen this type of markup before, the idea is pretty simple. Here is a basic \"tag\":\n",
    "\n",
    "    <tagname parameters>\n",
    "      tag body\n",
    "    </tag>\n",
    "    \n",
    "Other tags can be placed in the tag body area producing a nested structure. It is common to indent those nested elements for readability.\n",
    "\n",
    "SVG defines a lot of tag names, each performing some action when the image file is displayed. Some tags cause visible drawing effects to appear. Other tags are mre administrative in nature.\n",
    "\n",
    "For instance, the outermost tag in any SVG file is the 88svg88 tag itself. we will see an example of this in a bit.\n",
    "\n",
    "We could just type up the svg file directly, but there are many calculations needed to come up with coordinate values we will need to placing the components of the logo, so I decided to generate the logo file using **Python**. \n",
    "\n",
    "Assuming that you have a machine with **Python** installed, you will need to install the **drawSVG** package using the standard python **pip** tool if you want to follow along with this process. \n",
    "\n",
    "Let's make sure we have the required setup with a simple test."
   ]
  },
  {
   "cell_type": "code",
   "execution_count": 18,
   "metadata": {},
   "outputs": [
    {
     "ename": "ModuleNotFoundError",
     "evalue": "No module named 'drawSVG'",
     "output_type": "error",
     "traceback": [
      "\u001b[0;31m---------------------------------------------------------------------------\u001b[0m",
      "\u001b[0;31mModuleNotFoundError\u001b[0m                       Traceback (most recent call last)",
      "\u001b[0;32m<ipython-input-18-493d651eb011>\u001b[0m in \u001b[0;36m<module>\u001b[0;34m\u001b[0m\n\u001b[0;32m----> 1\u001b[0;31m \u001b[0;32mimport\u001b[0m \u001b[0mdrawSVG\u001b[0m\u001b[0;34m\u001b[0m\u001b[0;34m\u001b[0m\u001b[0m\n\u001b[0m",
      "\u001b[0;31mModuleNotFoundError\u001b[0m: No module named 'drawSVG'"
     ]
    }
   ],
   "source": [
    "import drawSVG"
   ]
  },
  {
   "cell_type": "markdown",
   "metadata": {},
   "source": [
    "If you see no errors, things are ready to go.\n",
    "\n",
    "We need to define the drawing area we will be using to create this logo. SVG uses a simple user coordinate system, which traditionally maps to pixels on a computer screen. The physical size of the image depends on the resolution of the display you use to view the final image, so we assume it is just a dimensionless integer numbe3r that ranges from zero to some value in each direction. Normally, SVG sets up a coordinate system that is a bit odd to most humans. the **x** coordinate runs from zero at the left side of the image to some number at the right of the image. The **y** coordinate starts at zero at the top of the image, and runs down to some value. Fortunately, we specify the size of the drawing area in user coordinates using simple **width** and **height** parameters.\n",
    "\n",
    "SInce the logo will be used in a circular badge, we will begin by setting up a square space for the logo. The size is not especially important, but should be big enough so we can place components on the image properly. To make this easy, we will make the size of one side of the square 1000 points wide."
   ]
  },
  {
   "cell_type": "code",
   "execution_count": 31,
   "metadata": {},
   "outputs": [],
   "source": [
    "\n",
    "width = 1000\n",
    "height = 1000\n",
    "\n",
    "svg = drawSvg.Drawing(1000, 1000, origin=\"center\")\n",
    "\n",
    "# Draw an irregular polygon\n",
    "svg.append(draw.Lines(0, 0,\n",
    "                    500, 0,\n",
    "                    500, 500,\n",
    "                    0, 500,\n",
    "                    close=True,\n",
    "            fill=\"yellow\",\n",
    "            stroke=\"black\",\n",
    "            stroke_width=\"5\"))"
   ]
  },
  {
   "cell_type": "markdown",
   "metadata": {},
   "source": [
    "We could display this directly, but looking at the generated SVG will be handy for debugging the work we are going to do.\n",
    "\n",
    "Here is how we generate an SVG file from this test code\""
   ]
  },
  {
   "cell_type": "code",
   "execution_count": 32,
   "metadata": {},
   "outputs": [],
   "source": [
    "svg.saveSvg(\"_images/test1.svg\")"
   ]
  },
  {
   "cell_type": "markdown",
   "metadata": {},
   "source": [
    "We can create a simple python function to display our SVG files."
   ]
  },
  {
   "cell_type": "code",
   "execution_count": 33,
   "metadata": {},
   "outputs": [],
   "source": [
    "def show(filename):\n",
    "    with open('_images/%s' % filename) as fin:\n",
    "        lines = fin.readlines()\n",
    "    for l in lines:\n",
    "        print(l.rstrip())"
   ]
  },
  {
   "cell_type": "code",
   "execution_count": 29,
   "metadata": {},
   "outputs": [
    {
     "name": "stdout",
     "output_type": "stream",
     "text": [
      "<?xml version=\"1.0\" encoding=\"UTF-8\"?>\n",
      "<svg xmlns=\"http://www.w3.org/2000/svg\" xmlns:xlink=\"http://www.w3.org/1999/xlink\"\n",
      "     width=\"1000\" height=\"1000\" viewBox=\"0 -1000 1000 1000\">\n",
      "<defs>\n",
      "</defs>\n",
      "<path d=\"M0,0 L500,0 L500,-500 L0,-500 Z\" fill=\"yellow\" stroke=\"black\" stroke-width=\"5\" />\n",
      "</svg>\n"
     ]
    }
   ],
   "source": [
    "show(\"test1.svg\")"
   ]
  },
  {
   "cell_type": "markdown",
   "metadata": {},
   "source": [
    "the **drawSvg** package is doing a trick here. SVG uses a second concept, the **viewport** to set up a world coordinate system that we will look through to see our actual image. In this example code, the **viewport** is being set up so we can think of our drawing coordinates in more normal (for humans) coordinates with **y** moving up. If you look at the coordinates used in the **draw.Lines** function pairs are pairs of values defining an **x**,**y** point. The first point starts the drawing, and lines are drawn between each next point and the previous point specified. That gives three sides for the example box. The final side is created by \"closing\" the polygon. The entire box is filled using a color code (yellow in this case) specified on the **fill** parameter. \n",
    "\n",
    "Here is the image we created:"
   ]
  },
  {
   "cell_type": "code",
   "execution_count": 34,
   "metadata": {},
   "outputs": [
    {
     "data": {
      "image/svg+xml": [
       "<?xml version=\"1.0\" encoding=\"UTF-8\"?>\n",
       "<svg xmlns=\"http://www.w3.org/2000/svg\" xmlns:xlink=\"http://www.w3.org/1999/xlink\"\n",
       "     width=\"1000\" height=\"1000\" viewBox=\"-500.0 -500.0 1000 1000\">\n",
       "<defs>\n",
       "</defs>\n",
       "<path d=\"M0,0 L500,0 L500,-500 L0,-500 Z\" fill=\"yellow\" stroke=\"black\" stroke-width=\"5\" />\n",
       "</svg>"
      ],
      "text/plain": [
       "<drawSvg.drawing.Drawing at 0x115efbed0>"
      ]
     },
     "execution_count": 34,
     "metadata": {},
     "output_type": "execute_result"
    }
   ],
   "source": [
    "svg"
   ]
  },
  {
   "cell_type": "markdown",
   "metadata": {},
   "source": [
    "The image is scaled to fit the screen, but represents a normal piece of paper. There is a lot of extra space shown, but this image is showing an entire piece of paper, scaled to fit the width of the screen. We can eliminate all the blank space for testing by lowering the size of the drawing area. Since one of the goals of this effort is to produce a circluar badge containing the logo, we will switch to a square drawing canvas for future tests.\n",
    "\n",
    "\n",
    "### Examining the test svg code\n",
    "\n",
    "SVG code is based on XML and looks a lot like HGTML as well. That means it is based on blocks of code enclosed between \"tags\"\n",
    "\n",
    "Tags in SVG are names surrounded by angle brackets. Each defined tag specifies some kind of graphics component. These components may actually produce visible drawing elements, but othere are more administrative in nature.\n",
    "\n",
    "Each tag appear in two forms:  there is an \"open\" tag and a \"close\" tag. The difference is that the name of the tag begins with a slash on the \"close tag. Between these two tags, other SVG code will be contained. It is important that tags \"nest' properly. You cannot start a tag inside of another tag pair and not close it before the outer closing tag.\n",
    "\n",
    "The open tag can contain a set of parameters, which are space separqted parameter. Each parameter has a name followed by an equal sign, then the parameter value in quotes. The available parameters depend on the tag being used. \n",
    "\n",
    "The most important tag is the **svg** tag, which surrounds all code needed to produce a single image. The parameters in that **svg** tag set up the canvas and coordinate systems we will use. \n",
    "\n",
    "There is an empty set of tags named **def** that are not being used in this example. Finally, the box is displayed by defining the **path** to be drawn. The commands that actually draw the box are coded inside the string assigned to the parameter **d**. The individual SVG commands are simple to understand. but there are sev3ral of them available.\n",
    "\n",
    "1. **M** - mve a pen from wherever it is now to the specified coordinate. The pen is \"up\", meaning nothing is being drawn.\n",
    "\n",
    "2. **L** - draw  linw from the previous position to the indicated coordinate. In this case a straight line id drawn. The color of the lne and the size of the pen are controlled by the **stroke** and **stroke-width** parameters.\n",
    "\n",
    "3. **Z** - this colses a polygon drawn as a series of stratght lines. The final line will run from the last point specified to the first point specified. This should create a closed area suitable for \"filling\" with some color. "
   ]
  },
  {
   "cell_type": "markdown",
   "metadata": {
    "scrolled": true
   },
   "source": [
    "## Creating a US Flag\n",
    "\n",
    "The geometry of the US Flag is well defined. Basically, it is a simple rectangle with the width 1.9 times the height. We will place thirteen equal height stripes on this rectangle. If we start off with each stripe set to 100 high, then the flag dimensions are:"
   ]
  },
  {
   "cell_type": "code",
   "execution_count": 7,
   "metadata": {},
   "outputs": [
    {
     "name": "stdout",
     "output_type": "stream",
     "text": [
      "2470.0 1300\n"
     ]
    }
   ],
   "source": [
    "stripe_height = 100\n",
    "flag_height = 13 * stripe_height\n",
    "flag_width = 1.9 * flag_height\n",
    "\n",
    "print(flag_width, flag_height)"
   ]
  },
  {
   "cell_type": "markdown",
   "metadata": {},
   "source": [
    "The basic flag rectangle can now be set up:"
   ]
  },
  {
   "cell_type": "code",
   "execution_count": 8,
   "metadata": {},
   "outputs": [
    {
     "data": {
      "image/svg+xml": [
       "<?xml version=\"1.0\" encoding=\"UTF-8\"?>\n",
       "<svg xmlns=\"http://www.w3.org/2000/svg\" xmlns:xlink=\"http://www.w3.org/1999/xlink\"\n",
       "     width=\"600\" height=\"1140.0\" viewBox=\"0 -2470.0 1300 2470.0\">\n",
       "<defs>\n",
       "</defs>\n",
       "<path d=\"M0,0 L2470.0,0 L2470.0,-1300 L0,-1300 Z\" fill=\"red\" stroke=\"black\" />\n",
       "</svg>"
      ],
      "text/plain": [
       "<drawSvg.drawing.Drawing at 0x112417090>"
      ]
     },
     "execution_count": 8,
     "metadata": {},
     "output_type": "execute_result"
    }
   ],
   "source": [
    "flag = draw.Drawing(flag_height, flag_width)\n",
    "\n",
    "# Draw an irregular polygon\n",
    "flag.append(draw.Lines(0, 0,\n",
    "                    flag_width, 0,\n",
    "                    flag_width, flag_height,\n",
    "                    0, flag_height,\n",
    "                    close=True,\n",
    "            fill='red',\n",
    "            stroke='black'))\n",
    "flag.setRenderSize(600)"
   ]
  },
  {
   "cell_type": "code",
   "execution_count": 39,
   "metadata": {},
   "outputs": [
    {
     "data": {
      "image/svg+xml": [
       "<?xml version=\"1.0\" encoding=\"UTF-8\"?>\n",
       "<svg xmlns=\"http://www.w3.org/2000/svg\" xmlns:xlink=\"http://www.w3.org/1999/xlink\"\n",
       "     width=\"1300\" height=\"2470.0\" viewBox=\"0 -2470.0 1300 2470.0\">\n",
       "<defs>\n",
       "</defs>\n",
       "<path d=\"M0,0 L2470.0,0 L2470.0,-1300 L0,-1300 Z\" fill=\"red\" stroke=\"black\" />\n",
       "</svg>"
      ],
      "text/plain": [
       "<drawSvg.drawing.Drawing at 0x11232d5d0>"
      ]
     },
     "execution_count": 39,
     "metadata": {},
     "output_type": "execute_result"
    }
   ],
   "source": [
    "flag"
   ]
  },
  {
   "cell_type": "code",
   "execution_count": null,
   "metadata": {},
   "outputs": [],
   "source": []
  }
 ],
 "metadata": {
  "kernelspec": {
   "display_name": "Python 3",
   "language": "python",
   "name": "python3"
  },
  "language_info": {
   "codemirror_mode": {
    "name": "ipython",
    "version": 3
   },
   "file_extension": ".py",
   "mimetype": "text/x-python",
   "name": "python",
   "nbconvert_exporter": "python",
   "pygments_lexer": "ipython3",
   "version": "3.7.5"
  }
 },
 "nbformat": 4,
 "nbformat_minor": 4
}
